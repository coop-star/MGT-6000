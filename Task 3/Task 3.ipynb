{
 "cells": [
  {
   "cell_type": "markdown",
   "metadata": {},
   "source": [
    "# Task 3 - Build a Linear Forecasting Model\n",
    "In this task, we're going to employ linear regressions in a manner very similar to the latter portion of **D4**. Specifically, going to build a model to predict future income with some variables that you choose (points for the best model!). I'll also ask you to evaluate how your model performs for various types of companies.\n",
    "\n",
    "### Data files\n",
    "1. Compustat (Annual Financial Statement Data) from 2009 to 2019. Note that the full computstat manual is available through WRDS, but I've summarized some of the variables provided below:\n",
    "    * AT: Total Assets\n",
    "    * LT: Total Liabilities\n",
    "    * CEQ: Common Equity\n",
    "    * ACT: Current Assets\n",
    "    * LCT: Current Liabilities\n",
    "    * XRD: R&D Expense\n",
    "    * XSGA: SG&A (Total)\n",
    "    * XAD: Advertising Expense\n",
    "    * SALE: Total revenue\n",
    "    * DP: Depreciation & Amortization\n",
    "    * OIBDP: Operating Income before Depreciation\n",
    "    * IB: Income Before Extraordinary Items\n",
    "    * OANCF: Operating Cash Flows\n",
    "    * PRCC_F: Price at end of fiscal year\n",
    "    * CSHO: Common Shares Outstanding\n",
    " \n",
    "2. CRSP (Monthly Stock Return Data) from 2008 to 2019. As with Compustat, the full compustat manual is available through WRDS, but I've summarized some of the variables provided below:\n",
    "    * RET: Returns inclusive of reinvested dividends\n",
    "    * VWRETD: Value weighted market return including reinvested dividends\n",
    "    * BID: End of month closing \"best bid\"\n",
    "    * ASK: End of month closing \"best ask\" (or offer)\n",
    "    * PRC: Share Price at end of month\n",
    "\n",
    "### Requirements (summarized here, given in more detail below)\n",
    "1. Set up data and generate a table of summary statistics\n",
    "2. Estimate a very simple in-sample forecasting model, then expand to consider at least 3 alternatives.\n",
    "3. Build process to forecast out-of-sample, by year; evaluate performance of each of the models you develop in #2 using MSE.\n",
    "4. Evaluate whether earnings model works better or worse for large vs. small firms, and growth vs. value stocks.\n",
    "5. (6046 only) Evaluate which industry has lowest and highest out-of-sample MSE. You can use two-digit SIC codes to define industry. Comment on whether you find your results intuitive.\n",
    "\n",
    "## Requirement 1\n",
    "Let's start by setting up variables in Compustat and CRSP. I'm going to help get you started, but what you decide to do in part 2 will require you to revisit this step and define the variables you wish to use.\n",
    "\n",
    "First load each dataset:"
   ]
  },
  {
   "cell_type": "code",
   "metadata": {
    "collapsed": false,
    "jupyter": {
     "outputs_hidden": false,
     "is_executing": true
    }
   },
   "source": [
    "import pandas as pd, numpy as np\n",
    "\n",
    "folder = \"/Users/cooperdenning/PycharmProjects/pythonProject5/.venv/Task 3/Task3Data\" # update to correct folder path\n",
    "\n",
    "# Load datasets\n",
    "comp = pd.read_sas(f\"{folder}/Task3-Compustat.sas7bdat\",encoding='utf8')\n",
    "crsp = pd.read_sas(f\"{folder}/Task3-CRSP.sas7bdat\",encoding='utf8')\n",
    "\n",
    "# drop the \"SPREAD\" variable in CRSP to avoid confusion\n",
    "crsp = crsp.drop(columns=[\"SPREAD\"])\n",
    "print(comp)\n",
    "print(crsp)"
   ],
   "outputs": [],
   "execution_count": null
  },
  {
   "cell_type": "markdown",
   "metadata": {
    "collapsed": false,
    "jupyter": {
     "outputs_hidden": false
    }
   },
   "source": [
    "Next, we're going to delete firms in financial services industries (SIC codes between 6000 and 6999). These companies report a little differently, so we should probably exclude from this exercise since a forecasting model for them would require different inputs.\n",
    "\n",
    "Remove these firms now (hint: create a *mask* that identifies the inverse of rows with SIC codes in the range provided above):"
   ]
  },
  {
   "cell_type": "code",
   "metadata": {
    "collapsed": false,
    "jupyter": {
     "outputs_hidden": false
    },
    "ExecuteTime": {
     "end_time": "2024-10-28T20:29:54.290555Z",
     "start_time": "2024-10-28T20:29:54.241062Z"
    }
   },
   "source": [
    "# Convert SIC column to numeric, coercing errors to NaN for non-numeric entries\n",
    "comp['SIC'] = pd.to_numeric(comp['SIC'], errors='coerce')\n",
    "\n",
    "# Create a mask for rows where SIC code is *not* in the range 6000 to 6999 and filter out NaN\n",
    "mask = ~comp['SIC'].between(6000, 6999, inclusive='both')\n",
    "\n",
    "# Filter out financial services firms and rows with NaN SIC codes\n",
    "comp = comp[mask & comp['SIC'].notna()]\n"
   ],
   "outputs": [],
   "execution_count": 20
  },
  {
   "cell_type": "markdown",
   "metadata": {
    "collapsed": false,
    "jupyter": {
     "outputs_hidden": false
    }
   },
   "source": [
    "Next, go ahead and create two variables, `lag_at` and `lag_mve` as the lagged versions of total assets and total market value of equity."
   ]
  },
  {
   "cell_type": "code",
   "metadata": {
    "collapsed": false,
    "jupyter": {
     "outputs_hidden": false
    },
    "ExecuteTime": {
     "end_time": "2024-10-28T20:29:55.693219Z",
     "start_time": "2024-10-28T20:29:55.647356Z"
    }
   },
   "source": [
    "comp['mve'] = comp.eval('PRCC_F*CSHO')\n",
    "comp = comp.sort_values(by=['GVKEY','DATADATE'])\n",
    "comp['lag_mve'] = comp.groupby(['GVKEY'])['mve'].shift(1)\n",
    "comp['lag_at'] = comp.groupby(['GVKEY'])['AT'].shift(1)\n",
    "comp.head(10)"
   ],
   "outputs": [
    {
     "data": {
      "text/plain": [
       "    GVKEY   DATADATE   FYEAR  TIC   SIC      CONM      CUSIP       ACT  \\\n",
       "0  001004 2010-05-31  2009.0  AIR  5080  AAR CORP  000361105   863.429   \n",
       "1  001004 2011-05-31  2010.0  AIR  5080  AAR CORP  000361105   913.985   \n",
       "2  001004 2012-05-31  2011.0  AIR  5080  AAR CORP  000361105  1063.272   \n",
       "3  001004 2013-05-31  2012.0  AIR  5080  AAR CORP  000361105  1033.700   \n",
       "4  001004 2014-05-31  2013.0  AIR  5080  AAR CORP  000361105  1116.900   \n",
       "5  001004 2015-05-31  2014.0  AIR  5080  AAR CORP  000361105   954.100   \n",
       "6  001004 2016-05-31  2015.0  AIR  5080  AAR CORP  000361105   873.100   \n",
       "7  001004 2017-05-31  2016.0  AIR  5080  AAR CORP  000361105   888.500   \n",
       "8  001004 2018-05-31  2017.0  AIR  5080  AAR CORP  000361105   942.700   \n",
       "9  001004 2019-05-31  2018.0  AIR  5080  AAR CORP  000361105   952.500   \n",
       "\n",
       "         AT      CEQ  ...  PRCC_F  CONSOL  INDFMT  DATAFMT  POPSRC  CURCD  \\\n",
       "0  1501.042  746.906  ...   19.70       C    INDL      STD       D    USD   \n",
       "1  1703.727  835.845  ...   26.39       C    INDL      STD       D    USD   \n",
       "2  2195.653  864.649  ...   12.05       C    INDL      STD       D    USD   \n",
       "3  2136.900  918.600  ...   20.06       C    INDL      STD       D    USD   \n",
       "4  2199.500  999.500  ...   24.30       C    INDL      STD       D    USD   \n",
       "5  1515.000  845.100  ...   29.54       C    INDL      STD       D    USD   \n",
       "6  1442.100  865.800  ...   24.41       C    INDL      STD       D    USD   \n",
       "7  1504.100  914.200  ...   34.94       C    INDL      STD       D    USD   \n",
       "8  1524.700  936.300  ...   44.69       C    INDL      STD       D    USD   \n",
       "9  1517.200  905.900  ...   30.09       C    INDL      STD       D    USD   \n",
       "\n",
       "   COSTAT         mve     lag_mve    lag_at  \n",
       "0       A   777.83480         NaN       NaN  \n",
       "1       A  1049.82059   777.83480  1501.042  \n",
       "2       A   485.28965  1049.82059  1703.727  \n",
       "3       A   790.00292   485.28965  2195.653  \n",
       "4       A   961.30800   790.00292  2136.900  \n",
       "5       A  1046.39542   961.30800  2199.500  \n",
       "6       A   842.51115  1046.39542  1515.000  \n",
       "7       A  1200.32876   842.51115  1442.100  \n",
       "8       A  1551.45804  1200.32876  1504.100  \n",
       "9       A  1046.77092  1551.45804  1524.700  \n",
       "\n",
       "[10 rows x 31 columns]"
      ],
      "text/html": [
       "<div>\n",
       "<style scoped>\n",
       "    .dataframe tbody tr th:only-of-type {\n",
       "        vertical-align: middle;\n",
       "    }\n",
       "\n",
       "    .dataframe tbody tr th {\n",
       "        vertical-align: top;\n",
       "    }\n",
       "\n",
       "    .dataframe thead th {\n",
       "        text-align: right;\n",
       "    }\n",
       "</style>\n",
       "<table border=\"1\" class=\"dataframe\">\n",
       "  <thead>\n",
       "    <tr style=\"text-align: right;\">\n",
       "      <th></th>\n",
       "      <th>GVKEY</th>\n",
       "      <th>DATADATE</th>\n",
       "      <th>FYEAR</th>\n",
       "      <th>TIC</th>\n",
       "      <th>SIC</th>\n",
       "      <th>CONM</th>\n",
       "      <th>CUSIP</th>\n",
       "      <th>ACT</th>\n",
       "      <th>AT</th>\n",
       "      <th>CEQ</th>\n",
       "      <th>...</th>\n",
       "      <th>PRCC_F</th>\n",
       "      <th>CONSOL</th>\n",
       "      <th>INDFMT</th>\n",
       "      <th>DATAFMT</th>\n",
       "      <th>POPSRC</th>\n",
       "      <th>CURCD</th>\n",
       "      <th>COSTAT</th>\n",
       "      <th>mve</th>\n",
       "      <th>lag_mve</th>\n",
       "      <th>lag_at</th>\n",
       "    </tr>\n",
       "  </thead>\n",
       "  <tbody>\n",
       "    <tr>\n",
       "      <th>0</th>\n",
       "      <td>001004</td>\n",
       "      <td>2010-05-31</td>\n",
       "      <td>2009.0</td>\n",
       "      <td>AIR</td>\n",
       "      <td>5080</td>\n",
       "      <td>AAR CORP</td>\n",
       "      <td>000361105</td>\n",
       "      <td>863.429</td>\n",
       "      <td>1501.042</td>\n",
       "      <td>746.906</td>\n",
       "      <td>...</td>\n",
       "      <td>19.70</td>\n",
       "      <td>C</td>\n",
       "      <td>INDL</td>\n",
       "      <td>STD</td>\n",
       "      <td>D</td>\n",
       "      <td>USD</td>\n",
       "      <td>A</td>\n",
       "      <td>777.83480</td>\n",
       "      <td>NaN</td>\n",
       "      <td>NaN</td>\n",
       "    </tr>\n",
       "    <tr>\n",
       "      <th>1</th>\n",
       "      <td>001004</td>\n",
       "      <td>2011-05-31</td>\n",
       "      <td>2010.0</td>\n",
       "      <td>AIR</td>\n",
       "      <td>5080</td>\n",
       "      <td>AAR CORP</td>\n",
       "      <td>000361105</td>\n",
       "      <td>913.985</td>\n",
       "      <td>1703.727</td>\n",
       "      <td>835.845</td>\n",
       "      <td>...</td>\n",
       "      <td>26.39</td>\n",
       "      <td>C</td>\n",
       "      <td>INDL</td>\n",
       "      <td>STD</td>\n",
       "      <td>D</td>\n",
       "      <td>USD</td>\n",
       "      <td>A</td>\n",
       "      <td>1049.82059</td>\n",
       "      <td>777.83480</td>\n",
       "      <td>1501.042</td>\n",
       "    </tr>\n",
       "    <tr>\n",
       "      <th>2</th>\n",
       "      <td>001004</td>\n",
       "      <td>2012-05-31</td>\n",
       "      <td>2011.0</td>\n",
       "      <td>AIR</td>\n",
       "      <td>5080</td>\n",
       "      <td>AAR CORP</td>\n",
       "      <td>000361105</td>\n",
       "      <td>1063.272</td>\n",
       "      <td>2195.653</td>\n",
       "      <td>864.649</td>\n",
       "      <td>...</td>\n",
       "      <td>12.05</td>\n",
       "      <td>C</td>\n",
       "      <td>INDL</td>\n",
       "      <td>STD</td>\n",
       "      <td>D</td>\n",
       "      <td>USD</td>\n",
       "      <td>A</td>\n",
       "      <td>485.28965</td>\n",
       "      <td>1049.82059</td>\n",
       "      <td>1703.727</td>\n",
       "    </tr>\n",
       "    <tr>\n",
       "      <th>3</th>\n",
       "      <td>001004</td>\n",
       "      <td>2013-05-31</td>\n",
       "      <td>2012.0</td>\n",
       "      <td>AIR</td>\n",
       "      <td>5080</td>\n",
       "      <td>AAR CORP</td>\n",
       "      <td>000361105</td>\n",
       "      <td>1033.700</td>\n",
       "      <td>2136.900</td>\n",
       "      <td>918.600</td>\n",
       "      <td>...</td>\n",
       "      <td>20.06</td>\n",
       "      <td>C</td>\n",
       "      <td>INDL</td>\n",
       "      <td>STD</td>\n",
       "      <td>D</td>\n",
       "      <td>USD</td>\n",
       "      <td>A</td>\n",
       "      <td>790.00292</td>\n",
       "      <td>485.28965</td>\n",
       "      <td>2195.653</td>\n",
       "    </tr>\n",
       "    <tr>\n",
       "      <th>4</th>\n",
       "      <td>001004</td>\n",
       "      <td>2014-05-31</td>\n",
       "      <td>2013.0</td>\n",
       "      <td>AIR</td>\n",
       "      <td>5080</td>\n",
       "      <td>AAR CORP</td>\n",
       "      <td>000361105</td>\n",
       "      <td>1116.900</td>\n",
       "      <td>2199.500</td>\n",
       "      <td>999.500</td>\n",
       "      <td>...</td>\n",
       "      <td>24.30</td>\n",
       "      <td>C</td>\n",
       "      <td>INDL</td>\n",
       "      <td>STD</td>\n",
       "      <td>D</td>\n",
       "      <td>USD</td>\n",
       "      <td>A</td>\n",
       "      <td>961.30800</td>\n",
       "      <td>790.00292</td>\n",
       "      <td>2136.900</td>\n",
       "    </tr>\n",
       "    <tr>\n",
       "      <th>5</th>\n",
       "      <td>001004</td>\n",
       "      <td>2015-05-31</td>\n",
       "      <td>2014.0</td>\n",
       "      <td>AIR</td>\n",
       "      <td>5080</td>\n",
       "      <td>AAR CORP</td>\n",
       "      <td>000361105</td>\n",
       "      <td>954.100</td>\n",
       "      <td>1515.000</td>\n",
       "      <td>845.100</td>\n",
       "      <td>...</td>\n",
       "      <td>29.54</td>\n",
       "      <td>C</td>\n",
       "      <td>INDL</td>\n",
       "      <td>STD</td>\n",
       "      <td>D</td>\n",
       "      <td>USD</td>\n",
       "      <td>A</td>\n",
       "      <td>1046.39542</td>\n",
       "      <td>961.30800</td>\n",
       "      <td>2199.500</td>\n",
       "    </tr>\n",
       "    <tr>\n",
       "      <th>6</th>\n",
       "      <td>001004</td>\n",
       "      <td>2016-05-31</td>\n",
       "      <td>2015.0</td>\n",
       "      <td>AIR</td>\n",
       "      <td>5080</td>\n",
       "      <td>AAR CORP</td>\n",
       "      <td>000361105</td>\n",
       "      <td>873.100</td>\n",
       "      <td>1442.100</td>\n",
       "      <td>865.800</td>\n",
       "      <td>...</td>\n",
       "      <td>24.41</td>\n",
       "      <td>C</td>\n",
       "      <td>INDL</td>\n",
       "      <td>STD</td>\n",
       "      <td>D</td>\n",
       "      <td>USD</td>\n",
       "      <td>A</td>\n",
       "      <td>842.51115</td>\n",
       "      <td>1046.39542</td>\n",
       "      <td>1515.000</td>\n",
       "    </tr>\n",
       "    <tr>\n",
       "      <th>7</th>\n",
       "      <td>001004</td>\n",
       "      <td>2017-05-31</td>\n",
       "      <td>2016.0</td>\n",
       "      <td>AIR</td>\n",
       "      <td>5080</td>\n",
       "      <td>AAR CORP</td>\n",
       "      <td>000361105</td>\n",
       "      <td>888.500</td>\n",
       "      <td>1504.100</td>\n",
       "      <td>914.200</td>\n",
       "      <td>...</td>\n",
       "      <td>34.94</td>\n",
       "      <td>C</td>\n",
       "      <td>INDL</td>\n",
       "      <td>STD</td>\n",
       "      <td>D</td>\n",
       "      <td>USD</td>\n",
       "      <td>A</td>\n",
       "      <td>1200.32876</td>\n",
       "      <td>842.51115</td>\n",
       "      <td>1442.100</td>\n",
       "    </tr>\n",
       "    <tr>\n",
       "      <th>8</th>\n",
       "      <td>001004</td>\n",
       "      <td>2018-05-31</td>\n",
       "      <td>2017.0</td>\n",
       "      <td>AIR</td>\n",
       "      <td>5080</td>\n",
       "      <td>AAR CORP</td>\n",
       "      <td>000361105</td>\n",
       "      <td>942.700</td>\n",
       "      <td>1524.700</td>\n",
       "      <td>936.300</td>\n",
       "      <td>...</td>\n",
       "      <td>44.69</td>\n",
       "      <td>C</td>\n",
       "      <td>INDL</td>\n",
       "      <td>STD</td>\n",
       "      <td>D</td>\n",
       "      <td>USD</td>\n",
       "      <td>A</td>\n",
       "      <td>1551.45804</td>\n",
       "      <td>1200.32876</td>\n",
       "      <td>1504.100</td>\n",
       "    </tr>\n",
       "    <tr>\n",
       "      <th>9</th>\n",
       "      <td>001004</td>\n",
       "      <td>2019-05-31</td>\n",
       "      <td>2018.0</td>\n",
       "      <td>AIR</td>\n",
       "      <td>5080</td>\n",
       "      <td>AAR CORP</td>\n",
       "      <td>000361105</td>\n",
       "      <td>952.500</td>\n",
       "      <td>1517.200</td>\n",
       "      <td>905.900</td>\n",
       "      <td>...</td>\n",
       "      <td>30.09</td>\n",
       "      <td>C</td>\n",
       "      <td>INDL</td>\n",
       "      <td>STD</td>\n",
       "      <td>D</td>\n",
       "      <td>USD</td>\n",
       "      <td>A</td>\n",
       "      <td>1046.77092</td>\n",
       "      <td>1551.45804</td>\n",
       "      <td>1524.700</td>\n",
       "    </tr>\n",
       "  </tbody>\n",
       "</table>\n",
       "<p>10 rows × 31 columns</p>\n",
       "</div>"
      ]
     },
     "execution_count": 21,
     "metadata": {},
     "output_type": "execute_result"
    }
   ],
   "execution_count": 21
  },
  {
   "cell_type": "markdown",
   "metadata": {
    "collapsed": false,
    "jupyter": {
     "outputs_hidden": false
    }
   },
   "source": [
    "Next, let's compute two variables from the `crsp` dataset: (1) rolling 12 month buy-and-hold returns, and (2) average bid-ask spreads. Refer to your final two variables as `mar12` (for market-adjusted return) and `bidask12`. I've started the code for you below:"
   ]
  },
  {
   "cell_type": "code",
   "metadata": {
    "collapsed": false,
    "jupyter": {
     "outputs_hidden": false
    },
    "ExecuteTime": {
     "end_time": "2024-10-28T20:29:58.171884Z",
     "start_time": "2024-10-28T20:29:57.314339Z"
    }
   },
   "source": [
    "# Compute bid-ask spread as (ASK - BID)/PRC\n",
    "crsp['spread'] = (crsp['ASK'] - crsp['BID']) / crsp['PRC']\n",
    "\n",
    "# Compute rolling values (hint - remember to use logged returns)\n",
    "crsp['log_ret'] = np.log(1+crsp['RET'])\n",
    "crsp['log_mkt'] = np.log(1+crsp['VWRETD'])\n",
    "\n",
    "## Insert code to create rolling returns ##\n",
    "crsp['rolling_log_mkt'] = (\n",
    "    crsp.groupby('PERMNO')['log_mkt'] # initial groupby\n",
    "    .rolling(window=12, min_periods=12)  # 12-month window, require 12 observations to compute\n",
    "    .sum() # compute the sum of each rolling window\n",
    "    .reset_index(level=0, drop=True)  # remove the multi-index caused by groupby and rolling, allowing merge back to original\n",
    ")\n",
    "crsp['rolling_log_ret'] = (\n",
    "    crsp.groupby('PERMNO')['log_ret'] # initial groupby\n",
    "    .rolling(window=12, min_periods=12)  # 12-month window, require 12 observations to compute\n",
    "    .sum() # compute the sum of each rolling window\n",
    "    .reset_index(level=0, drop=True)  # remove the multi-index caused by groupby and rolling, allowing merge back to original\n",
    ")\n",
    "\n",
    "# Convert to buy-and-hold returns and average bid-ask spread\n",
    "crsp['mar12'] = np.exp(crsp['rolling_log_ret']) - np.exp(crsp['rolling_log_mkt'])\n",
    "crsp['bidask12'] = (\n",
    "    crsp.groupby('PERMNO')['spread'] # initial groupby\n",
    "    .rolling(window=12, min_periods=12)  # 12-month window, require 12 observations to compute\n",
    "    .mean() # compute the sum of each rolling window\n",
    "    .reset_index(level=0, drop=True)  # remove the multi-index caused by groupby and rolling, allowing merge back to original\n",
    ")"
   ],
   "outputs": [],
   "execution_count": 22
  },
  {
   "cell_type": "markdown",
   "metadata": {
    "collapsed": false,
    "jupyter": {
     "outputs_hidden": false
    }
   },
   "source": [
    "Now, merge with compustat. Remember to correct the CUSIP code in Compustat before completing the merge. For simplicity, you can ignore the 3-month offset we did in class (i.e., just merge on the same year-month):"
   ]
  },
  {
   "cell_type": "code",
   "metadata": {
    "collapsed": false,
    "jupyter": {
     "outputs_hidden": false
    },
    "ExecuteTime": {
     "end_time": "2024-10-28T20:29:59.413141Z",
     "start_time": "2024-10-28T20:29:59.245294Z"
    }
   },
   "source": [
    "\n",
    "# Correct the CUSIP code in compustat by truncating to the first 8 characters\n",
    "comp['CUSIP'] = comp['CUSIP'].str[:8]\n",
    "\n",
    "# Create the year-month (ym) object in compustat based on DATADATE\n",
    "comp['ym'] = comp['DATADATE'].dt.year * 100 + comp['DATADATE'].dt.month\n",
    "\n",
    "# Create the year-month (ym) object in crsp based on DATE\n",
    "crsp['ym'] = crsp['DATE'].dt.year * 100 + crsp['DATE'].dt.month\n",
    "\n",
    "# Perform an inner merge on CUSIP and ym\n",
    "both = pd.merge(comp, crsp, how='inner', on=['CUSIP', 'ym'])"
   ],
   "outputs": [],
   "execution_count": 23
  },
  {
   "cell_type": "markdown",
   "metadata": {},
   "source": [
    "Now, revenue `info()` for the `both` dataset (which should include both compustat and CRSP data). Comment on which variables are missing in more than 10% of observations in each dataset (if any)."
   ]
  },
  {
   "cell_type": "code",
   "metadata": {
    "collapsed": false,
    "jupyter": {
     "outputs_hidden": false
    },
    "ExecuteTime": {
     "end_time": "2024-10-28T20:30:00.525977Z",
     "start_time": "2024-10-28T20:30:00.510409Z"
    }
   },
   "source": [
    "both.info()"
   ],
   "outputs": [
    {
     "name": "stdout",
     "output_type": "stream",
     "text": [
      "<class 'pandas.core.frame.DataFrame'>\n",
      "RangeIndex: 34310 entries, 0 to 34309\n",
      "Data columns (total 46 columns):\n",
      " #   Column           Non-Null Count  Dtype        \n",
      "---  ------           --------------  -----        \n",
      " 0   GVKEY            34310 non-null  object       \n",
      " 1   DATADATE         34310 non-null  datetime64[s]\n",
      " 2   FYEAR            34310 non-null  float64      \n",
      " 3   TIC              34310 non-null  object       \n",
      " 4   SIC              34310 non-null  int64        \n",
      " 5   CONM             34310 non-null  object       \n",
      " 6   CUSIP            34310 non-null  object       \n",
      " 7   ACT              33439 non-null  float64      \n",
      " 8   AT               34107 non-null  float64      \n",
      " 9   CEQ              34049 non-null  float64      \n",
      " 10  LCT              33453 non-null  float64      \n",
      " 11  LT               34034 non-null  float64      \n",
      " 12  DP               34057 non-null  float64      \n",
      " 13  IB               34083 non-null  float64      \n",
      " 14  OIBDP            34058 non-null  float64      \n",
      " 15  SALE             34083 non-null  float64      \n",
      " 16  XAD              13612 non-null  float64      \n",
      " 17  XRD              21353 non-null  float64      \n",
      " 18  XSGA             30382 non-null  float64      \n",
      " 19  OANCF            34035 non-null  float64      \n",
      " 20  CSHO             34091 non-null  float64      \n",
      " 21  PRCC_F           34001 non-null  float64      \n",
      " 22  CONSOL           34310 non-null  object       \n",
      " 23  INDFMT           34310 non-null  object       \n",
      " 24  DATAFMT          34310 non-null  object       \n",
      " 25  POPSRC           34310 non-null  object       \n",
      " 26  CURCD            34310 non-null  object       \n",
      " 27  COSTAT           34310 non-null  object       \n",
      " 28  mve              33968 non-null  float64      \n",
      " 29  lag_mve          28883 non-null  float64      \n",
      " 30  lag_at           30405 non-null  float64      \n",
      " 31  ym               34310 non-null  int32        \n",
      " 32  PERMNO           34310 non-null  float64      \n",
      " 33  DATE             34310 non-null  datetime64[s]\n",
      " 34  PRC              33695 non-null  float64      \n",
      " 35  BID              33695 non-null  float64      \n",
      " 36  ASK              33695 non-null  float64      \n",
      " 37  RET              33549 non-null  float64      \n",
      " 38  VWRETD           34310 non-null  float64      \n",
      " 39  spread           33695 non-null  float64      \n",
      " 40  log_ret          33549 non-null  float64      \n",
      " 41  log_mkt          34310 non-null  float64      \n",
      " 42  rolling_log_mkt  32459 non-null  float64      \n",
      " 43  rolling_log_ret  31575 non-null  float64      \n",
      " 44  mar12            31575 non-null  float64      \n",
      " 45  bidask12         31692 non-null  float64      \n",
      "dtypes: datetime64[s](2), float64(32), int32(1), int64(1), object(10)\n",
      "memory usage: 11.9+ MB\n"
     ]
    }
   ],
   "execution_count": 24
  },
  {
   "cell_type": "markdown",
   "metadata": {
    "collapsed": false,
    "jupyter": {
     "outputs_hidden": false
    }
   },
   "source": [
    "**Comment on variables that having missing values for a large portion**:\n"
   ]
  },
  {
   "cell_type": "markdown",
   "metadata": {
    "collapsed": false,
    "jupyter": {
     "outputs_hidden": false
    }
   },
   "source": [
    "Now, we're going to construct some variables to use. I'm going to provide a few, but you are welcome to construct additional ones (HINT: If you use XRD, XAD, or XSGA, I recommend using `fillna(0)` to deal with missing values):"
   ]
  },
  {
   "cell_type": "code",
   "metadata": {
    "collapsed": false,
    "jupyter": {
     "outputs_hidden": false
    },
    "ExecuteTime": {
     "end_time": "2024-10-28T20:30:02.846115Z",
     "start_time": "2024-10-28T20:30:02.811989Z"
    }
   },
   "source": [
    "# Here are several different options, but I encourage you to add some more on your own to consider. \n",
    "# These were not deliverately selected but are included to illustrate how you might use some pandas methods\n",
    "\n",
    "both['earn_at'] = both.eval('IB/lag_at')\n",
    "both['fut_earn_at'] = both.groupby(['GVKEY'])['IB'].shift(-1) / both['lag_at']\n",
    "both['ocf_at'] = both.eval('OANCF/lag_at')\n",
    "both['accr_at'] = both.eval('earn_at - ocf_at')\n",
    "both['sales_growth'] = both.groupby(['GVKEY'])['SALE'].pct_change() # Percent change in sales (can use on others)\n",
    "both.loc[~np.isfinite(both['sales_growth']),'sales_growth'] = np.nan # addresses zero denominator issues\n",
    "both['adv_sales'] = both['XAD'].fillna(0) / both['SALE'] # sales growth\n",
    "both['loss'] = (both['IB']<0).astype(int)\n",
    "both['loss_earn'] = both['earn_at'] * both['loss']\n",
    "\n",
    "# Add additional ones. Potential candidates include ratios like book-to-market, current ratio, leverage, other\n",
    "# interactions, such as those between ratios and key earnings components, or non-linearities, such as other \n",
    "# functional forms, squared terms, etc.)\n",
    "both['Current_Ratio'] = both['ACT']/both['LCT']\n",
    "both['XRD2'] = both['XRD'].fillna(0) * both['XRD'].fillna(0)\n",
    "both['XRD/SALE'] = both['XRD'].fillna(0)/both['SALE']"
   ],
   "outputs": [
    {
     "name": "stderr",
     "output_type": "stream",
     "text": [
      "/var/folders/0t/hbx96cfd2rs2d7vnc5s370bc0000gn/T/ipykernel_66986/3103233354.py:8: FutureWarning: The default fill_method='ffill' in SeriesGroupBy.pct_change is deprecated and will be removed in a future version. Either fill in any non-leading NA values prior to calling pct_change or specify 'fill_method=None' to not fill NA values.\n",
      "  both['sales_growth'] = both.groupby(['GVKEY'])['SALE'].pct_change() # Percent change in sales (can use on others)\n"
     ]
    }
   ],
   "execution_count": 25
  },
  {
   "cell_type": "markdown",
   "metadata": {
    "collapsed": false,
    "jupyter": {
     "outputs_hidden": false
    }
   },
   "source": [
    "Finally, retain only the rows in the dataset that have all the variables you plan to use and those for firms with share prices greater than a dollar and lagged assets more than 10, and review descriptive statistics. Note that I've included an 'original_set' which you should not change, but you SHOULD consider two alternative specifications which you define in \"myset1\" and \"myset2\":"
   ]
  },
  {
   "cell_type": "code",
   "metadata": {
    "collapsed": false,
    "jupyter": {
     "outputs_hidden": false
    },
    "ExecuteTime": {
     "end_time": "2024-10-28T20:30:04.268047Z",
     "start_time": "2024-10-28T20:30:04.197499Z"
    }
   },
   "source": [
    "# Define your variables here (but don't change \"original_set\")\n",
    "xvars = {'original_set':['earn_at','ocf_at','loss','loss_earn','mar12'],\n",
    "         'myset1':['OIBDP', 'IB', 'SALE', 'AT', 'LT'], # Update with your candidate X variables\n",
    "         'myset2':['XRD/SALE', 'ACT', 'DP', 'XRD2', 'Current_Ratio'] # update your candidate X variables\n",
    "        }\n",
    "\n",
    "required_vars = ['fut_earn_at'] + [x for l in xvars.values() for x in l] # create one list of unique variables\n",
    "both = both.dropna(subset=required_vars)\n",
    "both = both.replace([np.inf, -np.inf], np.nan).dropna(subset=required_vars)\n",
    "\n",
    "# Drop prices less than 1 and lagged assets less than 10\n",
    "both = both[(both['PRC'] >= 1) & (both['lag_at'] >= 10)]\n",
    "\n",
    "# Review descriptive statistics for \"required_vars\"\n",
    "\n",
    "both[required_vars].describe()"
   ],
   "outputs": [
    {
     "data": {
      "text/plain": [
       "        fut_earn_at       earn_at        ocf_at          loss     loss_earn  \\\n",
       "count  21368.000000  21368.000000  21368.000000  21368.000000  21368.000000   \n",
       "mean      -0.013126     -0.004340      0.064109      0.301619     -0.062037   \n",
       "std        0.340348      0.238635      0.200845      0.458972      0.205171   \n",
       "min      -25.537477     -7.220720     -5.879982      0.000000     -7.220720   \n",
       "25%       -0.026755     -0.018748      0.038281      0.000000     -0.018748   \n",
       "50%        0.035709      0.037055      0.087253      0.000000      0.000000   \n",
       "75%        0.085131      0.081605      0.139597      1.000000      0.000000   \n",
       "max        3.052255      2.604123      2.394618      1.000000      0.000000   \n",
       "\n",
       "              mar12         OIBDP            IB           SALE             AT  \\\n",
       "count  21368.000000  21368.000000  21368.000000   21368.000000   21368.000000   \n",
       "mean       0.014395   1027.736402    385.503164    5758.882353    8117.246860   \n",
       "std        0.541534   3780.127538   1985.549446   21763.925844   27492.540928   \n",
       "min       -1.206356 -21913.000000 -22348.000000   -1964.999000       3.786000   \n",
       "25%       -0.265383     11.137000     -5.577000     179.128750     248.829000   \n",
       "50%       -0.043491    110.719500     25.546500     792.298000    1018.291000   \n",
       "75%        0.183891    517.581250    174.434750    3127.300000    4252.809250   \n",
       "max       15.279515  81730.000000  59531.000000  496785.000000  531864.000000   \n",
       "\n",
       "                  LT      XRD/SALE            ACT            DP          XRD2  \\\n",
       "count   21368.000000  21368.000000   21368.000000  21368.000000  2.136800e+04   \n",
       "mean     4912.337113      3.532607    2357.907946    363.672553  7.282133e+05   \n",
       "std     16730.308702    110.668983    8324.901957   1491.880460  1.029512e+07   \n",
       "min         0.087000     -0.000000       0.000000      0.000000  0.000000e+00   \n",
       "25%        87.128750      0.000000     110.528500      7.715250  0.000000e+00   \n",
       "50%       490.986000      0.003098     360.380500     38.773000  1.210000e+00   \n",
       "75%      2524.533250      0.079926    1317.109000    158.697250  1.351372e+03   \n",
       "max    337980.000000  12991.000000  170929.000000  28430.000000  8.315726e+08   \n",
       "\n",
       "       Current_Ratio  \n",
       "count   21368.000000  \n",
       "mean        2.795761  \n",
       "std         3.227273  \n",
       "min         0.000000  \n",
       "25%         1.279483  \n",
       "50%         1.946440  \n",
       "75%         3.137291  \n",
       "max        83.000000  "
      ],
      "text/html": [
       "<div>\n",
       "<style scoped>\n",
       "    .dataframe tbody tr th:only-of-type {\n",
       "        vertical-align: middle;\n",
       "    }\n",
       "\n",
       "    .dataframe tbody tr th {\n",
       "        vertical-align: top;\n",
       "    }\n",
       "\n",
       "    .dataframe thead th {\n",
       "        text-align: right;\n",
       "    }\n",
       "</style>\n",
       "<table border=\"1\" class=\"dataframe\">\n",
       "  <thead>\n",
       "    <tr style=\"text-align: right;\">\n",
       "      <th></th>\n",
       "      <th>fut_earn_at</th>\n",
       "      <th>earn_at</th>\n",
       "      <th>ocf_at</th>\n",
       "      <th>loss</th>\n",
       "      <th>loss_earn</th>\n",
       "      <th>mar12</th>\n",
       "      <th>OIBDP</th>\n",
       "      <th>IB</th>\n",
       "      <th>SALE</th>\n",
       "      <th>AT</th>\n",
       "      <th>LT</th>\n",
       "      <th>XRD/SALE</th>\n",
       "      <th>ACT</th>\n",
       "      <th>DP</th>\n",
       "      <th>XRD2</th>\n",
       "      <th>Current_Ratio</th>\n",
       "    </tr>\n",
       "  </thead>\n",
       "  <tbody>\n",
       "    <tr>\n",
       "      <th>count</th>\n",
       "      <td>21368.000000</td>\n",
       "      <td>21368.000000</td>\n",
       "      <td>21368.000000</td>\n",
       "      <td>21368.000000</td>\n",
       "      <td>21368.000000</td>\n",
       "      <td>21368.000000</td>\n",
       "      <td>21368.000000</td>\n",
       "      <td>21368.000000</td>\n",
       "      <td>21368.000000</td>\n",
       "      <td>21368.000000</td>\n",
       "      <td>21368.000000</td>\n",
       "      <td>21368.000000</td>\n",
       "      <td>21368.000000</td>\n",
       "      <td>21368.000000</td>\n",
       "      <td>2.136800e+04</td>\n",
       "      <td>21368.000000</td>\n",
       "    </tr>\n",
       "    <tr>\n",
       "      <th>mean</th>\n",
       "      <td>-0.013126</td>\n",
       "      <td>-0.004340</td>\n",
       "      <td>0.064109</td>\n",
       "      <td>0.301619</td>\n",
       "      <td>-0.062037</td>\n",
       "      <td>0.014395</td>\n",
       "      <td>1027.736402</td>\n",
       "      <td>385.503164</td>\n",
       "      <td>5758.882353</td>\n",
       "      <td>8117.246860</td>\n",
       "      <td>4912.337113</td>\n",
       "      <td>3.532607</td>\n",
       "      <td>2357.907946</td>\n",
       "      <td>363.672553</td>\n",
       "      <td>7.282133e+05</td>\n",
       "      <td>2.795761</td>\n",
       "    </tr>\n",
       "    <tr>\n",
       "      <th>std</th>\n",
       "      <td>0.340348</td>\n",
       "      <td>0.238635</td>\n",
       "      <td>0.200845</td>\n",
       "      <td>0.458972</td>\n",
       "      <td>0.205171</td>\n",
       "      <td>0.541534</td>\n",
       "      <td>3780.127538</td>\n",
       "      <td>1985.549446</td>\n",
       "      <td>21763.925844</td>\n",
       "      <td>27492.540928</td>\n",
       "      <td>16730.308702</td>\n",
       "      <td>110.668983</td>\n",
       "      <td>8324.901957</td>\n",
       "      <td>1491.880460</td>\n",
       "      <td>1.029512e+07</td>\n",
       "      <td>3.227273</td>\n",
       "    </tr>\n",
       "    <tr>\n",
       "      <th>min</th>\n",
       "      <td>-25.537477</td>\n",
       "      <td>-7.220720</td>\n",
       "      <td>-5.879982</td>\n",
       "      <td>0.000000</td>\n",
       "      <td>-7.220720</td>\n",
       "      <td>-1.206356</td>\n",
       "      <td>-21913.000000</td>\n",
       "      <td>-22348.000000</td>\n",
       "      <td>-1964.999000</td>\n",
       "      <td>3.786000</td>\n",
       "      <td>0.087000</td>\n",
       "      <td>-0.000000</td>\n",
       "      <td>0.000000</td>\n",
       "      <td>0.000000</td>\n",
       "      <td>0.000000e+00</td>\n",
       "      <td>0.000000</td>\n",
       "    </tr>\n",
       "    <tr>\n",
       "      <th>25%</th>\n",
       "      <td>-0.026755</td>\n",
       "      <td>-0.018748</td>\n",
       "      <td>0.038281</td>\n",
       "      <td>0.000000</td>\n",
       "      <td>-0.018748</td>\n",
       "      <td>-0.265383</td>\n",
       "      <td>11.137000</td>\n",
       "      <td>-5.577000</td>\n",
       "      <td>179.128750</td>\n",
       "      <td>248.829000</td>\n",
       "      <td>87.128750</td>\n",
       "      <td>0.000000</td>\n",
       "      <td>110.528500</td>\n",
       "      <td>7.715250</td>\n",
       "      <td>0.000000e+00</td>\n",
       "      <td>1.279483</td>\n",
       "    </tr>\n",
       "    <tr>\n",
       "      <th>50%</th>\n",
       "      <td>0.035709</td>\n",
       "      <td>0.037055</td>\n",
       "      <td>0.087253</td>\n",
       "      <td>0.000000</td>\n",
       "      <td>0.000000</td>\n",
       "      <td>-0.043491</td>\n",
       "      <td>110.719500</td>\n",
       "      <td>25.546500</td>\n",
       "      <td>792.298000</td>\n",
       "      <td>1018.291000</td>\n",
       "      <td>490.986000</td>\n",
       "      <td>0.003098</td>\n",
       "      <td>360.380500</td>\n",
       "      <td>38.773000</td>\n",
       "      <td>1.210000e+00</td>\n",
       "      <td>1.946440</td>\n",
       "    </tr>\n",
       "    <tr>\n",
       "      <th>75%</th>\n",
       "      <td>0.085131</td>\n",
       "      <td>0.081605</td>\n",
       "      <td>0.139597</td>\n",
       "      <td>1.000000</td>\n",
       "      <td>0.000000</td>\n",
       "      <td>0.183891</td>\n",
       "      <td>517.581250</td>\n",
       "      <td>174.434750</td>\n",
       "      <td>3127.300000</td>\n",
       "      <td>4252.809250</td>\n",
       "      <td>2524.533250</td>\n",
       "      <td>0.079926</td>\n",
       "      <td>1317.109000</td>\n",
       "      <td>158.697250</td>\n",
       "      <td>1.351372e+03</td>\n",
       "      <td>3.137291</td>\n",
       "    </tr>\n",
       "    <tr>\n",
       "      <th>max</th>\n",
       "      <td>3.052255</td>\n",
       "      <td>2.604123</td>\n",
       "      <td>2.394618</td>\n",
       "      <td>1.000000</td>\n",
       "      <td>0.000000</td>\n",
       "      <td>15.279515</td>\n",
       "      <td>81730.000000</td>\n",
       "      <td>59531.000000</td>\n",
       "      <td>496785.000000</td>\n",
       "      <td>531864.000000</td>\n",
       "      <td>337980.000000</td>\n",
       "      <td>12991.000000</td>\n",
       "      <td>170929.000000</td>\n",
       "      <td>28430.000000</td>\n",
       "      <td>8.315726e+08</td>\n",
       "      <td>83.000000</td>\n",
       "    </tr>\n",
       "  </tbody>\n",
       "</table>\n",
       "</div>"
      ]
     },
     "execution_count": 26,
     "metadata": {},
     "output_type": "execute_result"
    }
   ],
   "execution_count": 26
  },
  {
   "metadata": {},
   "cell_type": "markdown",
   "source": ""
  },
  {
   "cell_type": "markdown",
   "metadata": {
    "collapsed": false,
    "jupyter": {
     "outputs_hidden": false
    }
   },
   "source": [
    "Comment on variables where you observe potential outliers:\n",
    "..."
   ]
  },
  {
   "cell_type": "markdown",
   "metadata": {
    "collapsed": false,
    "jupyter": {
     "outputs_hidden": false
    }
   },
   "source": [
    "## Requirement 2\n",
    "Next, you're going to build a few classifiers that run on a pooled model and inspect the R2 value of each. We'll use sklearn since we're not really concerned with individual coefficents. Note that I purposely didn't address outliers yet. We're going to consider two approaches, and see which tends to work better. Specifically, we'll try:\n",
    "\n",
    "1. Ranking each independent variable and scaling such that it varies between 0 and 1, or\n",
    "2. Truncating the outer 1% of the sample (instead of winsorizing)"
   ]
  },
  {
   "cell_type": "markdown",
   "metadata": {
    "collapsed": false,
    "jupyter": {
     "outputs_hidden": false
    }
   },
   "source": [
    "We will set up two functions that accept a dataframe, and return the transformed version of that dataframe. These will be relatively simple so I'll go ahead and provide:"
   ]
  },
  {
   "cell_type": "code",
   "metadata": {
    "collapsed": false,
    "jupyter": {
     "outputs_hidden": false
    },
    "ExecuteTime": {
     "end_time": "2024-10-28T20:30:24.671490Z",
     "start_time": "2024-10-28T20:30:24.669100Z"
    }
   },
   "source": [
    "# No need to change anything here\n",
    "\n",
    "def rankdf(df):\n",
    "    return (df.rank(axis=0)-1)/(len(df)-1) # creates a fractional rank variable that varies between 0 and 1\n",
    "\n",
    "def truncatedf(df,outer=0.01): # returns trimmed dataset, removing \"outer\" percent of observations\n",
    "    dfr = rankdf(df)\n",
    "    mask = (dfr.min(axis=1)<outer) | (dfr.max(axis=1)>(1-outer))\n",
    "    return df[~mask]"
   ],
   "outputs": [],
   "execution_count": 27
  },
  {
   "cell_type": "markdown",
   "metadata": {
    "collapsed": false,
    "jupyter": {
     "outputs_hidden": false
    }
   },
   "source": [
    "Test each function, verifying the descriptive statistics are as you believe they should be (i.e., the ranked df varies between 0 and 1, except for indicators which may be different, and the truncated df has fewer rows with less obvious outliers):"
   ]
  },
  {
   "cell_type": "code",
   "metadata": {
    "collapsed": false,
    "jupyter": {
     "outputs_hidden": false
    },
    "ExecuteTime": {
     "end_time": "2024-10-28T20:30:45.076893Z",
     "start_time": "2024-10-28T20:30:44.420604Z"
    }
   },
   "source": [
    "# Generate descriptives for ranked variables\n",
    "ranked_df = rankdf(both)\n",
    "ranked_df.describe()"
   ],
   "outputs": [
    {
     "data": {
      "text/plain": [
       "              GVKEY      DATADATE         FYEAR           TIC           SIC  \\\n",
       "count  21368.000000  21368.000000  21368.000000  21368.000000  21368.000000   \n",
       "mean       0.500000      0.500000      0.500000      0.500000      0.500000   \n",
       "std        0.288695      0.287812      0.286527      0.288695      0.288634   \n",
       "min        0.000164      0.000023      0.008284      0.000164      0.001404   \n",
       "25%        0.250094      0.206908      0.204381      0.249941      0.250339   \n",
       "50%        0.499860      0.457364      0.455726      0.499977      0.498081   \n",
       "75%        0.749918      0.707984      0.706393      0.750012      0.749310   \n",
       "max        1.000000      0.954767      0.946319      1.000000      0.999204   \n",
       "\n",
       "               CONM         CUSIP           ACT            AT           CEQ  \\\n",
       "count  21368.000000  21368.000000  21368.000000  21368.000000  21332.000000   \n",
       "mean       0.500000      0.500000      0.500000      0.500000      0.499158   \n",
       "std        0.288695      0.288695      0.288695      0.288695      0.288209   \n",
       "min        0.000164      0.000047      0.000070      0.000000      0.000000   \n",
       "25%        0.249988      0.250082      0.250000      0.250000      0.249579   \n",
       "50%        0.499860      0.500047      0.500000      0.500000      0.499158   \n",
       "75%        0.749871      0.750152      0.750000      0.750000      0.748719   \n",
       "max        0.999860      0.999953      1.000000      1.000000      0.998315   \n",
       "\n",
       "       ...   fut_earn_at        ocf_at       accr_at  sales_growth  \\\n",
       "count  ...  21368.000000  21368.000000  21368.000000  21262.000000   \n",
       "mean   ...      0.500000      0.500000      0.500000      0.497520   \n",
       "std    ...      0.288695      0.288695      0.288695      0.287263   \n",
       "min    ...      0.000000      0.000000      0.000000      0.000000   \n",
       "25%    ...      0.250000      0.250000      0.250000      0.248760   \n",
       "50%    ...      0.500000      0.500000      0.500000      0.497520   \n",
       "75%    ...      0.750000      0.750000      0.750000      0.746279   \n",
       "max    ...      1.000000      1.000000      1.000000      0.995039   \n",
       "\n",
       "          adv_sales          loss     loss_earn  Current_Ratio          XRD2  \\\n",
       "count  21368.000000  21368.000000  21368.000000   21368.000000  21368.000000   \n",
       "mean       0.500000      0.500000      0.500000       0.500000      0.500000   \n",
       "std        0.257821      0.229497      0.234426       0.288695      0.272979   \n",
       "min        0.000000      0.349183      0.000000       0.000070      0.236556   \n",
       "25%        0.293630      0.349183      0.250000       0.250000      0.236556   \n",
       "50%        0.293630      0.349183      0.650817       0.500000      0.500257   \n",
       "75%        0.750000      0.849207      0.650817       0.750000      0.750006   \n",
       "max        1.000000      0.849207      0.650817       1.000000      1.000000   \n",
       "\n",
       "           XRD/SALE  \n",
       "count  21368.000000  \n",
       "mean       0.500000  \n",
       "std        0.272979  \n",
       "min        0.236556  \n",
       "25%        0.236556  \n",
       "50%        0.500000  \n",
       "75%        0.750000  \n",
       "max        1.000000  \n",
       "\n",
       "[8 rows x 57 columns]"
      ],
      "text/html": [
       "<div>\n",
       "<style scoped>\n",
       "    .dataframe tbody tr th:only-of-type {\n",
       "        vertical-align: middle;\n",
       "    }\n",
       "\n",
       "    .dataframe tbody tr th {\n",
       "        vertical-align: top;\n",
       "    }\n",
       "\n",
       "    .dataframe thead th {\n",
       "        text-align: right;\n",
       "    }\n",
       "</style>\n",
       "<table border=\"1\" class=\"dataframe\">\n",
       "  <thead>\n",
       "    <tr style=\"text-align: right;\">\n",
       "      <th></th>\n",
       "      <th>GVKEY</th>\n",
       "      <th>DATADATE</th>\n",
       "      <th>FYEAR</th>\n",
       "      <th>TIC</th>\n",
       "      <th>SIC</th>\n",
       "      <th>CONM</th>\n",
       "      <th>CUSIP</th>\n",
       "      <th>ACT</th>\n",
       "      <th>AT</th>\n",
       "      <th>CEQ</th>\n",
       "      <th>...</th>\n",
       "      <th>fut_earn_at</th>\n",
       "      <th>ocf_at</th>\n",
       "      <th>accr_at</th>\n",
       "      <th>sales_growth</th>\n",
       "      <th>adv_sales</th>\n",
       "      <th>loss</th>\n",
       "      <th>loss_earn</th>\n",
       "      <th>Current_Ratio</th>\n",
       "      <th>XRD2</th>\n",
       "      <th>XRD/SALE</th>\n",
       "    </tr>\n",
       "  </thead>\n",
       "  <tbody>\n",
       "    <tr>\n",
       "      <th>count</th>\n",
       "      <td>21368.000000</td>\n",
       "      <td>21368.000000</td>\n",
       "      <td>21368.000000</td>\n",
       "      <td>21368.000000</td>\n",
       "      <td>21368.000000</td>\n",
       "      <td>21368.000000</td>\n",
       "      <td>21368.000000</td>\n",
       "      <td>21368.000000</td>\n",
       "      <td>21368.000000</td>\n",
       "      <td>21332.000000</td>\n",
       "      <td>...</td>\n",
       "      <td>21368.000000</td>\n",
       "      <td>21368.000000</td>\n",
       "      <td>21368.000000</td>\n",
       "      <td>21262.000000</td>\n",
       "      <td>21368.000000</td>\n",
       "      <td>21368.000000</td>\n",
       "      <td>21368.000000</td>\n",
       "      <td>21368.000000</td>\n",
       "      <td>21368.000000</td>\n",
       "      <td>21368.000000</td>\n",
       "    </tr>\n",
       "    <tr>\n",
       "      <th>mean</th>\n",
       "      <td>0.500000</td>\n",
       "      <td>0.500000</td>\n",
       "      <td>0.500000</td>\n",
       "      <td>0.500000</td>\n",
       "      <td>0.500000</td>\n",
       "      <td>0.500000</td>\n",
       "      <td>0.500000</td>\n",
       "      <td>0.500000</td>\n",
       "      <td>0.500000</td>\n",
       "      <td>0.499158</td>\n",
       "      <td>...</td>\n",
       "      <td>0.500000</td>\n",
       "      <td>0.500000</td>\n",
       "      <td>0.500000</td>\n",
       "      <td>0.497520</td>\n",
       "      <td>0.500000</td>\n",
       "      <td>0.500000</td>\n",
       "      <td>0.500000</td>\n",
       "      <td>0.500000</td>\n",
       "      <td>0.500000</td>\n",
       "      <td>0.500000</td>\n",
       "    </tr>\n",
       "    <tr>\n",
       "      <th>std</th>\n",
       "      <td>0.288695</td>\n",
       "      <td>0.287812</td>\n",
       "      <td>0.286527</td>\n",
       "      <td>0.288695</td>\n",
       "      <td>0.288634</td>\n",
       "      <td>0.288695</td>\n",
       "      <td>0.288695</td>\n",
       "      <td>0.288695</td>\n",
       "      <td>0.288695</td>\n",
       "      <td>0.288209</td>\n",
       "      <td>...</td>\n",
       "      <td>0.288695</td>\n",
       "      <td>0.288695</td>\n",
       "      <td>0.288695</td>\n",
       "      <td>0.287263</td>\n",
       "      <td>0.257821</td>\n",
       "      <td>0.229497</td>\n",
       "      <td>0.234426</td>\n",
       "      <td>0.288695</td>\n",
       "      <td>0.272979</td>\n",
       "      <td>0.272979</td>\n",
       "    </tr>\n",
       "    <tr>\n",
       "      <th>min</th>\n",
       "      <td>0.000164</td>\n",
       "      <td>0.000023</td>\n",
       "      <td>0.008284</td>\n",
       "      <td>0.000164</td>\n",
       "      <td>0.001404</td>\n",
       "      <td>0.000164</td>\n",
       "      <td>0.000047</td>\n",
       "      <td>0.000070</td>\n",
       "      <td>0.000000</td>\n",
       "      <td>0.000000</td>\n",
       "      <td>...</td>\n",
       "      <td>0.000000</td>\n",
       "      <td>0.000000</td>\n",
       "      <td>0.000000</td>\n",
       "      <td>0.000000</td>\n",
       "      <td>0.000000</td>\n",
       "      <td>0.349183</td>\n",
       "      <td>0.000000</td>\n",
       "      <td>0.000070</td>\n",
       "      <td>0.236556</td>\n",
       "      <td>0.236556</td>\n",
       "    </tr>\n",
       "    <tr>\n",
       "      <th>25%</th>\n",
       "      <td>0.250094</td>\n",
       "      <td>0.206908</td>\n",
       "      <td>0.204381</td>\n",
       "      <td>0.249941</td>\n",
       "      <td>0.250339</td>\n",
       "      <td>0.249988</td>\n",
       "      <td>0.250082</td>\n",
       "      <td>0.250000</td>\n",
       "      <td>0.250000</td>\n",
       "      <td>0.249579</td>\n",
       "      <td>...</td>\n",
       "      <td>0.250000</td>\n",
       "      <td>0.250000</td>\n",
       "      <td>0.250000</td>\n",
       "      <td>0.248760</td>\n",
       "      <td>0.293630</td>\n",
       "      <td>0.349183</td>\n",
       "      <td>0.250000</td>\n",
       "      <td>0.250000</td>\n",
       "      <td>0.236556</td>\n",
       "      <td>0.236556</td>\n",
       "    </tr>\n",
       "    <tr>\n",
       "      <th>50%</th>\n",
       "      <td>0.499860</td>\n",
       "      <td>0.457364</td>\n",
       "      <td>0.455726</td>\n",
       "      <td>0.499977</td>\n",
       "      <td>0.498081</td>\n",
       "      <td>0.499860</td>\n",
       "      <td>0.500047</td>\n",
       "      <td>0.500000</td>\n",
       "      <td>0.500000</td>\n",
       "      <td>0.499158</td>\n",
       "      <td>...</td>\n",
       "      <td>0.500000</td>\n",
       "      <td>0.500000</td>\n",
       "      <td>0.500000</td>\n",
       "      <td>0.497520</td>\n",
       "      <td>0.293630</td>\n",
       "      <td>0.349183</td>\n",
       "      <td>0.650817</td>\n",
       "      <td>0.500000</td>\n",
       "      <td>0.500257</td>\n",
       "      <td>0.500000</td>\n",
       "    </tr>\n",
       "    <tr>\n",
       "      <th>75%</th>\n",
       "      <td>0.749918</td>\n",
       "      <td>0.707984</td>\n",
       "      <td>0.706393</td>\n",
       "      <td>0.750012</td>\n",
       "      <td>0.749310</td>\n",
       "      <td>0.749871</td>\n",
       "      <td>0.750152</td>\n",
       "      <td>0.750000</td>\n",
       "      <td>0.750000</td>\n",
       "      <td>0.748719</td>\n",
       "      <td>...</td>\n",
       "      <td>0.750000</td>\n",
       "      <td>0.750000</td>\n",
       "      <td>0.750000</td>\n",
       "      <td>0.746279</td>\n",
       "      <td>0.750000</td>\n",
       "      <td>0.849207</td>\n",
       "      <td>0.650817</td>\n",
       "      <td>0.750000</td>\n",
       "      <td>0.750006</td>\n",
       "      <td>0.750000</td>\n",
       "    </tr>\n",
       "    <tr>\n",
       "      <th>max</th>\n",
       "      <td>1.000000</td>\n",
       "      <td>0.954767</td>\n",
       "      <td>0.946319</td>\n",
       "      <td>1.000000</td>\n",
       "      <td>0.999204</td>\n",
       "      <td>0.999860</td>\n",
       "      <td>0.999953</td>\n",
       "      <td>1.000000</td>\n",
       "      <td>1.000000</td>\n",
       "      <td>0.998315</td>\n",
       "      <td>...</td>\n",
       "      <td>1.000000</td>\n",
       "      <td>1.000000</td>\n",
       "      <td>1.000000</td>\n",
       "      <td>0.995039</td>\n",
       "      <td>1.000000</td>\n",
       "      <td>0.849207</td>\n",
       "      <td>0.650817</td>\n",
       "      <td>1.000000</td>\n",
       "      <td>1.000000</td>\n",
       "      <td>1.000000</td>\n",
       "    </tr>\n",
       "  </tbody>\n",
       "</table>\n",
       "<p>8 rows × 57 columns</p>\n",
       "</div>"
      ]
     },
     "execution_count": 28,
     "metadata": {},
     "output_type": "execute_result"
    }
   ],
   "execution_count": 28
  },
  {
   "cell_type": "code",
   "metadata": {
    "collapsed": false,
    "jupyter": {
     "outputs_hidden": false
    },
    "ExecuteTime": {
     "end_time": "2024-10-28T20:30:47.652485Z",
     "start_time": "2024-10-28T20:30:46.998834Z"
    }
   },
   "source": [
    "# Generate descriptives for truncated variables\n",
    "truncateddf = truncatedf(both)\n",
    "truncateddf.describe()"
   ],
   "outputs": [
    {
     "data": {
      "text/plain": [
       "                  DATADATE         FYEAR           SIC           ACT  \\\n",
       "count                14477  14477.000000  14477.000000  14477.000000   \n",
       "mean   2015-05-06 08:55:56   2014.374732   4472.952131   1385.645497   \n",
       "min    2011-07-31 00:00:00   2011.000000   1040.000000      7.709000   \n",
       "25%    2013-02-28 00:00:00   2012.000000   3140.000000    141.167000   \n",
       "50%    2014-12-31 00:00:00   2014.000000   3829.000000    413.157000   \n",
       "75%    2016-12-31 00:00:00   2016.000000   5651.000000   1276.144000   \n",
       "max    2018-12-31 00:00:00   2018.000000   8731.000000  38128.000000   \n",
       "std                    NaN      2.245503   1924.011546   2879.060244   \n",
       "\n",
       "                  AT           CEQ           LCT            LT            DP  \\\n",
       "count   14477.000000  14455.000000  14477.000000  14477.000000  14477.000000   \n",
       "mean     4841.505039   1786.158433    939.955466   2952.572838    192.515443   \n",
       "min        15.692000   -570.900000      2.294000      3.156000      0.131000   \n",
       "25%       332.406000    146.498000     60.493000    121.957000     12.017000   \n",
       "50%      1191.119000    488.261000    205.054000    589.312000     45.729000   \n",
       "75%      4133.600000   1506.219500    715.000000   2367.539000    154.452000   \n",
       "max    122621.000000  57358.000000  29815.900000  82803.000000   7306.584000   \n",
       "std     10600.164727   3957.096669   2265.975690   6926.261223    468.365938   \n",
       "\n",
       "                 IB  ...   fut_earn_at        ocf_at       accr_at  \\\n",
       "count  14477.000000  ...  14477.000000  14477.000000  14477.000000   \n",
       "mean     218.341779  ...      0.019427      0.088131     -0.063019   \n",
       "min    -1040.000000  ...     -1.017237     -0.673521     -0.457604   \n",
       "25%        0.228000  ...     -0.007291      0.052239     -0.093917   \n",
       "50%       36.508000  ...      0.040244      0.092814     -0.054518   \n",
       "75%      181.935000  ...      0.085355      0.140304     -0.024619   \n",
       "max     7340.000000  ...      0.386917      0.408842      0.210721   \n",
       "std      599.152597  ...      0.140348      0.107983      0.072132   \n",
       "\n",
       "       sales_growth     adv_sales          loss     loss_earn  Current_Ratio  \\\n",
       "count  14452.000000  14477.000000  14477.000000  14477.000000   14477.000000   \n",
       "mean       0.104950      0.010391      0.247565     -0.028972       2.489437   \n",
       "min       -0.615902      0.000000      0.000000     -0.885893       0.362599   \n",
       "25%       -0.015407      0.000000      0.000000      0.000000       1.309698   \n",
       "50%        0.061816      0.000000      0.000000      0.000000       1.948091   \n",
       "75%        0.159790      0.007213      0.000000      0.000000       2.973474   \n",
       "max        6.707342      0.178853      1.000000      0.000000      15.476460   \n",
       "std        0.310832      0.024628      0.431613      0.086348       1.879977   \n",
       "\n",
       "               XRD2      XRD/SALE  \n",
       "count  1.447700e+04  14477.000000  \n",
       "mean   5.876581e+04      0.106453  \n",
       "min    0.000000e+00      0.000000  \n",
       "25%    0.000000e+00      0.000000  \n",
       "50%    1.239040e-01      0.000657  \n",
       "75%    1.128288e+03      0.061048  \n",
       "max    1.473792e+07     19.271231  \n",
       "std    4.971344e+05      0.638074  \n",
       "\n",
       "[8 rows x 47 columns]"
      ],
      "text/html": [
       "<div>\n",
       "<style scoped>\n",
       "    .dataframe tbody tr th:only-of-type {\n",
       "        vertical-align: middle;\n",
       "    }\n",
       "\n",
       "    .dataframe tbody tr th {\n",
       "        vertical-align: top;\n",
       "    }\n",
       "\n",
       "    .dataframe thead th {\n",
       "        text-align: right;\n",
       "    }\n",
       "</style>\n",
       "<table border=\"1\" class=\"dataframe\">\n",
       "  <thead>\n",
       "    <tr style=\"text-align: right;\">\n",
       "      <th></th>\n",
       "      <th>DATADATE</th>\n",
       "      <th>FYEAR</th>\n",
       "      <th>SIC</th>\n",
       "      <th>ACT</th>\n",
       "      <th>AT</th>\n",
       "      <th>CEQ</th>\n",
       "      <th>LCT</th>\n",
       "      <th>LT</th>\n",
       "      <th>DP</th>\n",
       "      <th>IB</th>\n",
       "      <th>...</th>\n",
       "      <th>fut_earn_at</th>\n",
       "      <th>ocf_at</th>\n",
       "      <th>accr_at</th>\n",
       "      <th>sales_growth</th>\n",
       "      <th>adv_sales</th>\n",
       "      <th>loss</th>\n",
       "      <th>loss_earn</th>\n",
       "      <th>Current_Ratio</th>\n",
       "      <th>XRD2</th>\n",
       "      <th>XRD/SALE</th>\n",
       "    </tr>\n",
       "  </thead>\n",
       "  <tbody>\n",
       "    <tr>\n",
       "      <th>count</th>\n",
       "      <td>14477</td>\n",
       "      <td>14477.000000</td>\n",
       "      <td>14477.000000</td>\n",
       "      <td>14477.000000</td>\n",
       "      <td>14477.000000</td>\n",
       "      <td>14455.000000</td>\n",
       "      <td>14477.000000</td>\n",
       "      <td>14477.000000</td>\n",
       "      <td>14477.000000</td>\n",
       "      <td>14477.000000</td>\n",
       "      <td>...</td>\n",
       "      <td>14477.000000</td>\n",
       "      <td>14477.000000</td>\n",
       "      <td>14477.000000</td>\n",
       "      <td>14452.000000</td>\n",
       "      <td>14477.000000</td>\n",
       "      <td>14477.000000</td>\n",
       "      <td>14477.000000</td>\n",
       "      <td>14477.000000</td>\n",
       "      <td>1.447700e+04</td>\n",
       "      <td>14477.000000</td>\n",
       "    </tr>\n",
       "    <tr>\n",
       "      <th>mean</th>\n",
       "      <td>2015-05-06 08:55:56</td>\n",
       "      <td>2014.374732</td>\n",
       "      <td>4472.952131</td>\n",
       "      <td>1385.645497</td>\n",
       "      <td>4841.505039</td>\n",
       "      <td>1786.158433</td>\n",
       "      <td>939.955466</td>\n",
       "      <td>2952.572838</td>\n",
       "      <td>192.515443</td>\n",
       "      <td>218.341779</td>\n",
       "      <td>...</td>\n",
       "      <td>0.019427</td>\n",
       "      <td>0.088131</td>\n",
       "      <td>-0.063019</td>\n",
       "      <td>0.104950</td>\n",
       "      <td>0.010391</td>\n",
       "      <td>0.247565</td>\n",
       "      <td>-0.028972</td>\n",
       "      <td>2.489437</td>\n",
       "      <td>5.876581e+04</td>\n",
       "      <td>0.106453</td>\n",
       "    </tr>\n",
       "    <tr>\n",
       "      <th>min</th>\n",
       "      <td>2011-07-31 00:00:00</td>\n",
       "      <td>2011.000000</td>\n",
       "      <td>1040.000000</td>\n",
       "      <td>7.709000</td>\n",
       "      <td>15.692000</td>\n",
       "      <td>-570.900000</td>\n",
       "      <td>2.294000</td>\n",
       "      <td>3.156000</td>\n",
       "      <td>0.131000</td>\n",
       "      <td>-1040.000000</td>\n",
       "      <td>...</td>\n",
       "      <td>-1.017237</td>\n",
       "      <td>-0.673521</td>\n",
       "      <td>-0.457604</td>\n",
       "      <td>-0.615902</td>\n",
       "      <td>0.000000</td>\n",
       "      <td>0.000000</td>\n",
       "      <td>-0.885893</td>\n",
       "      <td>0.362599</td>\n",
       "      <td>0.000000e+00</td>\n",
       "      <td>0.000000</td>\n",
       "    </tr>\n",
       "    <tr>\n",
       "      <th>25%</th>\n",
       "      <td>2013-02-28 00:00:00</td>\n",
       "      <td>2012.000000</td>\n",
       "      <td>3140.000000</td>\n",
       "      <td>141.167000</td>\n",
       "      <td>332.406000</td>\n",
       "      <td>146.498000</td>\n",
       "      <td>60.493000</td>\n",
       "      <td>121.957000</td>\n",
       "      <td>12.017000</td>\n",
       "      <td>0.228000</td>\n",
       "      <td>...</td>\n",
       "      <td>-0.007291</td>\n",
       "      <td>0.052239</td>\n",
       "      <td>-0.093917</td>\n",
       "      <td>-0.015407</td>\n",
       "      <td>0.000000</td>\n",
       "      <td>0.000000</td>\n",
       "      <td>0.000000</td>\n",
       "      <td>1.309698</td>\n",
       "      <td>0.000000e+00</td>\n",
       "      <td>0.000000</td>\n",
       "    </tr>\n",
       "    <tr>\n",
       "      <th>50%</th>\n",
       "      <td>2014-12-31 00:00:00</td>\n",
       "      <td>2014.000000</td>\n",
       "      <td>3829.000000</td>\n",
       "      <td>413.157000</td>\n",
       "      <td>1191.119000</td>\n",
       "      <td>488.261000</td>\n",
       "      <td>205.054000</td>\n",
       "      <td>589.312000</td>\n",
       "      <td>45.729000</td>\n",
       "      <td>36.508000</td>\n",
       "      <td>...</td>\n",
       "      <td>0.040244</td>\n",
       "      <td>0.092814</td>\n",
       "      <td>-0.054518</td>\n",
       "      <td>0.061816</td>\n",
       "      <td>0.000000</td>\n",
       "      <td>0.000000</td>\n",
       "      <td>0.000000</td>\n",
       "      <td>1.948091</td>\n",
       "      <td>1.239040e-01</td>\n",
       "      <td>0.000657</td>\n",
       "    </tr>\n",
       "    <tr>\n",
       "      <th>75%</th>\n",
       "      <td>2016-12-31 00:00:00</td>\n",
       "      <td>2016.000000</td>\n",
       "      <td>5651.000000</td>\n",
       "      <td>1276.144000</td>\n",
       "      <td>4133.600000</td>\n",
       "      <td>1506.219500</td>\n",
       "      <td>715.000000</td>\n",
       "      <td>2367.539000</td>\n",
       "      <td>154.452000</td>\n",
       "      <td>181.935000</td>\n",
       "      <td>...</td>\n",
       "      <td>0.085355</td>\n",
       "      <td>0.140304</td>\n",
       "      <td>-0.024619</td>\n",
       "      <td>0.159790</td>\n",
       "      <td>0.007213</td>\n",
       "      <td>0.000000</td>\n",
       "      <td>0.000000</td>\n",
       "      <td>2.973474</td>\n",
       "      <td>1.128288e+03</td>\n",
       "      <td>0.061048</td>\n",
       "    </tr>\n",
       "    <tr>\n",
       "      <th>max</th>\n",
       "      <td>2018-12-31 00:00:00</td>\n",
       "      <td>2018.000000</td>\n",
       "      <td>8731.000000</td>\n",
       "      <td>38128.000000</td>\n",
       "      <td>122621.000000</td>\n",
       "      <td>57358.000000</td>\n",
       "      <td>29815.900000</td>\n",
       "      <td>82803.000000</td>\n",
       "      <td>7306.584000</td>\n",
       "      <td>7340.000000</td>\n",
       "      <td>...</td>\n",
       "      <td>0.386917</td>\n",
       "      <td>0.408842</td>\n",
       "      <td>0.210721</td>\n",
       "      <td>6.707342</td>\n",
       "      <td>0.178853</td>\n",
       "      <td>1.000000</td>\n",
       "      <td>0.000000</td>\n",
       "      <td>15.476460</td>\n",
       "      <td>1.473792e+07</td>\n",
       "      <td>19.271231</td>\n",
       "    </tr>\n",
       "    <tr>\n",
       "      <th>std</th>\n",
       "      <td>NaN</td>\n",
       "      <td>2.245503</td>\n",
       "      <td>1924.011546</td>\n",
       "      <td>2879.060244</td>\n",
       "      <td>10600.164727</td>\n",
       "      <td>3957.096669</td>\n",
       "      <td>2265.975690</td>\n",
       "      <td>6926.261223</td>\n",
       "      <td>468.365938</td>\n",
       "      <td>599.152597</td>\n",
       "      <td>...</td>\n",
       "      <td>0.140348</td>\n",
       "      <td>0.107983</td>\n",
       "      <td>0.072132</td>\n",
       "      <td>0.310832</td>\n",
       "      <td>0.024628</td>\n",
       "      <td>0.431613</td>\n",
       "      <td>0.086348</td>\n",
       "      <td>1.879977</td>\n",
       "      <td>4.971344e+05</td>\n",
       "      <td>0.638074</td>\n",
       "    </tr>\n",
       "  </tbody>\n",
       "</table>\n",
       "<p>8 rows × 47 columns</p>\n",
       "</div>"
      ]
     },
     "execution_count": 29,
     "metadata": {},
     "output_type": "execute_result"
    }
   ],
   "execution_count": 29
  },
  {
   "cell_type": "markdown",
   "metadata": {
    "collapsed": false,
    "jupyter": {
     "outputs_hidden": false
    }
   },
   "source": [
    "Before we move to estimation, we're going to remove instances where future earnings exceed the value of lagged assets in absolute value. This may seem arbitrary, but it's unlikely we can do a good job forecasting when a company is literally earning the entire value of assets (or losing it) in a single period:"
   ]
  },
  {
   "cell_type": "code",
   "metadata": {
    "collapsed": false,
    "jupyter": {
     "outputs_hidden": false
    },
    "ExecuteTime": {
     "end_time": "2024-10-28T20:35:27.317295Z",
     "start_time": "2024-10-28T20:35:27.310044Z"
    }
   },
   "source": "both = both[both['fut_earn_at'].abs() <= 1]\n",
   "outputs": [],
   "execution_count": 37
  },
  {
   "cell_type": "markdown",
   "metadata": {
    "collapsed": false,
    "jupyter": {
     "outputs_hidden": false
    }
   },
   "source": [
    "Now, evaluate each of the three regressor sets your chose, as well as each of the two approaches to data cleaning. Recall that we are evaluating in-sample, we'll simply collect the R2 value (the \"score\" from each regression)."
   ]
  },
  {
   "cell_type": "code",
   "metadata": {
    "collapsed": false,
    "jupyter": {
     "outputs_hidden": false
    },
    "ExecuteTime": {
     "end_time": "2024-10-28T20:35:29.280908Z",
     "start_time": "2024-10-28T20:35:29.191057Z"
    }
   },
   "source": [
    "from sklearn.linear_model import LinearRegression\n",
    "\n",
    "records = []\n",
    "\n",
    "for label,x in xvars.items(): # will return label, list of xvars to iterate over\n",
    "    ols = LinearRegression() \n",
    "    \n",
    "    ranked = rankdf(both[x])  # Ensuring only x variables are included\n",
    "    truncated = truncatedf(both[x])\n",
    "\n",
    "    # Fit and score for ranked dataset\n",
    "    ols.fit(ranked, both.loc[ranked.index, 'fut_earn_at'])\n",
    "    records.append({\n",
    "        'xset': label,\n",
    "        'df': 'ranked',\n",
    "        'r2': ols.score(ranked, both.loc[ranked.index, 'fut_earn_at'])\n",
    "    })\n",
    "\n",
    "    # Fit and score for truncated dataset\n",
    "    ols.fit(truncated, both.loc[truncated.index, 'fut_earn_at'])\n",
    "    records.append({\n",
    "        'xset': label,\n",
    "        'df': 'truncated',\n",
    "        'r2': ols.score(truncated, both.loc[truncated.index, 'fut_earn_at'])\n",
    "    })\n",
    "\n",
    "resDF = pd.DataFrame(records)\n"
   ],
   "outputs": [],
   "execution_count": 38
  },
  {
   "cell_type": "markdown",
   "metadata": {
    "collapsed": false,
    "jupyter": {
     "outputs_hidden": false
    }
   },
   "source": [
    "Review the diagnostics in `resDF`. Which model appeared to work best? Which data cleaning approach? Bonus points for a barchart or other visualization that demonstrates the differences!"
   ]
  },
  {
   "cell_type": "code",
   "metadata": {
    "collapsed": false,
    "jupyter": {
     "outputs_hidden": false
    },
    "ExecuteTime": {
     "end_time": "2024-10-28T20:35:30.394347Z",
     "start_time": "2024-10-28T20:35:30.390369Z"
    }
   },
   "source": [
    "resDF"
   ],
   "outputs": [
    {
     "data": {
      "text/plain": [
       "           xset         df        r2\n",
       "0  original_set     ranked  0.506469\n",
       "1  original_set  truncated  0.545643\n",
       "2        myset1     ranked  0.295542\n",
       "3        myset1  truncated  0.039208\n",
       "4        myset2     ranked  0.208003\n",
       "5        myset2  truncated  0.167709"
      ],
      "text/html": [
       "<div>\n",
       "<style scoped>\n",
       "    .dataframe tbody tr th:only-of-type {\n",
       "        vertical-align: middle;\n",
       "    }\n",
       "\n",
       "    .dataframe tbody tr th {\n",
       "        vertical-align: top;\n",
       "    }\n",
       "\n",
       "    .dataframe thead th {\n",
       "        text-align: right;\n",
       "    }\n",
       "</style>\n",
       "<table border=\"1\" class=\"dataframe\">\n",
       "  <thead>\n",
       "    <tr style=\"text-align: right;\">\n",
       "      <th></th>\n",
       "      <th>xset</th>\n",
       "      <th>df</th>\n",
       "      <th>r2</th>\n",
       "    </tr>\n",
       "  </thead>\n",
       "  <tbody>\n",
       "    <tr>\n",
       "      <th>0</th>\n",
       "      <td>original_set</td>\n",
       "      <td>ranked</td>\n",
       "      <td>0.506469</td>\n",
       "    </tr>\n",
       "    <tr>\n",
       "      <th>1</th>\n",
       "      <td>original_set</td>\n",
       "      <td>truncated</td>\n",
       "      <td>0.545643</td>\n",
       "    </tr>\n",
       "    <tr>\n",
       "      <th>2</th>\n",
       "      <td>myset1</td>\n",
       "      <td>ranked</td>\n",
       "      <td>0.295542</td>\n",
       "    </tr>\n",
       "    <tr>\n",
       "      <th>3</th>\n",
       "      <td>myset1</td>\n",
       "      <td>truncated</td>\n",
       "      <td>0.039208</td>\n",
       "    </tr>\n",
       "    <tr>\n",
       "      <th>4</th>\n",
       "      <td>myset2</td>\n",
       "      <td>ranked</td>\n",
       "      <td>0.208003</td>\n",
       "    </tr>\n",
       "    <tr>\n",
       "      <th>5</th>\n",
       "      <td>myset2</td>\n",
       "      <td>truncated</td>\n",
       "      <td>0.167709</td>\n",
       "    </tr>\n",
       "  </tbody>\n",
       "</table>\n",
       "</div>"
      ]
     },
     "execution_count": 39,
     "metadata": {},
     "output_type": "execute_result"
    }
   ],
   "execution_count": 39
  },
  {
   "cell_type": "markdown",
   "metadata": {
    "collapsed": false,
    "jupyter": {
     "outputs_hidden": false
    }
   },
   "source": [
    "*Answer*\n",
    "The best model seems to be the original set. It has a higher R2 score than both the models I created. In terms of the best method for cleaning the data, for my sets it was the ranked approach but for the professor's sets it seems that it was the truncated approach. Not sure why this could be but if I had to guess it might be that he selected variables that had data that needed to have outliers truncated more than mine. "
   ]
  },
  {
   "cell_type": "markdown",
   "metadata": {
    "collapsed": false,
    "jupyter": {
     "outputs_hidden": false
    }
   },
   "source": [
    "## Requirement 3\n",
    "You're now going to take the work you did in requirement 2 and run it on an out-of-sample basis. The hard(est) work is done at this point. You'll simply set up a loop that iterates over each year of data, trying the different variable sets. Before we get started, examine the sample distribution across years in the sample:"
   ]
  },
  {
   "cell_type": "code",
   "metadata": {
    "collapsed": false,
    "jupyter": {
     "outputs_hidden": false
    },
    "ExecuteTime": {
     "end_time": "2024-10-28T20:35:38.004539Z",
     "start_time": "2024-10-28T20:35:38.000783Z"
    }
   },
   "source": [
    "# Generate a list of observations by year (hint-use value_counts() )\n",
    "both['year'] = both['DATADATE'].dt.year\n",
    "\n",
    "observations_by_year = both['year'].value_counts().sort_index()\n",
    "observations_by_year"
   ],
   "outputs": [
    {
     "data": {
      "text/plain": [
       "year\n",
       "2010       2\n",
       "2011    2664\n",
       "2012    2665\n",
       "2013    2663\n",
       "2014    2641\n",
       "2015    2672\n",
       "2016    2652\n",
       "2017    2605\n",
       "2018    2549\n",
       "Name: count, dtype: int64"
      ]
     },
     "execution_count": 40,
     "metadata": {},
     "output_type": "execute_result"
    }
   ],
   "execution_count": 40
  },
  {
   "cell_type": "markdown",
   "metadata": {
    "collapsed": false,
    "jupyter": {
     "outputs_hidden": false
    }
   },
   "source": [
    "From this result, set up your `for` loop. Remember to end the loop one year prior to the end of the sample so you can evaluate out-of-sample fit. We'll collect both mean squared error (as in class) as well as \"explained variance score\", which essentially an R-squared value. Finally, we're also going to collect the predictions themselves so we can answer the final questions/requirements.\n",
    "\n",
    "Note that you only need to evaluate the cleaning method that worked **best** in the pooled model (i.e., truncation or ranking)."
   ]
  },
  {
   "cell_type": "code",
   "metadata": {
    "collapsed": false,
    "jupyter": {
     "outputs_hidden": false
    },
    "ExecuteTime": {
     "end_time": "2024-10-28T20:53:38.419126Z",
     "start_time": "2024-10-28T20:53:38.218417Z"
    }
   },
   "source": [
    "from sklearn.linear_model import LinearRegression\n",
    "from sklearn.metrics import explained_variance_score, mean_squared_error\n",
    "\n",
    "# Initialize lists to collect records and predictions\n",
    "records = []  # collect evaluation metrics\n",
    "predfs = []   # collect dataframes of predictions for each year\n",
    "\n",
    "# Define the year range, stopping one year before the last year to allow out-of-sample testing\n",
    "for yr in range(2011, 2018):  # Insert actual minimum and maximum years here\n",
    "    preds = []  # will be used to collect predicted earnings from each model for the year\n",
    "\n",
    "    for label, x in xvars.items():\n",
    "        # Set up the datasets used for estimation for the current year\n",
    "        est_data = both.loc[both['FYEAR'] <= yr, x]  # Filter data up to current year for estimation\n",
    "        est_data = rankdf(est_data) \n",
    "\n",
    "        y = both.loc[est_data.index, 'fut_earn_at']  # Set target variable based on `est_data` indices\n",
    "\n",
    "        # Set up OLS regression and fit it\n",
    "        ols = LinearRegression()\n",
    "        ols.fit(est_data, y)  # Fit the model on the current year’s data\n",
    "\n",
    "        # Predict earnings for the next year (yr + 1)\n",
    "        next_year_data = both.loc[both['FYEAR'] == yr + 1, x]  # Data for next year\n",
    "        next_year_data = rankdf(next_year_data)  # Rank if needed\n",
    "\n",
    "        predictions = ols.predict(next_year_data)  # Single series of predictions\n",
    "        true_y = both.loc[both['FYEAR'] == yr + 1, 'fut_earn_at']  # Actual values for comparison\n",
    "\n",
    "        # Record MSE and explained variance score for current year and variable set\n",
    "        records.append({\n",
    "            'year': yr,\n",
    "            'xvars': label,\n",
    "            'mse': mean_squared_error(true_y, predictions),\n",
    "            'r2': explained_variance_score(true_y, predictions)\n",
    "        })\n",
    "\n",
    "        # Collect predictions as a Series with an index for joining\n",
    "        preds.append(pd.Series(predictions, index=both.loc[both['FYEAR'] == yr + 1, x].index, name=label))\n",
    "\n",
    "    # Format predictions for each model and store in predfs\n",
    "    df = pd.concat(preds, axis=1, join='outer')  # Join the predictions by index\n",
    "    predfs.append(df)  # Collect predictions for the current year\n",
    "\n",
    "# Convert records to a DataFrame for easier analysis of results\n",
    "results_df = pd.DataFrame(records)"
   ],
   "outputs": [],
   "execution_count": 45
  },
  {
   "cell_type": "markdown",
   "metadata": {
    "collapsed": false,
    "jupyter": {
     "outputs_hidden": false
    }
   },
   "source": [
    "Now evaluate model performance (we'll come back to the predictions later) and comment on any trends you observe. Report both the mean R2 and MSE for each method as well, and then plot these values over time. Answer these questions based on your observations:\n",
    "1. Which approach works best, on average?\n",
    "2. Is there significant variation over time?\n",
    "3. Are there any large, noticeable differences? Do you have any theories as to where those come from?\n",
    "\n",
    "Note, the bonus point(s) for best model will come from your best *average* \"r2\" below."
   ]
  },
  {
   "cell_type": "code",
   "metadata": {
    "collapsed": false,
    "jupyter": {
     "outputs_hidden": false
    },
    "ExecuteTime": {
     "end_time": "2024-10-28T20:52:37.704328Z",
     "start_time": "2024-10-28T20:52:37.697934Z"
    }
   },
   "source": [
    "import seaborn as sns\n",
    "import matplotlib.pyplot as plt\n",
    "resdf = pd.DataFrame(results_df)\n",
    "print(resdf)\n",
    "\n",
    "# Calculate the average MSE and R^2 by each regressor set (xvars)\n",
    "average_performance = results_df.groupby('xvars')[['mse', 'r2']].mean()\n",
    "average_performance\n",
    "\n",
    "# compute average by regressor set"
   ],
   "outputs": [
    {
     "name": "stdout",
     "output_type": "stream",
     "text": [
      "    year         xvars       mse        r2\n",
      "0   2011  original_set  0.014762  0.456803\n",
      "1   2011        myset1  0.019680  0.275694\n",
      "2   2011        myset2  0.022603  0.168074\n",
      "3   2012  original_set  0.015001  0.507380\n",
      "4   2012        myset1  0.022145  0.270583\n",
      "5   2012        myset2  0.024722  0.185193\n",
      "6   2013  original_set  0.020096  0.435271\n",
      "7   2013        myset1  0.025565  0.275879\n",
      "8   2013        myset2  0.029254  0.168353\n",
      "9   2014  original_set  0.017013  0.496445\n",
      "10  2014        myset1  0.024526  0.268089\n",
      "11  2014        myset2  0.025882  0.226866\n",
      "12  2015  original_set  0.015669  0.527923\n",
      "13  2015        myset1  0.024276  0.266918\n",
      "14  2015        myset2  0.024771  0.251906\n",
      "15  2016  original_set  0.017235  0.567930\n",
      "16  2016        myset1  0.026617  0.330772\n",
      "17  2016        myset2  0.029300  0.262970\n",
      "18  2017  original_set  0.020222  0.546763\n",
      "19  2017        myset1  0.029606  0.329256\n",
      "20  2017        myset2  0.033897  0.229798\n"
     ]
    },
    {
     "data": {
      "text/plain": [
       "                   mse        r2\n",
       "xvars                           \n",
       "myset1        0.024631  0.288170\n",
       "myset2        0.027204  0.213309\n",
       "original_set  0.017143  0.505502"
      ],
      "text/html": [
       "<div>\n",
       "<style scoped>\n",
       "    .dataframe tbody tr th:only-of-type {\n",
       "        vertical-align: middle;\n",
       "    }\n",
       "\n",
       "    .dataframe tbody tr th {\n",
       "        vertical-align: top;\n",
       "    }\n",
       "\n",
       "    .dataframe thead th {\n",
       "        text-align: right;\n",
       "    }\n",
       "</style>\n",
       "<table border=\"1\" class=\"dataframe\">\n",
       "  <thead>\n",
       "    <tr style=\"text-align: right;\">\n",
       "      <th></th>\n",
       "      <th>mse</th>\n",
       "      <th>r2</th>\n",
       "    </tr>\n",
       "    <tr>\n",
       "      <th>xvars</th>\n",
       "      <th></th>\n",
       "      <th></th>\n",
       "    </tr>\n",
       "  </thead>\n",
       "  <tbody>\n",
       "    <tr>\n",
       "      <th>myset1</th>\n",
       "      <td>0.024631</td>\n",
       "      <td>0.288170</td>\n",
       "    </tr>\n",
       "    <tr>\n",
       "      <th>myset2</th>\n",
       "      <td>0.027204</td>\n",
       "      <td>0.213309</td>\n",
       "    </tr>\n",
       "    <tr>\n",
       "      <th>original_set</th>\n",
       "      <td>0.017143</td>\n",
       "      <td>0.505502</td>\n",
       "    </tr>\n",
       "  </tbody>\n",
       "</table>\n",
       "</div>"
      ]
     },
     "execution_count": 44,
     "metadata": {},
     "output_type": "execute_result"
    }
   ],
   "execution_count": 44
  },
  {
   "cell_type": "code",
   "metadata": {
    "collapsed": false,
    "jupyter": {
     "outputs_hidden": false
    },
    "ExecuteTime": {
     "end_time": "2024-10-28T20:59:53.410083Z",
     "start_time": "2024-10-28T20:59:53.143968Z"
    }
   },
   "source": [
    "import matplotlib.pyplot as plt\n",
    "\n",
    "\n",
    "# Initialize a larger figure with Seaborn style\n",
    "plt.figure(figsize=(12, 8))\n",
    "sns.set_theme(style=\"whitegrid\")\n",
    "\n",
    "# Plot MSE over time for each xvars method\n",
    "plt.subplot(2, 1, 1)\n",
    "sns.lineplot(data=results_df, x='year', y='mse', hue='xvars', marker='o')\n",
    "plt.ylabel('Mean Squared Error (MSE)')\n",
    "plt.title('Mean Squared Error over Time')\n",
    "plt.legend(title='X Variables')\n",
    "\n",
    "# Plot R^2 over time for each xvars method\n",
    "plt.subplot(2, 1, 2)\n",
    "sns.lineplot(data=results_df, x='year', y='r2', hue='xvars', marker='o')\n",
    "plt.ylabel('R^2 Score')\n",
    "plt.xlabel('Year')\n",
    "plt.title('R^2 Score over Time')\n",
    "plt.legend(title='X Variables')\n",
    "\n",
    "plt.tight_layout()\n",
    "plt.show()"
   ],
   "outputs": [
    {
     "data": {
      "text/plain": [
       "<Figure size 1200x800 with 2 Axes>"
      ],
      "image/png": "[encoded data removed]"
     },
     "metadata": {},
     "output_type": "display_data"
    }
   ],
   "execution_count": 46
  },
  {
   "cell_type": "markdown",
   "metadata": {
    "collapsed": false,
    "jupyter": {
     "outputs_hidden": false
    }
   },
   "source": [
    "*Insert answers to questions*\n",
    "1. Which approach works best, on average?\n",
    "The original set had the highest R-Squared with the lowest MSE across all years. \n",
    "2. Is there significant variation over time?\n",
    "Significant is relative, over the course of the 7 years observed, our models generally only changed by .7 for our R-Squared. Our mean squared error changed dramatically though with all models increasing by .01 on average. \n",
    "3. Are there any large, noticeable differences? Do you have any theories as to where those come from?\n",
    "The biggest change comes during the time period between 2012 to 2013. I have no theories to help answer why this happened. I want to assume it was something to do with the over all market. "
   ]
  },
  {
   "cell_type": "markdown",
   "metadata": {
    "collapsed": false,
    "jupyter": {
     "outputs_hidden": false
    }
   },
   "source": [
    "## Requirement 4\n",
    "\n",
    "To wrap up, you're going to examine model performance in terms of MSE by size and by growth/value status. For the former, we'll use `AT` as a proxy for size. For the latter, we'll use the Book-to-Market ratio.\n",
    "\n",
    "We'll examine these by decile (or buckets of 10). Let's first create our decile variables, and then compute the mean by each decile. Note that we're going to compute the deciles *by FYEAR*."
   ]
  },
  {
   "cell_type": "code",
   "metadata": {
    "collapsed": false,
    "jupyter": {
     "outputs_hidden": false
    },
    "ExecuteTime": {
     "end_time": "2024-10-29T00:51:40.236088Z",
     "start_time": "2024-10-29T00:51:40.215700Z"
    }
   },
   "source": [
    "# Create deciles for Total Assets (AT) by fiscal year\n",
    "both['size_decile'] = both.groupby('FYEAR')['AT'].transform(lambda x: pd.qcut(x, 10, labels=False))\n",
    "\n",
    "# Calculate mean AT within each decile by year (for reference or analysis)\n",
    "both['decile_AT'] = both.groupby(['size_decile'])['AT'].transform('mean')\n",
    "\n",
    "# Calculate Book-to-Market ratio (BTM) for each observation\n",
    "both['BTM'] = both['CEQ'] / (both['PRCC_F'] * both['CEQ'])\n",
    "\n",
    "# Create deciles for BTM by fiscal year\n",
    "both['btm_decile'] = both.groupby('FYEAR')['BTM'].transform(lambda x: pd.qcut(x, 10, labels=False))\n",
    "\n",
    "# Calculate mean BTM within each decile by year (for reference or analysis)\n",
    "both['decile_BTM'] = both.groupby(['btm_decile'])['BTM'].transform('mean')\n"
   ],
   "outputs": [],
   "execution_count": 83
  },
  {
   "cell_type": "markdown",
   "metadata": {
    "collapsed": false,
    "jupyter": {
     "outputs_hidden": false
    }
   },
   "source": [
    "Now, add the predictions you saved above to \"both\". If you did things correctly in the earlier requirement, the index should be aligned"
   ]
  },
  {
   "cell_type": "code",
   "metadata": {
    "collapsed": false,
    "jupyter": {
     "outputs_hidden": false
    },
    "ExecuteTime": {
     "end_time": "2024-10-29T00:51:41.235053Z",
     "start_time": "2024-10-29T00:51:41.224033Z"
    }
   },
   "source": [
    "allpredictions = pd.concat(predfs)\n",
    "allpredictions.sort_index() # Does the index look similar?"
   ],
   "outputs": [
    {
     "data": {
      "text/plain": [
       "       original_set    myset1    myset2\n",
       "3          0.042848  0.050908  0.076962\n",
       "4          0.025367  0.060160  0.078134\n",
       "5         -0.005594 -0.052191  0.070143\n",
       "6          0.011783  0.052241  0.071336\n",
       "7          0.031937  0.058261  0.068340\n",
       "...             ...       ...       ...\n",
       "34272      0.121028 -0.108767 -0.004631\n",
       "34273      0.042086 -0.132771  0.025797\n",
       "34277      0.034048  0.031963  0.053361\n",
       "34278      0.032612  0.025729  0.058758\n",
       "34281     -0.190407 -0.183545 -0.079462\n",
       "\n",
       "[18104 rows x 3 columns]"
      ],
      "text/html": [
       "<div>\n",
       "<style scoped>\n",
       "    .dataframe tbody tr th:only-of-type {\n",
       "        vertical-align: middle;\n",
       "    }\n",
       "\n",
       "    .dataframe tbody tr th {\n",
       "        vertical-align: top;\n",
       "    }\n",
       "\n",
       "    .dataframe thead th {\n",
       "        text-align: right;\n",
       "    }\n",
       "</style>\n",
       "<table border=\"1\" class=\"dataframe\">\n",
       "  <thead>\n",
       "    <tr style=\"text-align: right;\">\n",
       "      <th></th>\n",
       "      <th>original_set</th>\n",
       "      <th>myset1</th>\n",
       "      <th>myset2</th>\n",
       "    </tr>\n",
       "  </thead>\n",
       "  <tbody>\n",
       "    <tr>\n",
       "      <th>3</th>\n",
       "      <td>0.042848</td>\n",
       "      <td>0.050908</td>\n",
       "      <td>0.076962</td>\n",
       "    </tr>\n",
       "    <tr>\n",
       "      <th>4</th>\n",
       "      <td>0.025367</td>\n",
       "      <td>0.060160</td>\n",
       "      <td>0.078134</td>\n",
       "    </tr>\n",
       "    <tr>\n",
       "      <th>5</th>\n",
       "      <td>-0.005594</td>\n",
       "      <td>-0.052191</td>\n",
       "      <td>0.070143</td>\n",
       "    </tr>\n",
       "    <tr>\n",
       "      <th>6</th>\n",
       "      <td>0.011783</td>\n",
       "      <td>0.052241</td>\n",
       "      <td>0.071336</td>\n",
       "    </tr>\n",
       "    <tr>\n",
       "      <th>7</th>\n",
       "      <td>0.031937</td>\n",
       "      <td>0.058261</td>\n",
       "      <td>0.068340</td>\n",
       "    </tr>\n",
       "    <tr>\n",
       "      <th>...</th>\n",
       "      <td>...</td>\n",
       "      <td>...</td>\n",
       "      <td>...</td>\n",
       "    </tr>\n",
       "    <tr>\n",
       "      <th>34272</th>\n",
       "      <td>0.121028</td>\n",
       "      <td>-0.108767</td>\n",
       "      <td>-0.004631</td>\n",
       "    </tr>\n",
       "    <tr>\n",
       "      <th>34273</th>\n",
       "      <td>0.042086</td>\n",
       "      <td>-0.132771</td>\n",
       "      <td>0.025797</td>\n",
       "    </tr>\n",
       "    <tr>\n",
       "      <th>34277</th>\n",
       "      <td>0.034048</td>\n",
       "      <td>0.031963</td>\n",
       "      <td>0.053361</td>\n",
       "    </tr>\n",
       "    <tr>\n",
       "      <th>34278</th>\n",
       "      <td>0.032612</td>\n",
       "      <td>0.025729</td>\n",
       "      <td>0.058758</td>\n",
       "    </tr>\n",
       "    <tr>\n",
       "      <th>34281</th>\n",
       "      <td>-0.190407</td>\n",
       "      <td>-0.183545</td>\n",
       "      <td>-0.079462</td>\n",
       "    </tr>\n",
       "  </tbody>\n",
       "</table>\n",
       "<p>18104 rows × 3 columns</p>\n",
       "</div>"
      ]
     },
     "execution_count": 84,
     "metadata": {},
     "output_type": "execute_result"
    }
   ],
   "execution_count": 84
  },
  {
   "cell_type": "markdown",
   "metadata": {
    "collapsed": false,
    "jupyter": {
     "outputs_hidden": false
    }
   },
   "source": [
    "Now, merge the `allpredictions` data with `both` and call it `both2`:"
   ]
  },
  {
   "cell_type": "code",
   "metadata": {
    "collapsed": false,
    "jupyter": {
     "outputs_hidden": false
    },
    "ExecuteTime": {
     "end_time": "2024-10-29T00:51:43.040496Z",
     "start_time": "2024-10-29T00:51:43.030300Z"
    }
   },
   "source": "both2 = pd.concat([both, allpredictions], axis=1)\n",
   "outputs": [],
   "execution_count": 85
  },
  {
   "cell_type": "markdown",
   "metadata": {
    "collapsed": false,
    "jupyter": {
     "outputs_hidden": false
    }
   },
   "source": [
    "Next, compute the squared-error based on predicted and actual, and then summarize by decile of size, and then decile of BTM:"
   ]
  },
  {
   "cell_type": "code",
   "metadata": {
    "collapsed": false,
    "jupyter": {
     "outputs_hidden": false
    },
    "ExecuteTime": {
     "end_time": "2024-10-29T00:51:44.086744Z",
     "start_time": "2024-10-29T00:51:44.082873Z"
    }
   },
   "source": [
    "# I did this for you:\n",
    "for label in xvars.keys():\n",
    "    both2[f'mse_{label}'] = (both2['fut_earn_at'] - both2[label])**2"
   ],
   "outputs": [],
   "execution_count": 86
  },
  {
   "cell_type": "markdown",
   "metadata": {
    "collapsed": false,
    "jupyter": {
     "outputs_hidden": false
    }
   },
   "source": [
    "Now, report the MSE by decile of size, and BTM:"
   ]
  },
  {
   "cell_type": "code",
   "metadata": {
    "collapsed": false,
    "jupyter": {
     "outputs_hidden": false
    },
    "ExecuteTime": {
     "end_time": "2024-10-29T00:51:45.548264Z",
     "start_time": "2024-10-29T00:51:45.541574Z"
    }
   },
   "source": [
    "mean_mse_by_size_decile = both2.groupby('decile_AT')[[f'mse_original_set', f'mse_myset1', f'mse_myset2']].mean()\n",
    "\n",
    "\n",
    "mean_mse_by_size_decile, \n"
   ],
   "outputs": [
    {
     "data": {
      "text/plain": [
       "(              mse_original_set  mse_myset1  mse_myset2\n",
       " decile_AT                                             \n",
       " 40.807871             0.042318    0.080006    0.067709\n",
       " 128.251055            0.032352    0.050236    0.056273\n",
       " 264.355036            0.025244    0.031140    0.042367\n",
       " 465.972737            0.017527    0.019294    0.028178\n",
       " 817.982925            0.013013    0.013487    0.018105\n",
       " 1396.920767           0.013639    0.013544    0.018458\n",
       " 2378.537509           0.009370    0.010483    0.012473\n",
       " 4433.138982           0.005986    0.007912    0.008454\n",
       " 10069.884441          0.007133    0.010313    0.010223\n",
       " 62038.827635          0.004104    0.008642    0.008200,)"
      ]
     },
     "execution_count": 87,
     "metadata": {},
     "output_type": "execute_result"
    }
   ],
   "execution_count": 87
  },
  {
   "cell_type": "code",
   "metadata": {
    "collapsed": false,
    "jupyter": {
     "outputs_hidden": false
    },
    "ExecuteTime": {
     "end_time": "2024-10-29T00:51:48.836116Z",
     "start_time": "2024-10-29T00:51:48.829022Z"
    }
   },
   "source": [
    "mean_mse_by_btm_decile = both2.groupby('decile_BTM')[[f'mse_original_set', f'mse_myset1', f'mse_myset2']].mean()\n",
    "\n",
    "mean_mse_by_btm_decile"
   ],
   "outputs": [
    {
     "data": {
      "text/plain": [
       "            mse_original_set  mse_myset1  mse_myset2\n",
       "decile_BTM                                          \n",
       "0.009506            0.007328    0.009981    0.017148\n",
       "0.016069            0.007451    0.010905    0.015569\n",
       "0.021982            0.007289    0.010357    0.014217\n",
       "0.029533            0.008747    0.013186    0.017240\n",
       "0.040426            0.012932    0.017908    0.021344\n",
       "0.056104            0.013152    0.017894    0.021876\n",
       "0.081544            0.018387    0.024553    0.028302\n",
       "0.129314            0.026891    0.036214    0.038771\n",
       "0.232884            0.033940    0.046111    0.045650\n",
       "0.557425            0.034914    0.058428    0.050846"
      ],
      "text/html": [
       "<div>\n",
       "<style scoped>\n",
       "    .dataframe tbody tr th:only-of-type {\n",
       "        vertical-align: middle;\n",
       "    }\n",
       "\n",
       "    .dataframe tbody tr th {\n",
       "        vertical-align: top;\n",
       "    }\n",
       "\n",
       "    .dataframe thead th {\n",
       "        text-align: right;\n",
       "    }\n",
       "</style>\n",
       "<table border=\"1\" class=\"dataframe\">\n",
       "  <thead>\n",
       "    <tr style=\"text-align: right;\">\n",
       "      <th></th>\n",
       "      <th>mse_original_set</th>\n",
       "      <th>mse_myset1</th>\n",
       "      <th>mse_myset2</th>\n",
       "    </tr>\n",
       "    <tr>\n",
       "      <th>decile_BTM</th>\n",
       "      <th></th>\n",
       "      <th></th>\n",
       "      <th></th>\n",
       "    </tr>\n",
       "  </thead>\n",
       "  <tbody>\n",
       "    <tr>\n",
       "      <th>0.009506</th>\n",
       "      <td>0.007328</td>\n",
       "      <td>0.009981</td>\n",
       "      <td>0.017148</td>\n",
       "    </tr>\n",
       "    <tr>\n",
       "      <th>0.016069</th>\n",
       "      <td>0.007451</td>\n",
       "      <td>0.010905</td>\n",
       "      <td>0.015569</td>\n",
       "    </tr>\n",
       "    <tr>\n",
       "      <th>0.021982</th>\n",
       "      <td>0.007289</td>\n",
       "      <td>0.010357</td>\n",
       "      <td>0.014217</td>\n",
       "    </tr>\n",
       "    <tr>\n",
       "      <th>0.029533</th>\n",
       "      <td>0.008747</td>\n",
       "      <td>0.013186</td>\n",
       "      <td>0.017240</td>\n",
       "    </tr>\n",
       "    <tr>\n",
       "      <th>0.040426</th>\n",
       "      <td>0.012932</td>\n",
       "      <td>0.017908</td>\n",
       "      <td>0.021344</td>\n",
       "    </tr>\n",
       "    <tr>\n",
       "      <th>0.056104</th>\n",
       "      <td>0.013152</td>\n",
       "      <td>0.017894</td>\n",
       "      <td>0.021876</td>\n",
       "    </tr>\n",
       "    <tr>\n",
       "      <th>0.081544</th>\n",
       "      <td>0.018387</td>\n",
       "      <td>0.024553</td>\n",
       "      <td>0.028302</td>\n",
       "    </tr>\n",
       "    <tr>\n",
       "      <th>0.129314</th>\n",
       "      <td>0.026891</td>\n",
       "      <td>0.036214</td>\n",
       "      <td>0.038771</td>\n",
       "    </tr>\n",
       "    <tr>\n",
       "      <th>0.232884</th>\n",
       "      <td>0.033940</td>\n",
       "      <td>0.046111</td>\n",
       "      <td>0.045650</td>\n",
       "    </tr>\n",
       "    <tr>\n",
       "      <th>0.557425</th>\n",
       "      <td>0.034914</td>\n",
       "      <td>0.058428</td>\n",
       "      <td>0.050846</td>\n",
       "    </tr>\n",
       "  </tbody>\n",
       "</table>\n",
       "</div>"
      ]
     },
     "execution_count": 88,
     "metadata": {},
     "output_type": "execute_result"
    }
   ],
   "execution_count": 88
  },
  {
   "cell_type": "markdown",
   "metadata": {
    "collapsed": false,
    "jupyter": {
     "outputs_hidden": false
    }
   },
   "source": [
    "Comment on any trends you observe. Do you have any explanation for these patterns?"
   ]
  },
  {
   "cell_type": "markdown",
   "metadata": {
    "collapsed": false,
    "jupyter": {
     "outputs_hidden": false
    }
   },
   "source": [
    "*INSERT ANSWER*\n",
    "For both sets of data, the distrubution seems to be mainly skewed to smaller companies/lower Book-to-Market ratios. The lowest MSE was found in the original set with my set 1 performing second best. My main explanation for the companies skeweness towards lower values in both cases is that the top companies are not common. You will find many companies in the smaller deciles because there are just more of them entirely. "
   ]
  },
  {
   "cell_type": "markdown",
   "metadata": {
    "collapsed": false,
    "jupyter": {
     "outputs_hidden": false
    }
   },
   "source": [
    "## Requirement 5 (6046 only)\n",
    "Now evaluate the forecast errors by industry. Which industry, defined by two-digit SIC code, has the lowest MSE for your best model? Which industry has the highest? Comment on whether you find this intuitive.\n",
    "\n",
    "Note that once you identify the industries, you can look up industry definitions online, or using the datafile included with task materials (`sic_2_digit_codes.xls`).\n",
    "\n",
    "(HINT: There will be more SIC codes than the 10 deciles we inspect above. You can identify the maximum or minimum values for each MSE measure using either `sort_values()`, sorting by whatever MSE you'd like to view, or, more directly, `idmax()` and `idxmin()`.)"
   ]
  },
  {
   "cell_type": "code",
   "metadata": {
    "ExecuteTime": {
     "end_time": "2024-10-29T01:03:58.995756Z",
     "start_time": "2024-10-29T01:03:58.987734Z"
    }
   },
   "source": "both2['sic2'] = both2['SIC'].astype(str).str[:2]",
   "outputs": [],
   "execution_count": 89
  },
  {
   "cell_type": "code",
   "metadata": {
    "ExecuteTime": {
     "end_time": "2024-10-29T01:07:52.459449Z",
     "start_time": "2024-10-29T01:07:52.452530Z"
    }
   },
   "source": [
    "average_mse_by_sic2 = both2.groupby('sic2')[[f'mse_{label}' for label in xvars.keys()]].mean()\n",
    "# Sort the average MSE by 'sic2' from highest to lowest\n",
    "average_mse_by_sic2 = average_mse_by_sic2.sort_values(by=[col for col in average_mse_by_sic2.columns], ascending=False)\n",
    "\n",
    "# Display the sorted result\n",
    "print(average_mse_by_sic2)"
   ],
   "outputs": [
    {
     "name": "stdout",
     "output_type": "stream",
     "text": [
      "      mse_original_set  mse_myset1  mse_myset2\n",
      "sic2                                          \n",
      "28            0.051228    0.083871    0.090833\n",
      "13            0.037330    0.039522    0.037741\n",
      "57            0.033822    0.021521    0.021523\n",
      "27            0.020265    0.015063    0.026115\n",
      "14            0.019808    0.016556    0.015797\n",
      "46            0.019369    0.044068    0.043072\n",
      "38            0.018943    0.037799    0.035563\n",
      "73            0.016686    0.021435    0.027288\n",
      "47            0.016650    0.017185    0.032724\n",
      "39            0.015797    0.014620    0.020878\n",
      "80            0.015539    0.022095    0.026034\n",
      "87            0.015175    0.023020    0.020232\n",
      "10            0.014591    0.020293    0.018769\n",
      "44            0.014120    0.015804    0.015092\n",
      "23            0.014037    0.011777    0.018834\n",
      "79            0.013917    0.014430    0.017935\n",
      "56            0.013811    0.012332    0.018047\n",
      "36            0.013500    0.019120    0.018947\n",
      "21            0.011018    0.013701    0.013485\n",
      "59            0.010429    0.011819    0.018530\n",
      "35            0.009987    0.011935    0.014280\n",
      "12            0.009967    0.008146    0.013864\n",
      "54            0.009583    0.011683    0.015800\n",
      "81            0.008976    0.002117    0.000642\n",
      "30            0.008927    0.011741    0.012151\n",
      "33            0.008571    0.009979    0.012318\n",
      "82            0.008559    0.010506    0.012433\n",
      "58            0.008516    0.010751    0.016224\n",
      "48            0.008489    0.011817    0.011402\n",
      "24            0.007638    0.012158    0.017739\n",
      "20            0.007454    0.009963    0.013335\n",
      "29            0.007197    0.013921    0.021427\n",
      "17            0.007105    0.009040    0.008195\n",
      "32            0.007047    0.007132    0.010370\n",
      "31            0.006766    0.004495    0.007633\n",
      "16            0.006529    0.005163    0.007143\n",
      "37            0.005928    0.008323    0.010992\n",
      "50            0.005591    0.005320    0.007262\n",
      "49            0.005499    0.009512    0.007257\n",
      "52            0.005476    0.005054    0.014100\n",
      "51            0.005163    0.007824    0.007912\n",
      "99            0.005083    0.004310    0.003449\n",
      "34            0.004650    0.006699    0.010491\n",
      "42            0.004594    0.004486    0.011126\n",
      "53            0.004387    0.007509    0.008613\n",
      "15            0.003786    0.003096    0.006646\n",
      "83            0.003726    0.001963    0.002295\n",
      "72            0.003431    0.004189    0.005224\n",
      "25            0.003260    0.002864    0.005092\n",
      "45            0.003121    0.004957    0.005227\n",
      "41            0.002917    0.000732    0.001062\n",
      "78            0.002909    0.004118    0.002287\n",
      "22            0.002688    0.002164    0.002509\n",
      "70            0.002620    0.003961    0.006460\n",
      "26            0.002511    0.003087    0.003473\n",
      "55            0.001785    0.002443    0.004049\n",
      "75            0.001731    0.002736    0.001420\n",
      "40            0.001219    0.002675    0.002806\n"
     ]
    }
   ],
   "execution_count": 94
  },
  {
   "cell_type": "code",
   "execution_count": null,
   "metadata": {},
   "outputs": [],
   "source": []
  },
  {
   "cell_type": "markdown",
   "metadata": {},
   "source": [
    "*INSERT ANSWER*\n",
    "28 represents chemicals and allied products, our models works bad when computing earnings for this industry most likely because chemicals is a very mature industry where predicting future cash flow is quite difficult. There are no big break-throughs or huge earning announcements that will catch people off guard. It is commodities so all companies are usually in price wars where little happens between financial years. Because of this chemical companies will often take hits when their commodities go up in price. If we built a model that included commodity pricing, we would assume that we would do very well in predicting earnings but sadly we did not. \n",
    "\n",
    "40 represents railroad transportation, our models did really well when predicting future earnings for these companies for several reasons. First is that stable demand of the industry often means that cash flows are cyclical and move up and down with the rest of the industry. Long term contracts mean that it is highly unlikely that there are unpredictable changes in earnings. Also unlike chemicals, the railroad industry does not care about commodity pricing.\n",
    "\n",
    "...\n"
   ]
  },
  {
   "cell_type": "code",
   "execution_count": null,
   "metadata": {},
   "outputs": [],
   "source": []
  }
 ],
 "metadata": {
  "kernelspec": {
   "display_name": "Python 3 (ipykernel)",
   "language": "python",
   "name": "python3"
  },
  "language_info": {
   "codemirror_mode": {
    "name": "ipython",
    "version": 3
   },
   "file_extension": ".py",
   "mimetype": "text/x-python",
   "name": "python",
   "nbconvert_exporter": "python",
   "pygments_lexer": "ipython3",
   "version": "3.12.0"
  }
 },
 "nbformat": 4,
 "nbformat_minor": 4
}
