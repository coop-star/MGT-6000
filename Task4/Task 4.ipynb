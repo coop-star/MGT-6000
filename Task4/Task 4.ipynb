{
 "cells": [
  {
   "cell_type": "markdown",
   "source": [
    "## Task 4 - Earnings Announcement Language\n",
    "You’ve taken a new position at a boutique brokerage firm that wishes to focus on a “value-based” investment strategy. The firm has several analysts devoted to analyzing the extent to which quantitative financial statement information predicts future returns. You’ve been asked to consider qualitative information, particularly the narrative information accompanying firms’ earnings announcements.\n",
    "\n",
    "Your supervisor has provided you with a sample of 2,000 earnings announcements, which data scientists (err… a PhD student) at the firm have already cleaned and parsed. You’ve also been provided with abnormal market returns surrounding each firm’s earnings announcement.\n",
    "\n",
    "The firm would like to understand which words appear to be most predictive of the immediate investor reaction to earnings news. You have been asked to identify words conveying both “positive tone” (words that strongly predict positive returns) and “negative tone” (words that strongly predict negative returns). You remember from your applied analytics class that two finance professors, Tim Loughran and Bill McDonald, maintain a finance sentiment dictionary. You think it’d be worthwhile to consider financial sentiment from this dictionary as well.\n",
    "\n",
    "Your task involves the following requirements:\n",
    "1.\tConstruct a case insensitive document-term matrix using all language from the earnings announcements. Your matrix should only include the 2,000 most common words (assuming they meet the criteria below), and you should allow for bigrams *and* trigrams. You should exclude:\n",
    "\n",
    "    a)\tstop words\n",
    "    \n",
    "    b)\tany non-alpha tokens\n",
    "    \n",
    "    c)\ttokens shorter than 3 characters in length\n",
    "    \n",
    "    d)\ttokens appearing in more than 90% of earnings announcements\n",
    "\n",
    "    Report the top 25 words in your matrix.\n",
    "\n",
    "2. Using the Loughran and McDonald financial sentiment dictionary, compute overall sentiment using three measures:\n",
    "\n",
    "    a) positive words / total words\n",
    "   \n",
    "    b) negative words / total words\n",
    "   \n",
    "    c) (positive words – negative words) / total words\n",
    "\n",
    "    Report descriptive statistics for these three measures (i.e., `.describe().transpose()`).\n",
    "\n",
    "3. Compute the correlations between each word in your matrix. Answer these questions:\n",
    "\n",
    "    a) How do each of these three measures correlate with returns?\n",
    "   \n",
    "    b) Are you surprised by this pattern? Why or why not?\n",
    "\n",
    "4. Scale each row of the document term matrix by the total words in the document (i.e., so that the “counts” are proportions and sum to 1). Using these percentages, list the 25 words that correlate most positively with returns and most negatively with returns (50 total words). Report how many of these appear in the financial sentiment dictionary used in question 2.\n",
    "\n",
    "5. (6046 only) Fit an LDA model using `sklearn` with 50 topics. Identify the topic that correlates most positively and most negative with returns. For these two topics, summarize the most relevant 10 words for each, and whether you find this pattern intuitive.\n",
    "\n",
    "### Requirement 1\n",
    "In this step, we will first load the data, and then generate the document term matrix needed to answer the specific requirements.\n",
    "\n",
    "First, load the data and briefly inspect. There are two data files:\n",
    "- `Task4_ea_sample.zip`: sample of earnings announcements\n",
    "- `EA_list.csv`: Returns data for each earnings announcement\n",
    "\n",
    "We haven't done much with zip files, so I will provide the code to load this data.\n"
   ],
   "metadata": {
    "collapsed": false
   }
  },
  {
   "cell_type": "code",
   "source": [
    "import pandas as pd\n",
    "from zipfile import ZipFile\n",
    "\n",
    "folder = '/Users/cooperdenning/Documents/GitHub/MGT-6000/.venv/Task4' # Update with your own path\n",
    "archive = f'{folder}/Task4_ea_sample.zip'\n",
    "\n",
    "eadata = []\n",
    "with ZipFile(archive,'r') as arc:\n",
    "    for mem in arc.namelist(): #namelist() lists files in zip archive, so this loop iterates over those\n",
    "        if mem.endswith('txt'):  # if the member is a txt file, it's extracted and added to the \"eadata\" list\n",
    "            contents = arc.read(mem)\n",
    "            eadata.append([mem,contents])\n",
    "\n",
    "textdf = pd.DataFrame(eadata,columns=['File_Name','text'])\n",
    "textdf['text'] = textdf['text'].str.decode('utf8')\n",
    "textdf['File_Name'] = textdf['File_Name'].str.split(\"/\").str[-1]"
   ],
   "metadata": {
    "collapsed": false,
    "jupyter": {
     "is_executing": true
    }
   },
   "outputs": [],
   "execution_count": null
  },
  {
   "cell_type": "markdown",
   "source": [
    "Now load the 'ea_list.csv' data into a dataframe called `ealist` and merge with `textdf` using the field `File_Name`:"
   ],
   "metadata": {
    "collapsed": false
   }
  },
  {
   "cell_type": "code",
   "source": [
    "ealist = pd.read_csv(f'{folder}/EA_list.csv')\n",
    "both = pd.merge(ealist, textdf, how='inner',on='File_Name')"
   ],
   "metadata": {
    "collapsed": false,
    "ExecuteTime": {
     "end_time": "2024-11-16T18:09:47.033305Z",
     "start_time": "2024-11-16T18:09:47.024297Z"
    }
   },
   "outputs": [],
   "execution_count": 3
  },
  {
   "cell_type": "markdown",
   "source": [
    "Report `info()` and `head(10)` for both:"
   ],
   "metadata": {
    "collapsed": false
   }
  },
  {
   "cell_type": "code",
   "source": [
    "# print info() and head(10) for both datasets\n",
    "\n",
    "both.info()\n",
    "both.head(10)"
   ],
   "metadata": {
    "collapsed": false,
    "ExecuteTime": {
     "end_time": "2024-11-16T18:09:48.470437Z",
     "start_time": "2024-11-16T18:09:48.458416Z"
    }
   },
   "outputs": [
    {
     "name": "stdout",
     "output_type": "stream",
     "text": [
      "<class 'pandas.core.frame.DataFrame'>\n",
      "RangeIndex: 2000 entries, 0 to 1999\n",
      "Data columns (total 7 columns):\n",
      " #   Column         Non-Null Count  Dtype  \n",
      "---  ------         --------------  -----  \n",
      " 0   File_Name      2000 non-null   object \n",
      " 1   CIK            2000 non-null   int64  \n",
      " 2   datadate       2000 non-null   object \n",
      " 3   announce_date  2000 non-null   object \n",
      " 4   tic            2000 non-null   object \n",
      " 5   AbnReturn      2000 non-null   float64\n",
      " 6   text           2000 non-null   object \n",
      "dtypes: float64(1), int64(1), object(5)\n",
      "memory usage: 109.5+ KB\n"
     ]
    },
    {
     "data": {
      "text/plain": [
       "                          File_Name      CIK    datadate announce_date   tic  \\\n",
       "0   790705-0000950123-10-100486.txt   790705   9/30/2010    2010-11-04  TKLC   \n",
       "1   814547-0001144204-14-003352.txt   814547  12/31/2013    2014-01-22  FICO   \n",
       "2    71829-0001437749-14-019134.txt    71829   9/30/2014    2014-10-30    NR   \n",
       "3    71691-0001157523-19-000236.txt    71691  12/31/2018    2019-02-06   NYT   \n",
       "4   320193-0001193125-10-230992.txt   320193   9/30/2010    2010-10-18  AAPL   \n",
       "5  1666134-0001171843-18-005691.txt  1666134   6/30/2018    2018-08-02    BL   \n",
       "6    29332-0000029332-11-000064.txt    29332   6/30/2011    2011-08-04  DXYN   \n",
       "7  1318605-0001564590-20-033069.txt  1318605   6/30/2020    2020-07-22  TSLA   \n",
       "8   731012-0000950123-11-010074.txt   731012  12/31/2010    2011-02-07  HCSG   \n",
       "9  1282637-0001193125-11-103679.txt  1282637   3/31/2011    2011-04-20   NEU   \n",
       "\n",
       "   AbnReturn                                               text  \n",
       "0  -1.826796  EX-99. 1 2 v57726exv99w1. htm EX-99. 1  exv99w...  \n",
       "1  -3.337049  EX-99. 1 2 v365966_ex99-1. htm EXHIBIT 99. 1  ...  \n",
       "2   4.051841  EX-99 2 ex99-1. htm EXHIBIT 99. 1  ex99-1. htm...  \n",
       "3  16.480962  EX-99. 1 2 a51935890ex99_1. htm EXHIBIT 99. 1 ...  \n",
       "4  -1.228231  EX-99. 1 2 dex991. htm TEXT OF PRESS RELEASE I...  \n",
       "5  10.491547  EX-99. 1 2 exh_991. htm PRESS RELEASE  EdgarFi...  \n",
       "6  13.407912  EX-99. 1 2 ex99_1pressrel-01. htm 2Q  2011 PRE...  \n",
       "7  -9.107826  EX-99. 1 2 tsla-ex991_63. htm EX-99. 1   tsla-...  \n",
       "8   4.447709  EX-99. 1 2 c11979exv99w1. htm EXHIBIT 99. 1  E...  \n",
       "9  13.225461  EX-99. 1 2 dex991. htm PRESS RELEASE REGARDING...  "
      ],
      "text/html": [
       "<div>\n",
       "<style scoped>\n",
       "    .dataframe tbody tr th:only-of-type {\n",
       "        vertical-align: middle;\n",
       "    }\n",
       "\n",
       "    .dataframe tbody tr th {\n",
       "        vertical-align: top;\n",
       "    }\n",
       "\n",
       "    .dataframe thead th {\n",
       "        text-align: right;\n",
       "    }\n",
       "</style>\n",
       "<table border=\"1\" class=\"dataframe\">\n",
       "  <thead>\n",
       "    <tr style=\"text-align: right;\">\n",
       "      <th></th>\n",
       "      <th>File_Name</th>\n",
       "      <th>CIK</th>\n",
       "      <th>datadate</th>\n",
       "      <th>announce_date</th>\n",
       "      <th>tic</th>\n",
       "      <th>AbnReturn</th>\n",
       "      <th>text</th>\n",
       "    </tr>\n",
       "  </thead>\n",
       "  <tbody>\n",
       "    <tr>\n",
       "      <th>0</th>\n",
       "      <td>790705-0000950123-10-100486.txt</td>\n",
       "      <td>790705</td>\n",
       "      <td>9/30/2010</td>\n",
       "      <td>2010-11-04</td>\n",
       "      <td>TKLC</td>\n",
       "      <td>-1.826796</td>\n",
       "      <td>EX-99. 1 2 v57726exv99w1. htm EX-99. 1  exv99w...</td>\n",
       "    </tr>\n",
       "    <tr>\n",
       "      <th>1</th>\n",
       "      <td>814547-0001144204-14-003352.txt</td>\n",
       "      <td>814547</td>\n",
       "      <td>12/31/2013</td>\n",
       "      <td>2014-01-22</td>\n",
       "      <td>FICO</td>\n",
       "      <td>-3.337049</td>\n",
       "      <td>EX-99. 1 2 v365966_ex99-1. htm EXHIBIT 99. 1  ...</td>\n",
       "    </tr>\n",
       "    <tr>\n",
       "      <th>2</th>\n",
       "      <td>71829-0001437749-14-019134.txt</td>\n",
       "      <td>71829</td>\n",
       "      <td>9/30/2014</td>\n",
       "      <td>2014-10-30</td>\n",
       "      <td>NR</td>\n",
       "      <td>4.051841</td>\n",
       "      <td>EX-99 2 ex99-1. htm EXHIBIT 99. 1  ex99-1. htm...</td>\n",
       "    </tr>\n",
       "    <tr>\n",
       "      <th>3</th>\n",
       "      <td>71691-0001157523-19-000236.txt</td>\n",
       "      <td>71691</td>\n",
       "      <td>12/31/2018</td>\n",
       "      <td>2019-02-06</td>\n",
       "      <td>NYT</td>\n",
       "      <td>16.480962</td>\n",
       "      <td>EX-99. 1 2 a51935890ex99_1. htm EXHIBIT 99. 1 ...</td>\n",
       "    </tr>\n",
       "    <tr>\n",
       "      <th>4</th>\n",
       "      <td>320193-0001193125-10-230992.txt</td>\n",
       "      <td>320193</td>\n",
       "      <td>9/30/2010</td>\n",
       "      <td>2010-10-18</td>\n",
       "      <td>AAPL</td>\n",
       "      <td>-1.228231</td>\n",
       "      <td>EX-99. 1 2 dex991. htm TEXT OF PRESS RELEASE I...</td>\n",
       "    </tr>\n",
       "    <tr>\n",
       "      <th>5</th>\n",
       "      <td>1666134-0001171843-18-005691.txt</td>\n",
       "      <td>1666134</td>\n",
       "      <td>6/30/2018</td>\n",
       "      <td>2018-08-02</td>\n",
       "      <td>BL</td>\n",
       "      <td>10.491547</td>\n",
       "      <td>EX-99. 1 2 exh_991. htm PRESS RELEASE  EdgarFi...</td>\n",
       "    </tr>\n",
       "    <tr>\n",
       "      <th>6</th>\n",
       "      <td>29332-0000029332-11-000064.txt</td>\n",
       "      <td>29332</td>\n",
       "      <td>6/30/2011</td>\n",
       "      <td>2011-08-04</td>\n",
       "      <td>DXYN</td>\n",
       "      <td>13.407912</td>\n",
       "      <td>EX-99. 1 2 ex99_1pressrel-01. htm 2Q  2011 PRE...</td>\n",
       "    </tr>\n",
       "    <tr>\n",
       "      <th>7</th>\n",
       "      <td>1318605-0001564590-20-033069.txt</td>\n",
       "      <td>1318605</td>\n",
       "      <td>6/30/2020</td>\n",
       "      <td>2020-07-22</td>\n",
       "      <td>TSLA</td>\n",
       "      <td>-9.107826</td>\n",
       "      <td>EX-99. 1 2 tsla-ex991_63. htm EX-99. 1   tsla-...</td>\n",
       "    </tr>\n",
       "    <tr>\n",
       "      <th>8</th>\n",
       "      <td>731012-0000950123-11-010074.txt</td>\n",
       "      <td>731012</td>\n",
       "      <td>12/31/2010</td>\n",
       "      <td>2011-02-07</td>\n",
       "      <td>HCSG</td>\n",
       "      <td>4.447709</td>\n",
       "      <td>EX-99. 1 2 c11979exv99w1. htm EXHIBIT 99. 1  E...</td>\n",
       "    </tr>\n",
       "    <tr>\n",
       "      <th>9</th>\n",
       "      <td>1282637-0001193125-11-103679.txt</td>\n",
       "      <td>1282637</td>\n",
       "      <td>3/31/2011</td>\n",
       "      <td>2011-04-20</td>\n",
       "      <td>NEU</td>\n",
       "      <td>13.225461</td>\n",
       "      <td>EX-99. 1 2 dex991. htm PRESS RELEASE REGARDING...</td>\n",
       "    </tr>\n",
       "  </tbody>\n",
       "</table>\n",
       "</div>"
      ]
     },
     "execution_count": 4,
     "metadata": {},
     "output_type": "execute_result"
    }
   ],
   "execution_count": 4
  },
  {
   "cell_type": "markdown",
   "source": [
    "Now, construct a document term matrix using `CountVectorizer` using the specifications provided above. Your matrix should exclude:\n",
    "\n",
    "a)\tstop words (for simplicity, you can set `stop_words = 'english')`\n",
    "\n",
    "b)\tany non-alpha tokens\n",
    "\n",
    "c)\ttokens shorter than 3 characters in length\n",
    "\n",
    "d)\ttokens appearing in more than 90% of earnings announcements\n",
    "\n",
    "Also, limit the DTM to 2,000 words, bigrams, or trigrams, and do not consider case sensitivity.\n"
   ],
   "metadata": {
    "collapsed": false
   }
  },
  {
   "cell_type": "code",
   "source": [
    "from sklearn.feature_extraction.text import CountVectorizer\n",
    "\n",
    "stops = []\n",
    "\n",
    "# Open the file in read mode\n",
    "with open('/Users/cooperdenning/PycharmProjects/pythonProject5/.venv/Task4/english', 'r') as file:\n",
    "    # Iterate through each line in the file\n",
    "    for line in file:\n",
    "        # Strip the newline character and append the line to the list\n",
    "        stops.append(line.strip())\n",
    "\n",
    "# Now, lines_list contains each line of the file as an element\n",
    "\n",
    "vec =  CountVectorizer(\n",
    "    stop_words='english',             # Exclude stop words\n",
    "    token_pattern=r'\\b[a-zA-Z]{3,}\\b',  # Only include alpha tokens with 3+ chars\n",
    "    max_df=0.9,                       # Exclude tokens in more than 90% of docs\n",
    "    ngram_range=(1, 3),               # Include unigrams, bigrams, and trigrams\n",
    "    max_features=2000,                # Limit vocabulary to 2000 features\n",
    "    lowercase=True                    # Case insensitive processing\n",
    ")\n",
    "dtm = vec.fit_transform(both['text'])\n",
    "\n",
    "\n"
   ],
   "metadata": {
    "collapsed": false,
    "ExecuteTime": {
     "end_time": "2024-11-16T18:09:51.253568Z",
     "start_time": "2024-11-16T18:09:50.670637Z"
    }
   },
   "outputs": [
    {
     "ename": "FileNotFoundError",
     "evalue": "[Errno 2] No such file or directory: '/Users/cooperdenning/PycharmProjects/pythonProject5/.venv/Task4/english'",
     "output_type": "error",
     "traceback": [
      "\u001B[0;31m---------------------------------------------------------------------------\u001B[0m",
      "\u001B[0;31mFileNotFoundError\u001B[0m                         Traceback (most recent call last)",
      "Cell \u001B[0;32mIn[5], line 6\u001B[0m\n\u001B[1;32m      3\u001B[0m stops \u001B[38;5;241m=\u001B[39m []\n\u001B[1;32m      5\u001B[0m \u001B[38;5;66;03m# Open the file in read mode\u001B[39;00m\n\u001B[0;32m----> 6\u001B[0m \u001B[38;5;28;01mwith\u001B[39;00m \u001B[38;5;28;43mopen\u001B[39;49m\u001B[43m(\u001B[49m\u001B[38;5;124;43m'\u001B[39;49m\u001B[38;5;124;43m/Users/cooperdenning/PycharmProjects/pythonProject5/.venv/Task4/english\u001B[39;49m\u001B[38;5;124;43m'\u001B[39;49m\u001B[43m,\u001B[49m\u001B[43m \u001B[49m\u001B[38;5;124;43m'\u001B[39;49m\u001B[38;5;124;43mr\u001B[39;49m\u001B[38;5;124;43m'\u001B[39;49m\u001B[43m)\u001B[49m \u001B[38;5;28;01mas\u001B[39;00m file:\n\u001B[1;32m      7\u001B[0m     \u001B[38;5;66;03m# Iterate through each line in the file\u001B[39;00m\n\u001B[1;32m      8\u001B[0m     \u001B[38;5;28;01mfor\u001B[39;00m line \u001B[38;5;129;01min\u001B[39;00m file:\n\u001B[1;32m      9\u001B[0m         \u001B[38;5;66;03m# Strip the newline character and append the line to the list\u001B[39;00m\n\u001B[1;32m     10\u001B[0m         stops\u001B[38;5;241m.\u001B[39mappend(line\u001B[38;5;241m.\u001B[39mstrip())\n",
      "File \u001B[0;32m~/Library/Caches/JetBrains/PyCharm2024.1/demo/PyCharmLearningProject/.venv/lib/python3.12/site-packages/IPython/core/interactiveshell.py:324\u001B[0m, in \u001B[0;36m_modified_open\u001B[0;34m(file, *args, **kwargs)\u001B[0m\n\u001B[1;32m    317\u001B[0m \u001B[38;5;28;01mif\u001B[39;00m file \u001B[38;5;129;01min\u001B[39;00m {\u001B[38;5;241m0\u001B[39m, \u001B[38;5;241m1\u001B[39m, \u001B[38;5;241m2\u001B[39m}:\n\u001B[1;32m    318\u001B[0m     \u001B[38;5;28;01mraise\u001B[39;00m \u001B[38;5;167;01mValueError\u001B[39;00m(\n\u001B[1;32m    319\u001B[0m         \u001B[38;5;124mf\u001B[39m\u001B[38;5;124m\"\u001B[39m\u001B[38;5;124mIPython won\u001B[39m\u001B[38;5;124m'\u001B[39m\u001B[38;5;124mt let you open fd=\u001B[39m\u001B[38;5;132;01m{\u001B[39;00mfile\u001B[38;5;132;01m}\u001B[39;00m\u001B[38;5;124m by default \u001B[39m\u001B[38;5;124m\"\u001B[39m\n\u001B[1;32m    320\u001B[0m         \u001B[38;5;124m\"\u001B[39m\u001B[38;5;124mas it is likely to crash IPython. If you know what you are doing, \u001B[39m\u001B[38;5;124m\"\u001B[39m\n\u001B[1;32m    321\u001B[0m         \u001B[38;5;124m\"\u001B[39m\u001B[38;5;124myou can use builtins\u001B[39m\u001B[38;5;124m'\u001B[39m\u001B[38;5;124m open.\u001B[39m\u001B[38;5;124m\"\u001B[39m\n\u001B[1;32m    322\u001B[0m     )\n\u001B[0;32m--> 324\u001B[0m \u001B[38;5;28;01mreturn\u001B[39;00m \u001B[43mio_open\u001B[49m\u001B[43m(\u001B[49m\u001B[43mfile\u001B[49m\u001B[43m,\u001B[49m\u001B[43m \u001B[49m\u001B[38;5;241;43m*\u001B[39;49m\u001B[43margs\u001B[49m\u001B[43m,\u001B[49m\u001B[43m \u001B[49m\u001B[38;5;241;43m*\u001B[39;49m\u001B[38;5;241;43m*\u001B[39;49m\u001B[43mkwargs\u001B[49m\u001B[43m)\u001B[49m\n",
      "\u001B[0;31mFileNotFoundError\u001B[0m: [Errno 2] No such file or directory: '/Users/cooperdenning/PycharmProjects/pythonProject5/.venv/Task4/english'"
     ]
    }
   ],
   "execution_count": 5
  },
  {
   "cell_type": "markdown",
   "source": [
    "Report the top 25 words in your matrix (BONUS POINT: Report the top 25 words AND the count of each)."
   ],
   "metadata": {
    "collapsed": false
   }
  },
  {
   "cell_type": "code",
   "source": [
    "import numpy as np\n",
    "vocab = vec.vocabulary_\n",
    "print(vocab)\n",
    "# Insert code to generate top 25 word counts (and for bonus point, count of each)\n",
    "vocab_df = pd.DataFrame(list(vocab.items()), columns=[\"Word\", \"Index\"])\n",
    "vocab_df['Count'] = [dtm_df.iloc[:, idx].sum() for idx in vocab_df['Index']]\n",
    "\n",
    "# Sort by count and select the top 25 words\n",
    "top_25_vocab_df = vocab_df.sort_values(by='Count', ascending=False).head(25)[['Word', 'Count']]\n",
    "\n",
    "top_25_vocab_df"
   ],
   "metadata": {
    "collapsed": false,
    "ExecuteTime": {
     "end_time": "2024-11-15T20:16:18.662687Z",
     "start_time": "2024-11-15T20:16:18.589733Z"
    }
   },
   "outputs": [
    {
     "name": "stdout",
     "output_type": "stream",
     "text": [
      "{'exhibit': 658, 'announces': 118, 'revenue': 1622, 'products': 1429, 'increased': 934, 'versus': 1949, 'ago': 94, 'date': 445, 'gaap': 777, 'gross': 831, 'margin': 1088, 'eps': 613, 'november': 1246, 'nasdaq': 1170, 'data': 440, 'announced': 117, 'orders': 1304, 'order': 1303, 'primarily': 1408, 'reduction': 1543, 'decline': 458, 'markets': 1100, 'continue': 383, 'grow': 836, 'percentage': 1346, 'representing': 1585, 'september': 1690, 'backlog': 167, 'june': 995, 'margins': 1092, 'refer': 1545, 'attached': 149, 'reconciliations': 1536, 'measures': 1109, 'directly': 516, 'comparable': 307, 'basis': 180, 'reported': 1577, 'loss': 1059, 'respectively': 1599, 'president': 1396, 'chief': 266, 'executive': 655, 'officer': 1256, 'stated': 1766, 'rate': 1508, 'expected': 667, 'pleased': 1364, 'increasing': 939, 'momentum': 1161, 'solutions': 1755, 'past': 1332, 'portfolio': 1369, 'help': 845, 'customers': 439, 'manage': 1082, 'growth': 838, 'mobile': 1159, 'media': 1111, 'applications': 126, 'recent': 1522, 'quarterly': 1503, 'highlights': 851, 'approximately': 127, 'includes': 887, 'acquired': 28, 'expectations': 666, 'achieved': 27, 'level': 1015, 'acquisitions': 35, 'networks': 1213, 'recently': 1523, 'new': 1214, 'second': 1663, 'weeks': 1967, 'provided': 1452, 'china': 271, 'market': 1095, 'purchases': 1470, 'service': 1697, 'world': 1982, 'record': 1537, 'purchased': 1469, 'countries': 413, 'sheet': 1735, 'liquidity': 1040, 'equivalents': 623, 'totaled': 1889, 'flows': 731, 'negative': 1176, 'positive': 1374, 'working': 1980, 'capital': 216, 'guidance': 839, 'believe': 189, 'revenues': 1627, 'range': 1505, 'mid': 1118, 'percent': 1341, 'expect': 665, 'previous': 1403, 'excludes': 649, 'estimated': 634, 'compensation': 330, 'amortization': 105, 'intangible': 954, 'acquisition': 31, 'associated': 147, 'impact': 865, 'adjustments': 80, 'included': 885, 'represent': 1584, 'live': 1045, 'webcast': 1963, 'replay': 1573, 'host': 855, 'conference': 350, 'discuss': 526, 'certain': 248, 'concerning': 343, 'outlook': 1307, 'access': 5, 'visit': 1954, 'web': 1962, 'site': 1751, 'www': 1985, 'investor': 978, 'relations': 1562, 'section': 1670, 'days': 447, 'plans': 1359, 'provide': 1451, 'prior': 1413, 'periods': 1353, 'telephone': 1847, 'week': 1966, 'press': 1399, 'calculation': 212, 'generally': 813, 'items': 990, 'intangibles': 957, 'restructuring': 1604, 'charges': 264, 'unusual': 1920, 'recurring': 1540, 'gains': 807, 'believes': 190, 'excluding': 650, 'provides': 1458, 'investors': 981, 'core': 399, 'useful': 1934, 'prospects': 1450, 'underlying': 1910, 'trends': 1901, 'expenditures': 669, 'continuing': 386, 'uses': 1937, 'evaluate': 638, 'operational': 1289, 'board': 199, 'directors': 519, 'incentive': 882, 'evaluating': 639, 'key': 1000, 'addition': 54, 'investment': 976, 'reporting': 1580, 'reconciliation': 1529, 'measure': 1107, 'considered': 356, 'substitute': 1809, 'corresponding': 403, 'reflect': 1546, 'involve': 982, 'differ': 498, 'result': 1607, 'important': 875, 'risk': 1636, 'include': 883, 'identified': 862, 'form': 752, 'filings': 706, 'commission': 285, 'changes': 257, 'general': 810, 'economic': 576, 'political': 1368, 'conditions': 349, 'operate': 1264, 'credit': 416, 'availability': 160, 'overall': 1312, 'spending': 1761, 'resulting': 1611, 'lower': 1076, 'prices': 1406, 'demand': 480, 'ability': 0, 'partially': 1323, 'foreign': 747, 'trade': 1891, 'international': 968, 'sales': 1647, 'regulations': 1555, 'limited': 1037, 'intellectual': 961, 'property': 1445, 'software': 1752, 'code': 280, 'potential': 1377, 'compliance': 338, 'security': 1676, 'provisions': 1464, 'customer': 438, 'contracts': 391, 'requirements': 1591, 'particular': 1325, 'government': 828, 'debt': 448, 'product': 1426, 'timing': 1867, 'regarding': 1552, 'rights': 1635, 'recognition': 1524, 'competitors': 334, 'consolidation': 368, 'increases': 938, 'maintain': 1077, 'support': 1821, 'supply': 1819, 'relationships': 1564, 'price': 1405, 'undertakes': 1913, 'obligation': 1249, 'publicly': 1466, 'update': 1921, 'events': 640, 'contact': 375, 'vice': 1950, 'finance': 709, 'condensed': 344, 'thousands': 1856, 'goods': 823, 'sold': 1753, 'profit': 1432, 'research': 1592, 'development': 494, 'marketing': 1099, 'administrative': 83, 'provision': 1460, 'benefit': 193, 'weighted': 1969, 'number': 1247, 'outstanding': 1309, 'statement': 1767, 'presentation': 1392, 'purposes': 1472, 'day': 446, 'accompanying': 7, 'october': 1253, 'sheets': 1736, 'december': 453, 'fair': 698, 'value': 1941, 'right': 1634, 'accounts': 16, 'receivable': 1518, 'inventories': 970, 'deferred': 467, 'prepaid': 1385, 'equipment': 614, 'goodwill': 825, 'shareholders': 1726, 'payable': 1334, 'accrued': 21, 'portion': 1370, 'long': 1052, 'commitments': 286, 'contingencies': 380, 'par': 1320, 'authorized': 156, 'issued': 987, 'retained': 1617, 'accumulated': 24, 'comprehensive': 340, 'activities': 38, 'reconcile': 1526, 'impairment': 869, 'held': 844, 'gain': 804, 'investments': 977, 'returns': 1621, 'inventory': 971, 'write': 1984, 'fixed': 726, 'depreciation': 482, 'excess': 641, 'benefits': 195, 'effect': 580, 'used': 1927, 'discontinued': 520, 'investing': 973, 'proceeds': 1422, 'maturities': 1104, 'financing': 719, 'issuance': 985, 'payments': 1339, 'awards': 166, 'change': 255, 'beginning': 185, 'end': 592, 'selected': 1683, 'percentages': 1347, 'technology': 1846, 'companies': 296, 'recognized': 1525, 'options': 1302, 'restricted': 1602, 'units': 1918, 'purchase': 1467, 'employee': 590, 'plan': 1356, 'adjustment': 79, 'represents': 1586, 'consideration': 355, 'employees': 591, 'merger': 1113, 'contingent': 381, 'continued': 384, 'integration': 959, 'charge': 262, 'historical': 852, 'time': 1864, 'unit': 1915, 'effective': 583, 'dilutive': 514, 'excluded': 648, 'professional': 1431, 'fees': 703, 'travel': 1898, 'htm exhibit': 858, 'quarter operating': 1496, 'operating results': 1287, 'revenue million': 1625, 'million revenue': 1143, 'quarter year': 1502, 'year ago': 1987, 'year date': 1988, 'compared period': 320, 'gaap gross': 789, 'gross margin': 832, 'margin non': 1089, 'non gaap': 1224, 'gaap operating': 800, 'operating margin': 1284, 'gaap diluted': 781, 'diluted eps': 506, 'share non': 1721, 'today announced': 1870, 'quarter quarter': 1498, 'quarter results': 1499, 'results operations': 1614, 'quarter million': 1490, 'million compared': 1121, 'compared million': 315, 'million quarter': 1139, 'quarter company': 1475, 'quarter compared': 1476, 'compared quarter': 323, 'quarter non': 1495, 'gaap financial': 785, 'financial measures': 713, 'directly comparable': 517, 'comparable gaap': 308, 'gaap measures': 794, 'gaap basis': 780, 'company reported': 304, 'reported net': 1579, 'net loss': 1200, 'million diluted': 1124, 'diluted share': 509, 'share compared': 1713, 'net income': 1187, 'income quarter': 921, 'share quarter': 1723, 'million months': 1131, 'income million': 912, 'months ended': 1164, 'ended september': 602, 'president chief': 1397, 'chief executive': 267, 'executive officer': 656, 'year year': 1997, 'million year': 1149, 'second quarter': 1665, 'balance sheet': 168, 'cash cash': 222, 'cash equivalents': 224, 'totaled million': 1890, 'cash flows': 231, 'working capital': 1981, 'increased million': 935, 'million million': 1129, 'range million': 1506, 'million non': 1134, 'gaap eps': 784, 'stock based': 1785, 'based compensation': 174, 'amortization intangible': 109, 'intangible assets': 955, 'acquisition related': 33, 'related expenses': 1560, 'expenses net': 682, 'tax impact': 1831, 'gaap adjustments': 779, 'live webcast': 1046, 'investor relations': 979, 'relations section': 1563, 'replay available': 1574, 'gaap non': 798, 'certain non': 250, 'press release': 1400, 'certain items': 249, 'amortization acquired': 106, 'restructuring charges': 1605, 'non cash': 1221, 'non recurring': 1237, 'core operating': 400, 'operating performance': 1285, 'continuing operations': 387, 'management uses': 1084, 'financial results': 716, 'board directors': 200, 'company believes': 298, 'reconciliation non': 1534, 'gaap measure': 793, 'statements press': 1778, 'risks uncertainties': 1639, 'future performance': 775, 'differ materially': 499, 'risk factors': 1637, 'filings securities': 707, 'securities exchange': 1672, 'exchange commission': 643, 'intellectual property': 962, 'economic conditions': 577, 'common stock': 292, 'update forward': 1922, 'result new': 1608, 'new information': 1215, 'information future': 946, 'future events': 774, 'information visit': 949, 'visit www': 1955, 'vice president': 1951, 'condensed consolidated': 345, 'consolidated statements': 364, 'statements operations': 1777, 'september months': 1692, 'thousands share': 1859, 'share data': 1716, 'cost sales': 406, 'sales cost': 1648, 'cost goods': 404, 'goods sold': 824, 'assets total': 144, 'sales gross': 1649, 'gross profit': 833, 'profit operating': 1435, 'operating expenses': 1278, 'research development': 1593, 'sales marketing': 1653, 'general administrative': 811, 'total operating': 1883, 'expenses income': 680, 'income operations': 920, 'operations income': 1293, 'income expense': 899, 'expense net': 674, 'income loss': 906, 'loss operations': 1072, 'provision benefit': 1461, 'benefit income': 194, 'taxes provision': 1843, 'taxes net': 1841, 'earnings share': 560, 'share basic': 1711, 'basic diluted': 177, 'diluted weighted': 512, 'weighted average': 1970, 'average number': 163, 'shares outstanding': 1732, 'outstanding basic': 1310, 'quarter financial': 1483, 'weeks ended': 1968, 'consolidated balance': 359, 'balance sheets': 169, 'september december': 1691, 'assets current': 137, 'current assets': 426, 'assets cash': 135, 'fair value': 699, 'accounts receivable': 19, 'receivable net': 1519, 'net inventories': 1199, 'deferred income': 468, 'prepaid expenses': 1386, 'expenses current': 678, 'total current': 1876, 'assets property': 143, 'property equipment': 1446, 'equipment net': 615, 'goodwill intangible': 826, 'assets net': 142, 'net total': 1211, 'total assets': 1874, 'assets liabilities': 139, 'liabilities shareholders': 1025, 'shareholders equity': 1727, 'equity current': 617, 'current liabilities': 431, 'liabilities accounts': 1018, 'accounts payable': 17, 'payable accrued': 1335, 'accrued expenses': 22, 'current portion': 435, 'non current': 1223, 'long term': 1053, 'term liabilities': 1850, 'liabilities total': 1029, 'total liabilities': 1880, 'equity common': 616, 'stock par': 1789, 'par value': 1321, 'value shares': 1942, 'shares authorized': 1728, 'authorized shares': 157, 'shares issued': 1731, 'issued outstanding': 988, 'retained earnings': 1618, 'accumulated comprehensive': 25, 'comprehensive income': 341, 'equity total': 620, 'statements cash': 1769, 'flows operating': 736, 'operating activities': 1267, 'activities net': 47, 'income adjustments': 890, 'adjustments reconcile': 81, 'reconcile net': 1527, 'income net': 914, 'net cash': 1179, 'cash provided': 235, 'provided operating': 1453, 'depreciation amortization': 483, 'excess tax': 642, 'tax benefits': 1827, 'changes operating': 259, 'operating assets': 1271, 'liabilities net': 1024, 'operations net': 1296, 'cash used': 238, 'used operating': 1932, 'discontinued operations': 521, 'activities cash': 41, 'flows investing': 734, 'investing activities': 974, 'cash acquired': 221, 'purchases property': 1471, 'provided used': 1455, 'used investing': 1930, 'flows financing': 732, 'financing activities': 720, 'activities effect': 45, 'effect exchange': 581, 'exchange rate': 644, 'rate changes': 1509, 'changes cash': 258, 'equivalents cash': 626, 'equivalents beginning': 624, 'beginning period': 186, 'period cash': 1349, 'equivalents end': 628, 'end period': 593, 'share share': 1725, 'gaap net': 795, 'compensation expense': 331, 'stock options': 1788, 'related costs': 1559, 'costs associated': 408, 'impairment charge': 870, 'income tax': 923, 'tax effect': 1828, 'effective tax': 584, 'tax rate': 1835, 'average shares': 164, 'shares used': 1734, 'diluted earnings': 504, 'gaap gross margin': 790, 'margin non gaap': 1090, 'non gaap gross': 1229, 'non gaap operating': 1234, 'share non gaap': 1722, 'non gaap diluted': 1227, 'quarter million compared': 1491, 'million compared million': 1122, 'compared million quarter': 318, 'non gaap financial': 1228, 'gaap financial measures': 788, 'directly comparable gaap': 518, 'million diluted share': 1125, 'diluted share compared': 510, 'net income million': 1194, 'income million diluted': 913, 'months ended september': 1169, 'president chief executive': 1398, 'chief executive officer': 268, 'cash cash equivalents': 223, 'million quarter compared': 1140, 'increased million million': 936, 'range million million': 1507, 'stock based compensation': 1786, 'amortization intangible assets': 110, 'non gaap adjustments': 1226, 'investor relations section': 980, 'gaap non gaap': 799, 'certain non gaap': 251, 'non gaap measures': 1232, 'reconciliation non gaap': 1535, 'statements press release': 1779, 'filings securities exchange': 708, 'securities exchange commission': 1673, 'update forward looking': 1923, 'result new information': 1609, 'new information future': 1216, 'information future events': 947, 'condensed consolidated statements': 347, 'consolidated statements operations': 367, 'ended september months': 603, 'september months ended': 1693, 'thousands share data': 1861, 'sales gross profit': 1650, 'total operating expenses': 1884, 'income expense net': 901, 'expense net income': 675, 'net income loss': 1193, 'income taxes provision': 929, 'income taxes net': 928, 'taxes net income': 1842, 'share basic diluted': 1712, 'basic diluted weighted': 178, 'diluted weighted average': 513, 'weighted average number': 1972, 'shares outstanding basic': 1733, 'outstanding basic diluted': 1311, 'condensed consolidated balance': 346, 'consolidated balance sheets': 360, 'assets current assets': 138, 'current assets cash': 427, 'assets cash cash': 136, 'accounts receivable net': 20, 'deferred income taxes': 469, 'prepaid expenses current': 1387, 'expenses current assets': 679, 'current assets total': 429, 'assets total current': 146, 'total current assets': 1877, 'current assets property': 428, 'property equipment net': 1447, 'goodwill intangible assets': 827, 'intangible assets net': 956, 'total assets liabilities': 1875, 'liabilities shareholders equity': 1026, 'equity current liabilities': 618, 'current liabilities accounts': 432, 'liabilities accounts payable': 1019, 'accounts payable accrued': 18, 'payable accrued expenses': 1336, 'total current liabilities': 1878, 'long term liabilities': 1055, 'liabilities total liabilities': 1030, 'common stock par': 293, 'stock par value': 1790, 'par value shares': 1322, 'value shares authorized': 1943, 'authorized shares issued': 158, 'equity total liabilities': 621, 'consolidated statements cash': 365, 'statements cash flows': 1770, 'cash flows operating': 234, 'flows operating activities': 737, 'operating activities net': 1270, 'activities net income': 48, 'adjustments reconcile net': 82, 'reconcile net income': 1528, 'net income net': 1195, 'income net cash': 915, 'net cash provided': 1180, 'cash provided operating': 236, 'provided operating activities': 1454, 'changes operating assets': 260, 'operating assets liabilities': 1272, 'assets liabilities net': 140, 'net cash used': 1181, 'used operating activities': 1933, 'discontinued operations net': 522, 'operating activities cash': 1268, 'activities cash flows': 42, 'cash flows investing': 233, 'flows investing activities': 735, 'cash provided used': 237, 'used investing activities': 1931, 'investing activities cash': 975, 'cash flows financing': 232, 'flows financing activities': 733, 'financing activities effect': 721, 'activities effect exchange': 46, 'effect exchange rate': 582, 'exchange rate changes': 645, 'rate changes cash': 1510, 'cash equivalents cash': 226, 'equivalents cash cash': 627, 'cash equivalents beginning': 225, 'equivalents beginning period': 625, 'beginning period cash': 187, 'period cash cash': 1350, 'cash equivalents end': 227, 'equivalents end period': 629, 'non gaap net': 1233, 'gaap net income': 796, 'based compensation expense': 175, 'effective tax rate': 585, 'weighted average shares': 1973, 'diluted earnings share': 505, 'fiscal': 723, 'nyse': 1248, 'leading': 1009, 'http': 860, 'free': 765, 'flow': 729, 'described': 488, 'table': 1823, 'tables': 1824, 'decrease': 461, 'line': 1038, 'remain': 1568, 'strategic': 1798, 'said': 1645, 'solid': 1754, 'segments': 1682, 'license': 1032, 'strong': 1802, 'cloud': 278, 'controlling': 396, 'focus': 739, 'follows': 744, 'services': 1698, 'early': 548, 'termination': 1852, 'large': 1003, 'declines': 460, 'offset': 1257, 'consumer': 374, 'previously': 1404, 'eastern': 565, 'pacific': 1314, 'report': 1575, 'various': 1944, 'accessed': 6, 'february': 701, 'network': 1212, 'listen': 1041, 'superior': 1814, 'drive': 546, 'decisions': 457, 'use': 1924, 'predict': 1381, 'industries': 944, 'way': 1960, 'standard': 1762, 'united': 1916, 'states': 1782, 'industry': 945, 'businesses': 209, 'control': 395, 'meet': 1112, 'regulatory': 1556, 'competitive': 333, 'millions': 1150, 'health': 842, 'make': 1080, 'contained': 376, 'news': 1219, 'relate': 1557, 'meaning': 1105, 'safe': 1642, 'harbor': 841, 'private': 1417, 'litigation': 1042, 'reform': 1550, 'act': 36, 'subject': 1804, 'cause': 241, 'success': 1810, 'strategy': 1800, 'maintenance': 1078, 'existing': 660, 'partners': 1328, 'develop': 493, 'personnel': 1354, 'competition': 332, 'applicable': 125, 'failure': 697, 'anticipated': 123, 'material': 1101, 'adverse': 88, 'developments': 495, 'global': 821, 'sec': 1662, 'reports': 1581, 'annual': 119, 'marketable': 1097, 'stockholders': 1791, 'senior': 1688, 'selling': 1684, 'activity': 49, 'paid': 1317, 'revolving': 1632, 'segment': 1677, 'dividends': 536, 'supplement': 1815, 'following': 742, 'exclude': 647, 'valuation': 1940, 'allowance': 99, 'intended': 964, 'isolation': 983, 'prepared': 1388, 'presented': 1393, 'accordance': 8, 'making': 1081, 'comparisons': 329, 'meaningful': 1106, 'supplemental': 1816, 'indicative': 942, 'significant': 1742, 'planning': 1358, 'internal': 967, 'greater': 829, 'respect': 1598, 'analysts': 116, 'quarter fiscal': 1485, 'million prior': 1137, 'fiscal quarter': 724, 'quarter ended': 1479, 'ended december': 594, 'gaap results': 802, 'million share': 1146, 'prior year': 1414, 'year period': 1994, 'free cash': 766, 'cash flow': 229, 'gaap revenue': 803, 'revenues million': 1628, 'company operating': 302, 'year quarter': 1995, 'partially offset': 1324, 'company business': 299, 'quarter increase': 1488, 'revenue increased': 1624, 'gaap earnings': 783, 'host conference': 856, 'eastern time': 566, 'united states': 1917, 'statements contained': 1771, 'news release': 1220, 'statements meaning': 1776, 'safe harbor': 1643, 'private securities': 1418, 'securities litigation': 1674, 'litigation reform': 1043, 'reform act': 1551, 'uncertainties cause': 1906, 'cause actual': 242, 'actual results': 50, 'results differ': 1612, 'products services': 1430, 'time time': 1865, 'annual report': 120, 'report form': 1576, 'form year': 753, 'year ended': 1990, 'obligation update': 1250, 'sheets thousands': 1737, 'thousands unaudited': 1862, 'marketable securities': 1098, 'liabilities stockholders': 1027, 'stockholders equity': 1792, 'accrued liabilities': 23, 'total stockholders': 1887, 'statements income': 1775, 'data unaudited': 443, 'selling general': 1685, 'operating expense': 1277, 'income income': 903, 'provision income': 1462, 'basic earnings': 179, 'share diluted': 1719, 'activities depreciation': 43, 'share based': 1709, 'net net': 1203, 'operating cash': 1273, 'used financing': 1928, 'total revenues': 1886, 'net tax': 1210, 'income gaap': 902, 'dividends paid': 537, 'financial statements': 718, 'income non': 917, 'amortization expense': 108, 'capital expenditures': 217, 'considered isolation': 357, 'isolation substitute': 984, 'financial information': 711, 'presented accordance': 1394, 'accordance gaap': 9, 'period period': 1351, 'management believes': 1083, 'believes non': 191, 'supplemental information': 1817, 'information regarding': 948, 'useful investors': 1936, 'measures used': 1110, 'prior year period': 1415, 'non gaap results': 1235, 'million prior year': 1138, 'free cash flow': 767, 'quarter compared million': 1477, 'compared million prior': 317, 'prior year quarter': 1416, 'looking statements meaning': 1058, 'private securities litigation': 1419, 'securities litigation reform': 1675, 'litigation reform act': 1044, 'risks uncertainties cause': 1640, 'uncertainties cause actual': 1907, 'cause actual results': 243, 'actual results differ': 51, 'results differ materially': 1613, 'annual report form': 121, 'form year ended': 754, 'balance sheets thousands': 170, 'assets liabilities stockholders': 141, 'liabilities stockholders equity': 1028, 'stockholders equity current': 1793, 'payable accrued liabilities': 1337, 'consolidated statements income': 366, 'share data unaudited': 1718, 'net income income': 1192, 'income net income': 916, 'earnings share diluted': 562, 'operating activities depreciation': 1269, 'cash used investing': 240, 'used financing activities': 1929, 'gaap diluted earnings': 782, 'net income non': 1196, 'income non gaap': 918, 'share based compensation': 1710, 'believes non gaap': 192, 'resources': 1597, 'high': 849, 'building': 208, 'half': 840, 'grew': 830, 'sequentially': 1696, 'reflecting': 1548, 'wholesale': 1975, 'improvements': 879, 'canada': 214, 'region': 1553, 'strength': 1801, 'efforts': 588, 'technologies': 1845, 'sequential': 1695, 'driven': 547, 'project': 1440, 'expanded': 663, 'systems': 1822, 'generated': 817, 'sale': 1646, 'real': 1515, 'estate': 632, 'integrated': 958, 'projects': 1443, 'significantly': 1743, 'expand': 662, 'capacity': 215, 'mexico': 1117, 'manufacturing': 1085, 'facility': 693, 'distribution': 531, 'center': 244, 'texas': 1855, 'contract': 390, 'drilling': 545, 'wells': 1974, 'work': 1979, 'scheduled': 1661, 'broadcast': 207, 'internet': 969, 'central': 245, 'dial': 496, 'minutes': 1157, 'start': 1764, 'dialing': 497, 'using': 1938, 'worldwide': 1983, 'provider': 1457, 'commercial': 284, 'website': 1964, 'contains': 377, 'estimates': 635, 'projections': 1442, 'position': 1373, 'words': 1978, 'expects': 668, 'anticipates': 124, 'similar': 1745, 'expressions': 689, 'assumptions': 148, 'discussed': 527, 'fully': 770, 'filed': 705, 'particularly': 1326, 'successful': 1811, 'oil': 1259, 'natural': 1172, 'gas': 809, 'raw': 1513, 'materials': 1102, 'nature': 1174, 'funds': 773, 'legal': 1014, 'matters': 1103, 'environmental': 612, 'limitations': 1036, 'insurance': 953, 'impairments': 872, 'lived': 1047, 'weather': 1961, 'currency': 421, 'disposal': 529, 'conversion': 397, 'notes': 1245, 'adjusted': 61, 'add': 52, 'corporate': 401, 'receivables': 1520, 'plant': 1360, 'short': 1739, 'treasury': 1899, 'borrowings': 203, 'lines': 1039, 'income diluted': 896, 'revenues operating': 1629, 'operating income': 1279, 'results quarter': 1615, 'million second': 1144, 'income continuing': 894, 'revenue growth': 1623, 'segment operating': 1679, 'quarter included': 1487, 'included million': 886, 'gain sale': 806, 'real estate': 1516, 'approximately million': 128, 'website www': 1965, 'release contains': 1565, 'contains forward': 378, 'current expectations': 430, 'statements forward': 1772, 'similar expressions': 1746, 'include limited': 884, 'natural gas': 1173, 'unaudited months': 1903, 'ended months': 600, 'september september': 1694, 'administrative expenses': 85, 'expenses operating': 683, 'expense income': 672, 'net operating': 1204, 'foreign currency': 748, 'currency exchange': 423, 'taxes income': 1839, 'tax net': 1833, 'income common': 893, 'common share': 288, 'senior notes': 1689, 'adjusted income': 74, 'common shares': 290, 'deferred tax': 471, 'tax assets': 1825, 'property plant': 1448, 'plant equipment': 1361, 'net goodwill': 1186, 'net assets': 1178, 'short term': 1740, 'term debt': 1848, 'liabilities long': 1022, 'paid capital': 1318, 'comprehensive loss': 342, 'treasury stock': 1900, 'tax benefit': 1826, 'increase decrease': 931, 'activities capital': 39, 'proceeds sale': 1423, 'net income diluted': 1191, 'income diluted share': 897, 'quarter ended september': 1482, 'million second quarter': 1145, 'second quarter million': 1668, 'income continuing operations': 895, 'segment operating income': 1680, 'operating income million': 1282, 'release contains forward': 1566, 'contains forward looking': 379, 'statements forward looking': 1773, 'year ended december': 1991, 'unaudited months ended': 1904, 'months ended months': 1168, 'ended months ended': 601, 'selling general administrative': 1686, 'general administrative expenses': 812, 'foreign currency exchange': 749, 'net income continuing': 1190, 'continuing operations income': 389, 'operations income taxes': 1294, 'provision income taxes': 1463, 'income taxes income': 927, 'operations net tax': 1298, 'operations net income': 1297, 'common shares outstanding': 291, 'operating income loss': 1281, 'deferred tax assets': 472, 'property plant equipment': 1449, 'plant equipment net': 1362, 'current liabilities long': 433, 'liabilities long term': 1023, 'long term debt': 1054, 'total stockholders equity': 1888, 'stockholders equity total': 1794, 'total liabilities stockholders': 1881, 'activities capital expenditures': 40, 'cash used financing': 239, 'york': 1999, 'times': 1866, 'fourth': 758, 'dividend': 535, 'defined': 475, 'decreased': 464, 'higher': 850, 'mark': 1093, 'added': 53, 'digital': 503, 'subscription': 1805, 'accelerated': 1, 'advertising': 89, 'best': 196, 'years': 1998, 'quarters': 1504, 'quality': 1473, 'direct': 515, 'transition': 1895, 'light': 1034, 'progress': 1439, 'review': 1630, 'noted': 1244, 'additional': 55, 'accounting': 13, 'standards': 1763, 'retirement': 1619, 'improving': 880, 'pension': 1340, 'postretirement': 1376, 'adoption': 86, 'comparability': 306, 'presents': 1395, 'severance': 1703, 'special': 1757, 'discussion': 528, 'connection': 353, 'single': 1750, 'amounts': 111, 'noncontrolling': 1238, 'subsidiary': 1808, 'settlement': 1701, 'obligations': 1251, 'funding': 772, 'attributable': 150, 'required': 1590, 'declined': 459, 'additions': 60, 'reflected': 1547, 'rental': 1572, 'labor': 1001, 'production': 1427, 'brand': 205, 'components': 339, 'federal': 702, 'set': 1699, 'option': 1301, 'repurchase': 1587, 'exercise': 657, 'fund': 771, 'lease': 1010, 'class': 274, 'april': 129, 'point': 1366, 'low': 1075, 'pre': 1379, 'generate': 816, 'callers': 213, 'online': 1262, 'audio': 154, 'environment': 611, 'operates': 1266, 'national': 1171, 'local': 1049, 'levels': 1016, 'volume': 1957, 'implementation': 873, 'initiatives': 951, 'detailed': 491, 'revise': 1631, 'properties': 1444, 'model': 1160, 'follow': 741, 'dollars': 541, 'joint': 992, 'retail': 1616, 'commerce': 283, 'losses': 1074, 'outside': 1308, 'item': 989, 'resulted': 1610, 'credits': 418, 'additionally': 59, 'recorded': 1538, 'liability': 1031, 'remaining': 1569, 'operated': 1265, 'group': 835, 'conjunction': 352, 'alternative': 100, 'note': 1243, 'accordingly': 12, 'return': 1620, 'rates': 1511, 'better': 197, 'understanding': 1911, 'does': 539, 'consider': 354, 'ongoing': 1261, 'comparison': 328, 'asset': 133, 'rounding': 1641, 'metrics': 1116, 'reflects': 1549, 'remains': 1570, 'metric': 1115, 'exhibit exhibit': 659, 'new york': 1218, 'fourth quarter': 759, 'share continuing': 1714, 'adjusted diluted': 62, 'compared fourth': 313, 'operating profit': 1286, 'decreased million': 465, 'million fourth': 1126, 'million period': 1136, 'adjusted operating': 77, 'second half': 1664, 'year million': 1992, 'percent year': 1345, 'quarter months': 1492, 'non operating': 1236, 'special items': 1758, 'operating costs': 1275, 'quarter earnings': 1478, 'earnings release': 559, 'million adjusted': 1119, 'charge million': 263, 'million tax': 1148, 'charges million': 265, 'loss million': 1070, 'quarter increased': 1489, 'increased percent': 937, 'percent million': 1343, 'excluding impact': 651, 'percent percent': 1344, 'percent compared': 1342, 'quarter primarily': 1497, 'quarter net': 1493, 'net increase': 1198, 'million percent': 1135, 'quarter adjusted': 1474, 'raw material': 1514, 'costs related': 412, 'offset lower': 1258, 'tax expense': 1829, 'expense million': 673, 'tax reform': 1836, 'restricted cash': 1603, 'total debt': 1879, 'capital lease': 218, 'lease obligations': 1011, 'primarily related': 1409, 'company expects': 300, 'pre tax': 1380, 'looking statement': 1056, 'change change': 256, 'gain loss': 805, 'loss discontinued': 1066, 'loss net': 1071, 'loss attributable': 1061, 'attributable noncontrolling': 152, 'common stockholders': 294, 'share attributable': 1708, 'additional information': 56, 'amounts thousands': 113, 'following table': 743, 'december december': 455, 'gains losses': 808, 'current period': 434, 'company recorded': 303, 'costs million': 410, 'million respectively': 1142, 'expenses related': 685, 'performance company': 1348, 'useful information': 1935, 'earnings loss': 557, 'loss share': 1073, 'gaap adjusted': 778, 'impairment charges': 871, 'dollars thousands': 543, 'operations adjusted': 1290, 'income operating': 919, 'excluding special': 652, 'htm exhibit exhibit': 859, 'fourth quarter year': 763, 'earnings share continuing': 561, 'share continuing operations': 1715, 'adjusted diluted earnings': 63, 'fourth quarter compared': 760, 'compared fourth quarter': 314, 'million fourth quarter': 1127, 'fourth quarter million': 762, 'months ended december': 1165, 'comparable gaap financial': 309, 'income tax expense': 925, 'forward looking statement': 757, 'taxes income tax': 1840, 'loss discontinued operations': 1067, 'income loss net': 910, 'income loss attributable': 907, 'million million respectively': 1130, 'gaap financial information': 786, 'earnings loss share': 558, 'excluding special items': 653, 'billion': 198, 'compare': 312, 'ceo': 247, 'limitation': 1035, 'deliver': 477, 'programs': 1438, 'pricing': 1407, 'mix': 1158, 'terms': 1853, 'currently': 437, 'logistics': 1051, 'parties': 1327, 'reliance': 1567, 'party': 1330, 'public': 1465, 'circumstances': 272, 'delivery': 479, 'unfavorable': 1914, 'affect': 91, 'amended': 101, 'march': 1086, 'store': 1795, 'margin percent': 1091, 'quarter revenue': 1500, 'sales million': 1654, 'flow operations': 730, 'sales operating': 1655, 'consolidated financial': 361, 'company financial': 301, 'fiscal year': 725, 'millions share': 1153, 'share amounts': 1705, 'amounts months': 112, 'net sales': 1207, 'income earnings': 898, 'earnings common': 550, 'diluted shares': 511, 'acquired intangible': 29, 'deferred revenue': 470, 'loss income': 1068, 'millions months': 1151, 'term investments': 1849, 'decrease cash': 462, 'cash flow operations': 230, 'press release contains': 1401, 'consolidated financial statements': 362, 'millions share amounts': 1154, 'thousands share amounts': 1860, 'share amounts months': 1706, 'ended september september': 604, 'net sales cost': 1208, 'expenses operating income': 684, 'income expense income': 900, 'earnings common share': 551, 'acquired intangible assets': 30, 'assets total assets': 145, 'millions months ended': 1152, 'activities depreciation amortization': 44, 'decrease cash cash': 463, 'expansion': 664, 'compares': 327, 'base': 173, 'dollar': 540, 'asc': 130, 'january': 991, 'principal': 1410, 'incurred': 941, 'offering': 1254, 'august': 155, 'regulation': 1554, 'platform': 1363, 'identify': 863, 'anticipate': 122, 'estimate': 633, 'intend': 963, 'profitability': 1436, 'strategies': 1799, 'beliefs': 188, 'expressed': 688, 'agreements': 96, 'process': 1424, 'channel': 261, 'infrastructure': 950, 'europe': 636, 'asia': 131, 'latin': 1005, 'america': 102, 'enterprise': 610, 'productivity': 1428, 'fluctuations': 738, 'successfully': 1812, 'achieve': 26, 'transactions': 1894, 'forth': 756, 'place': 1355, 'law': 1006, 'undertake': 1912, 'accepted': 2, 'principles': 1411, 'present': 1391, 'divided': 534, 'impacted': 867, 'capitalized': 219, 'affecting': 92, 'agreement': 95, 'calculated': 211, 'implied': 874, 'measurement': 1108, 'subsidiaries': 1807, 'incremental': 940, 'continues': 385, 'pay': 1333, 'deficit': 473, 'calculate': 210, 'effects': 586, 'ended june': 596, 'compared second': 324, 'net revenue': 1205, 'income share': 922, 'contingent consideration': 382, 'statements regarding': 1780, 'statements based': 1768, 'company ability': 297, 'new products': 1217, 'asia pacific': 132, 'set forth': 1700, 'use non': 1925, 'accordance generally': 10, 'generally accepted': 814, 'accepted accounting': 3, 'accounting principles': 14, 'principles gaap': 1412, 'prepared accordance': 1389, 'gaap income': 792, 'operations non': 1299, 'cost revenue': 405, 'expense non': 676, 'administrative expense': 84, 'loss adjusted': 1060, 'diluted net': 507, 'loss common': 1062, 'june december': 996, 'costs net': 411, 'additional paid': 57, 'june june': 997, 'equivalents restricted': 630, 'quarter financial results': 1484, 'quarter ended june': 1480, 'second quarter results': 1669, 'compared second quarter': 325, 'gaap net loss': 797, 'net loss million': 1202, 'average shares outstanding': 165, 'operating cash flow': 1274, 'net income share': 1197, 'use non gaap': 1926, 'accordance generally accepted': 11, 'generally accepted accounting': 815, 'accepted accounting principles': 4, 'accounting principles gaap': 15, 'prepared accordance gaap': 1390, 'gaap gross profit': 791, 'non gaap income': 1230, 'income loss share': 911, 'acquisition related costs': 34, 'diluted net income': 508, 'loss common share': 1063, 'additional paid capital': 58, 'months ended june': 1166, 'ended june june': 597, 'net loss income': 1201, 'loss income taxes': 1069, 'provided used operating': 1456, 'financing activities net': 722, 'cash equivalents restricted': 228, 'equivalents restricted cash': 631, 'gaap operating income': 801, 'july': 994, 'chairman': 253, 'improvement': 878, 'residential': 1596, 'recovery': 1539, 'completed': 336, 'digit': 502, 'improved': 877, 'home': 854, 'shipments': 1738, 'opportunities': 1300, 'volumes': 1958, 'points': 1367, 'brands': 206, 'convertible': 398, 'uncertainty': 1908, 'economy': 578, 'leader': 1008, 'month': 1162, 'transportation': 1897, 'energy': 607, 'plus': 1365, 'ebit': 567, 'ebitda': 568, 'today reported': 1871, 'loss continuing': 1064, 'sales increased': 1652, 'sales growth': 1651, 'period year': 1352, 'sales volumes': 1658, 'compared net': 319, 'month period': 1163, 'company website': 305, 'conference available': 351, 'unaudited thousands': 1905, 'tax provision': 1834, 'operations discontinued': 1292, 'portion long': 1371, 'loss continuing operations': 1065, 'second quarter compared': 1666, 'income loss continuing': 908, 'income tax provision': 926, 'current portion long': 436, 'portion long term': 1372, 'adjusted operating income': 78, 'non gaap adjusted': 1225, 'vehicle': 1946, 'despite': 490, 'actions': 37, 'reduce': 1541, 'facilities': 692, 'improve': 876, 'automotive': 159, 'flat': 727, 'generation': 818, 'impacts': 868, 'contributions': 394, 'negatively': 1177, 'payment': 1338, 'locations': 1050, 'fleet': 728, 'leases': 1012, 'ending': 606, 'received': 1521, 'premium': 1384, 'given': 820, 'reduced': 1542, 'construction': 372, 'planned': 1357, 'european': 637, 'design': 489, 'efficiency': 587, 'delivered': 478, 'vehicles': 1947, 'air': 97, 'power': 1378, 'possible': 1375, 'team': 1844, 'difficult': 501, 'necessary': 1175, 'interests': 965, 'dec': 452, 'offerings': 1255, 'condition': 348, 'relating': 1561, 'reductions': 1544, 'projected': 1441, 'pandemic': 1319, 'delays': 476, 'completion': 337, 'suppliers': 1818, 'occur': 1252, 'fuel': 769, 'laws': 1007, 'unaudited millions': 1902, 'adjusted ebitda': 67, 'ebitda adjusted': 569, 'ebitda margin': 571, 'income attributable': 891, 'attributable common': 151, 'revenue operating': 1626, 'compared prior': 321, 'total net': 1882, 'expense expense': 671, 'noncontrolling interests': 1239, 'interests net': 966, 'liabilities equity': 1021, 'net current': 1182, 'taxes depreciation': 1837, 'ebitda non': 574, 'financial condition': 710, 'reported gaap': 1578, 'reconciliation gaap': 1530, 'foreign exchange': 751, 'adjusted ebitda adjusted': 68, 'ebitda adjusted ebitda': 570, 'adjusted ebitda margin': 69, 'income income taxes': 904, 'net income attributable': 1189, 'income attributable noncontrolling': 892, 'attributable noncontrolling interests': 153, 'taxes depreciation amortization': 1838, 'adjusted ebitda non': 71, 'ebitda non gaap': 575, 'reconciliation gaap non': 1531, 'healthcare': 843, 'incorporated': 930, 'facts': 696, 'providing': 1459, 'care': 220, 'client': 275, 'claims': 273, 'experience': 686, 'page': 1316, 'state': 1765, 'clients': 276, 'major': 1079, 'education': 579, 'inability': 881, 'largest': 1004, 'compared year': 326, 'year end': 1989, 'section securities': 1671, 'based current': 176, 'risks associated': 1638, 'financial performance': 715, 'costs expenses': 409, 'quarter net income': 1494, 'corporation': 402, 'repurchased': 1588, 'summary': 1813, 'enhance': 609, 'determined': 492, 'domestic': 544, 'disruptions': 530, 'complete': 335, 'loan': 1048, 'repurchases': 1589, 'reports quarter': 1583, 'shares common': 1729, 'increase percent': 933, 'sales quarter': 1656, 'million increase': 1128, 'revolving credit': 1633, 'reconciliation net': 1532, 'share net': 1720, 'factors cause': 694, 'exchange rates': 646, 'amounts unaudited': 114, 'ended march': 599, 'march december': 1087, 'december assets': 454, 'shares common stock': 1730, 'reconciliation net income': 1533, 'factors cause actual': 695, 'share amounts unaudited': 1707, 'million months ended': 1132, 'months ended march': 1167, 'short term investments': 1741, 'thousands unaudited months': 1863, 'growing': 837, 'structure': 1803, 'savings': 1659, 'led': 1013, 'american': 103, 'combined': 282, 'different': 500, 'video': 1952, 'program': 1437, 'view': 1953, 'favorable': 700, 'increase million': 932, 'operating loss': 1283, 'million related': 1141, 'cost savings': 407, 'financial measure': 712, 'statements include': 1774, 'data months': 441, 'equity earnings': 619, 'expense benefit': 670, 'common shareholders': 289, 'financial results quarter': 717, 'quarter ended march': 1481, 'compared prior year': 322, 'gaap financial measure': 787, 'looking statements include': 1057, 'share data months': 1717, 'data months ended': 442, 'income loss income': 909, 'tax expense benefit': 1830, 'holdings': 853, 'north': 1240, 'ratio': 1512, 'freight': 768, 'discrete': 524, 'specific': 1760, 'bps': 204, 'contributed': 392, 'focused': 740, 'parts': 1329, 'settlements': 1702, 'transaction': 1892, 'organic': 1305, 'subsequent': 1806, 'vary': 1945, 'define': 474, 'discretionary': 525, 'north america': 1241, 'adjusted net': 75, 'earnings diluted': 554, 'adjusted eps': 72, 'basis points': 181, 'total revenue': 1885, 'income adjusted': 889, 'share adjusted': 1704, 'debt net': 451, 'net debt': 1183, 'credit facility': 417, 'chief financial': 269, 'financial officer': 714, 'statements statements': 1781, 'market conditions': 1096, 'tax income': 1832, 'liabilities current': 1020, 'term loan': 1851, 'adjusted net income': 76, 'earnings diluted share': 555, 'chief financial officer': 270, 'pro': 1420, 'forma': 755, 'bookings': 202, 'realized': 1517, 'wide': 1976, 'leverage': 1017, 'preferred': 1382, 'discount': 523, 'pro forma': 1421, 'earnings taxes': 563, 'december respectively': 456, 'debt issuance': 449, 'preferred stock': 1383, 'stock compensation': 1787, 'net earnings': 1184, 'millions share data': 1155, 'data unaudited months': 444, 'east': 564, 'combination': 281, 'packaging': 1315, 'safety': 1644, 'analysis': 115, 'step': 1784, 'million net': 1133, 'expenses million': 681, 'expense related': 677, 'purchase accounting': 1468, 'earnings income': 556, 'thousands months': 1857, 'amortization acquisition': 107, 'non gaap measure': 1231, 'thousands months ended': 1858, 'unconsolidated': 1909, 'affiliates': 93, 'pretax': 1402, 'communications': 295, 'consistent': 358, 'schedule': 1660, 'titled': 1868, 'processing': 1425, 'contribution': 393, 'consolidated net': 363, 'operating revenues': 1288, 'million decrease': 1123, 'million shares': 1147, 'share repurchase': 1724, 'operations million': 1295, 'income increased': 905, 'average common': 161, 'transaction costs': 1893, 'currency exchange rates': 424, 'weighted average common': 1971, 'average common shares': 162, 'life': 1033, 'closed': 277, 'advanced': 87, 'test': 1854, 'similarly': 1747, 'endedseptember': 605, 'extinguishment': 690, 'profit million': 1434, 'million cash': 1120, 'comparable similarly': 310, 'similarly titled': 1748, 'titled measures': 1869, 'net expense': 1185, 'june months': 998, 'issuance costs': 986, 'comparable similarly titled': 311, 'similarly titled measures': 1749, 'income tax benefit': 924, 'ended june months': 598, 'june months ended': 999, 'geographic': 819, 'volatility': 1956, 'chain': 252, 'exploration': 687, 'reserve': 1594, 'rent': 1571, 'derivative': 486, 'impact foreign': 866, 'segment profit': 1681, 'reports form': 1582, 'supply chain': 1820, 'restructuring costs': 1606, 'integration costs': 960, 'year results': 1996, 'mark market': 1094, 'defense': 466, 'reserves': 1595, 'translation': 1896, 'commodity': 287, 'specialty': 1759, 'eliminations': 589, 'asset impairment': 134, 'adjusted earnings': 65, 'sales volume': 1657, 'fourth quarter fiscal': 761, 'adjusted earnings share': 66, 'quarter fiscal year': 1486, 'debt issuance costs': 450, 'industrial': 943, 'food': 745, 'method': 1114, 'profit margin': 1433, 'quarter sales': 1501, 'http www': 861, 'dollars millions': 542, 'gross profit margin': 834, 'wireless': 1977, 'owned': 1313, 'south': 1756, 'divestitures': 533, 'challenges': 254, 'including limited': 888, 'future results': 776, 'related charges': 1558, 'net sales million': 1209, 'restaurant': 1600, 'restaurants': 1601, 'stores': 1797, 'covid': 414, 'derivatives': 487, 'covid pandemic': 415, 'ebitda net': 573, 'depreciation amortization expense': 484, 'north american': 1242, 'steel': 1783, 'execution': 654, 'tons': 1873, 'ton': 1872, 'invested': 972, 'field': 704, 'aerospace': 90, 'land': 1002, 'oil gas': 1260, 'adjusted gross': 73, 'operating income expense': 1280, 'unrealized': 1919, 'instruments': 952, 'hotels': 857, 'forecast': 746, 'extinguishment debt': 691, 'year net': 1993, 'non controlling': 1222, 'net income adjusted': 1188, 'ebitda million': 572, 'adjusted ebitda million': 70, 'open': 1263, 'store sales': 1796, 'immediate': 864, 'semiconductor': 1687, 'engineering': 608, 'year adjusted': 1986, 'earnings attributable': 549, 'venture': 1948, 'joint venture': 993, 'americas': 104, 'adjusted diluted eps': 64, 'currency translation': 425, 'foreign currency translation': 750, 'divestiture': 532, 'constant': 369, 'exit': 661, 'net revenues': 1206, 'constant currency': 370, 'currency basis': 422, 'acquisition integration': 32, 'constant currency basis': 371, 'ended december december': 595, 'depletion': 481, 'depreciation depletion': 485, 'mining': 1156, 'equivalent': 622, 'compared million period': 316, 'coal': 279, 'water': 1959, 'crude': 419, 'barrel': 171, 'crude oil': 420, 'barrels': 172, 'boe': 201, 'operations attributable': 1291, 'second quarter fiscal': 1667, 'continuing operations attributable': 388, 'aircraft': 98, 'passenger': 1331, 'division': 538, 'gold': 822, 'consulting': 373, 'utilization': 1939, 'segment ebitda': 1678, 'earnings continuing': 552, 'earnings continuing operations': 553, 'cents': 246, 'franchise': 764, 'operating earnings': 1276, 'silver': 1744, 'ounce': 1306, 'bbb': 182, 'hhhh': 846, 'bbb hhhh': 183, 'hhhh bbb': 847, 'bbb hhhh bbb': 184, 'hhhh bbb hhhh': 848}\n"
     ]
    },
    {
     "data": {
      "text/plain": [
       "                 Word  Count\n",
       "8                gaap  46793\n",
       "1055         adjusted  30494\n",
       "353          non gaap  28293\n",
       "203             sales  27446\n",
       "38               loss  25300\n",
       "383        net income  24976\n",
       "2             revenue  23094\n",
       "388      months ended  18163\n",
       "1570           ebitda  17013\n",
       "33           measures  15944\n",
       "286        activities  12955\n",
       "262          december  12860\n",
       "73             second  12163\n",
       "95           revenues  12163\n",
       "104      amortization  11885\n",
       "4           increased  11846\n",
       "219              debt  11705\n",
       "98            percent  11579\n",
       "1157           fourth  11427\n",
       "829           segment  11148\n",
       "1273   fourth quarter  11127\n",
       "395    second quarter  10944\n",
       "10             margin  10672\n",
       "108            impact  10616\n",
       "1642  adjusted ebitda  10548"
      ],
      "text/html": [
       "<div>\n",
       "<style scoped>\n",
       "    .dataframe tbody tr th:only-of-type {\n",
       "        vertical-align: middle;\n",
       "    }\n",
       "\n",
       "    .dataframe tbody tr th {\n",
       "        vertical-align: top;\n",
       "    }\n",
       "\n",
       "    .dataframe thead th {\n",
       "        text-align: right;\n",
       "    }\n",
       "</style>\n",
       "<table border=\"1\" class=\"dataframe\">\n",
       "  <thead>\n",
       "    <tr style=\"text-align: right;\">\n",
       "      <th></th>\n",
       "      <th>Word</th>\n",
       "      <th>Count</th>\n",
       "    </tr>\n",
       "  </thead>\n",
       "  <tbody>\n",
       "    <tr>\n",
       "      <th>8</th>\n",
       "      <td>gaap</td>\n",
       "      <td>46793</td>\n",
       "    </tr>\n",
       "    <tr>\n",
       "      <th>1055</th>\n",
       "      <td>adjusted</td>\n",
       "      <td>30494</td>\n",
       "    </tr>\n",
       "    <tr>\n",
       "      <th>353</th>\n",
       "      <td>non gaap</td>\n",
       "      <td>28293</td>\n",
       "    </tr>\n",
       "    <tr>\n",
       "      <th>203</th>\n",
       "      <td>sales</td>\n",
       "      <td>27446</td>\n",
       "    </tr>\n",
       "    <tr>\n",
       "      <th>38</th>\n",
       "      <td>loss</td>\n",
       "      <td>25300</td>\n",
       "    </tr>\n",
       "    <tr>\n",
       "      <th>383</th>\n",
       "      <td>net income</td>\n",
       "      <td>24976</td>\n",
       "    </tr>\n",
       "    <tr>\n",
       "      <th>2</th>\n",
       "      <td>revenue</td>\n",
       "      <td>23094</td>\n",
       "    </tr>\n",
       "    <tr>\n",
       "      <th>388</th>\n",
       "      <td>months ended</td>\n",
       "      <td>18163</td>\n",
       "    </tr>\n",
       "    <tr>\n",
       "      <th>1570</th>\n",
       "      <td>ebitda</td>\n",
       "      <td>17013</td>\n",
       "    </tr>\n",
       "    <tr>\n",
       "      <th>33</th>\n",
       "      <td>measures</td>\n",
       "      <td>15944</td>\n",
       "    </tr>\n",
       "    <tr>\n",
       "      <th>286</th>\n",
       "      <td>activities</td>\n",
       "      <td>12955</td>\n",
       "    </tr>\n",
       "    <tr>\n",
       "      <th>262</th>\n",
       "      <td>december</td>\n",
       "      <td>12860</td>\n",
       "    </tr>\n",
       "    <tr>\n",
       "      <th>73</th>\n",
       "      <td>second</td>\n",
       "      <td>12163</td>\n",
       "    </tr>\n",
       "    <tr>\n",
       "      <th>95</th>\n",
       "      <td>revenues</td>\n",
       "      <td>12163</td>\n",
       "    </tr>\n",
       "    <tr>\n",
       "      <th>104</th>\n",
       "      <td>amortization</td>\n",
       "      <td>11885</td>\n",
       "    </tr>\n",
       "    <tr>\n",
       "      <th>4</th>\n",
       "      <td>increased</td>\n",
       "      <td>11846</td>\n",
       "    </tr>\n",
       "    <tr>\n",
       "      <th>219</th>\n",
       "      <td>debt</td>\n",
       "      <td>11705</td>\n",
       "    </tr>\n",
       "    <tr>\n",
       "      <th>98</th>\n",
       "      <td>percent</td>\n",
       "      <td>11579</td>\n",
       "    </tr>\n",
       "    <tr>\n",
       "      <th>1157</th>\n",
       "      <td>fourth</td>\n",
       "      <td>11427</td>\n",
       "    </tr>\n",
       "    <tr>\n",
       "      <th>829</th>\n",
       "      <td>segment</td>\n",
       "      <td>11148</td>\n",
       "    </tr>\n",
       "    <tr>\n",
       "      <th>1273</th>\n",
       "      <td>fourth quarter</td>\n",
       "      <td>11127</td>\n",
       "    </tr>\n",
       "    <tr>\n",
       "      <th>395</th>\n",
       "      <td>second quarter</td>\n",
       "      <td>10944</td>\n",
       "    </tr>\n",
       "    <tr>\n",
       "      <th>10</th>\n",
       "      <td>margin</td>\n",
       "      <td>10672</td>\n",
       "    </tr>\n",
       "    <tr>\n",
       "      <th>108</th>\n",
       "      <td>impact</td>\n",
       "      <td>10616</td>\n",
       "    </tr>\n",
       "    <tr>\n",
       "      <th>1642</th>\n",
       "      <td>adjusted ebitda</td>\n",
       "      <td>10548</td>\n",
       "    </tr>\n",
       "  </tbody>\n",
       "</table>\n",
       "</div>"
      ]
     },
     "execution_count": 34,
     "metadata": {},
     "output_type": "execute_result"
    }
   ],
   "execution_count": 34
  },
  {
   "cell_type": "markdown",
   "source": [
    "### Requirement 2\n",
    "\n",
    "Using the Loughran and McDonald financial sentiment dictionary, compute overall sentiment using three measures:\n",
    "\n",
    "a) positive words / total words\n",
    "\n",
    "b) negative words / total words\n",
    "\n",
    "c) (positive words – negative words) / total words\n",
    "    \n",
    "First, load the LM Dictionary (file name is `LoughranMcDonald_SentimentWordLists_2018.xlsx`. Recall that the positive and negative terms are in separate sheets. Once you've loaded the language, store the positive and negative words in a list. I recommend converting to lower case at this stage.\n"
   ],
   "metadata": {
    "collapsed": false
   }
  },
  {
   "cell_type": "code",
   "source": [
    "lmdict = f\"{folder}/LoughranMcDonald_SentimentWordLists_2018.xlsx\"\n",
    "lmpos = pd.read_excel(lmdict,sheet_name='Positive',header=None,names=['word'])\n",
    "lmneg = pd.read_excel(lmdict,sheet_name='Negative',header=None,names=['word'])"
   ],
   "metadata": {
    "collapsed": false,
    "ExecuteTime": {
     "end_time": "2024-11-15T20:23:10.368842Z",
     "start_time": "2024-11-15T20:23:10.135550Z"
    }
   },
   "outputs": [],
   "execution_count": 36
  },
  {
   "cell_type": "code",
   "source": [
    "# save lower case version of each word in lmpos and lmneg in two sets\n",
    "pos = set(lmpos['word'].str.lower())  # Convert to lowercase and store in a set\n",
    "neg = set(lmneg['word'].str.lower()) "
   ],
   "metadata": {
    "collapsed": false,
    "ExecuteTime": {
     "end_time": "2024-11-15T20:25:22.607943Z",
     "start_time": "2024-11-15T20:25:22.604311Z"
    }
   },
   "outputs": [],
   "execution_count": 39
  },
  {
   "cell_type": "markdown",
   "source": [
    "Second, identify the indices in the vocabulary that correspond to positive and negative words."
   ],
   "metadata": {
    "collapsed": false
   }
  },
  {
   "cell_type": "code",
   "source": [
    "# Identify indices for positive and negative words in the vocabulary\n",
    "posidx = [v for k, v in vec.vocabulary_.items() if k in pos]\n",
    "negidx = [v for k, v in vec.vocabulary_.items() if k in neg]\n",
    "print(negidx)"
   ],
   "metadata": {
    "collapsed": false,
    "ExecuteTime": {
     "end_time": "2024-11-15T20:33:39.867456Z",
     "start_time": "2024-11-15T20:33:39.859887Z"
    }
   },
   "outputs": [
    {
     "name": "stdout",
     "output_type": "stream",
     "text": [
      "[458, 1059, 1176, 1604, 869, 520, 1852, 460, 1042, 697, 88, 1036, 872, 459, 1074, 1035, 1914, 473, 1177, 501, 476, 273, 881, 530, 277, 1956, 533, 254, 532, 481]\n"
     ]
    }
   ],
   "execution_count": 41
  },
  {
   "metadata": {},
   "cell_type": "markdown",
   "source": ""
  },
  {
   "cell_type": "markdown",
   "source": [
    "Third, compute the required sentiment measures and add them to the combined dataframe, `both`. Specifically add these three measures to the dataframe:\n",
    "\n",
    "a) `pos_pct` = positive words / total words\n",
    "\n",
    "b) `neg_pct` = negative words / total words\n",
    "\n",
    "c) `net_pos` = (positive words – negative words) / total words"
   ],
   "metadata": {
    "collapsed": false
   }
  },
  {
   "cell_type": "code",
   "source": [
    "poswords = np.asarray(dtm[:,posidx].sum(axis=1)).flatten()\n",
    "negwords = np.asarray(dtm[:,negidx].sum(axis=1)).flatten()\n",
    "totwords = np.asarray(dtm.sum(axis=1)).flatten()\n",
    "\n",
    "# Compute the sentiment measures\n",
    "both['pos_pct'] = poswords / totwords\n",
    "both['neg_pct'] = negwords / totwords\n",
    "both['net_pos'] = (poswords - negwords) / totwords"
   ],
   "metadata": {
    "collapsed": false,
    "ExecuteTime": {
     "end_time": "2024-11-15T21:09:40.285924Z",
     "start_time": "2024-11-15T21:09:40.269377Z"
    }
   },
   "outputs": [],
   "execution_count": 42
  },
  {
   "cell_type": "code",
   "source": "both[['pos_pct', 'neg_pct', 'net_pos']].describe().transpose()",
   "metadata": {
    "collapsed": false,
    "ExecuteTime": {
     "end_time": "2024-11-15T21:18:37.475794Z",
     "start_time": "2024-11-15T21:18:37.464183Z"
    }
   },
   "outputs": [
    {
     "data": {
      "text/plain": [
       "          count      mean       std       min       25%       50%       75%  \\\n",
       "pos_pct  2000.0  0.012726  0.005795  0.000583  0.008749  0.011907  0.015798   \n",
       "neg_pct  2000.0  0.017444  0.010692  0.000000  0.009298  0.015707  0.023848   \n",
       "net_pos  2000.0 -0.004718  0.011520 -0.049675 -0.011567 -0.003674  0.002980   \n",
       "\n",
       "              max  \n",
       "pos_pct  0.053219  \n",
       "neg_pct  0.063321  \n",
       "net_pos  0.041064  "
      ],
      "text/html": [
       "<div>\n",
       "<style scoped>\n",
       "    .dataframe tbody tr th:only-of-type {\n",
       "        vertical-align: middle;\n",
       "    }\n",
       "\n",
       "    .dataframe tbody tr th {\n",
       "        vertical-align: top;\n",
       "    }\n",
       "\n",
       "    .dataframe thead th {\n",
       "        text-align: right;\n",
       "    }\n",
       "</style>\n",
       "<table border=\"1\" class=\"dataframe\">\n",
       "  <thead>\n",
       "    <tr style=\"text-align: right;\">\n",
       "      <th></th>\n",
       "      <th>count</th>\n",
       "      <th>mean</th>\n",
       "      <th>std</th>\n",
       "      <th>min</th>\n",
       "      <th>25%</th>\n",
       "      <th>50%</th>\n",
       "      <th>75%</th>\n",
       "      <th>max</th>\n",
       "    </tr>\n",
       "  </thead>\n",
       "  <tbody>\n",
       "    <tr>\n",
       "      <th>pos_pct</th>\n",
       "      <td>2000.0</td>\n",
       "      <td>0.012726</td>\n",
       "      <td>0.005795</td>\n",
       "      <td>0.000583</td>\n",
       "      <td>0.008749</td>\n",
       "      <td>0.011907</td>\n",
       "      <td>0.015798</td>\n",
       "      <td>0.053219</td>\n",
       "    </tr>\n",
       "    <tr>\n",
       "      <th>neg_pct</th>\n",
       "      <td>2000.0</td>\n",
       "      <td>0.017444</td>\n",
       "      <td>0.010692</td>\n",
       "      <td>0.000000</td>\n",
       "      <td>0.009298</td>\n",
       "      <td>0.015707</td>\n",
       "      <td>0.023848</td>\n",
       "      <td>0.063321</td>\n",
       "    </tr>\n",
       "    <tr>\n",
       "      <th>net_pos</th>\n",
       "      <td>2000.0</td>\n",
       "      <td>-0.004718</td>\n",
       "      <td>0.011520</td>\n",
       "      <td>-0.049675</td>\n",
       "      <td>-0.011567</td>\n",
       "      <td>-0.003674</td>\n",
       "      <td>0.002980</td>\n",
       "      <td>0.041064</td>\n",
       "    </tr>\n",
       "  </tbody>\n",
       "</table>\n",
       "</div>"
      ]
     },
     "execution_count": 46,
     "metadata": {},
     "output_type": "execute_result"
    }
   ],
   "execution_count": 46
  },
  {
   "cell_type": "markdown",
   "source": [
    "### Requirement 3\n",
    "Answer these questions:\n",
    "\n",
    "a) How do each of these three measures correlate with returns?\n",
    "b) Are you surprised by this pattern? Why or why not?\n",
    "\n",
    "To answer 3A, simply generate a correlation matrix with the variables needed to assess the correlation between returns and sentiment:"
   ],
   "metadata": {
    "collapsed": false
   }
  },
  {
   "cell_type": "code",
   "execution_count": null,
   "outputs": [],
   "source": [
    "both[...].corr()"
   ],
   "metadata": {
    "collapsed": false
   }
  },
  {
   "cell_type": "markdown",
   "source": [
    "**Answer to 3B:**\n",
    "*Insert answer here*"
   ],
   "metadata": {
    "collapsed": false
   }
  },
  {
   "cell_type": "markdown",
   "source": [
    "### Requirement 4\n",
    "We'll now look at how you might start to construct your own dictionary. First, scale each row of the document term matrix by the total words in the document (i.e., so that the “counts” are proportions and sum to 1)."
   ],
   "metadata": {
    "collapsed": false
   }
  },
  {
   "cell_type": "code",
   "execution_count": null,
   "outputs": [],
   "source": [
    "dtm_scaled = ..."
   ],
   "metadata": {
    "collapsed": false
   }
  },
  {
   "cell_type": "markdown",
   "source": [
    "Using these percentages, generate correlations between each word count and returns. List the 25 words that correlate most positively with returns and most negatively with returns (50 total words). Report how many of these appear in the financial sentiment dictionary used in requirement 2."
   ],
   "metadata": {
    "collapsed": false
   }
  },
  {
   "cell_type": "code",
   "execution_count": null,
   "outputs": [],
   "source": [
    "dtm_ret = np.hstack([both['AbnReturn'].values.reshape(-1,1),dtm_scaled])\n",
    "corrs = np.corrcoef(dtm_ret,rowvar=False)"
   ],
   "metadata": {
    "collapsed": false
   }
  },
  {
   "cell_type": "markdown",
   "source": [
    "List the 25 words that correlate most positively with returns and most negatively with returns (50 total words) (BONUS POINT FOR REPORTING WORD + CORRELATION). "
   ],
   "metadata": {
    "collapsed": false
   }
  },
  {
   "cell_type": "code",
   "execution_count": null,
   "outputs": [],
   "source": [
    "ret_corrs = corrs[1:,0].flatten() # Grabs the first column, skipping upper left element\n",
    "print(\"Most Negative Words\")\n",
    "..."
   ],
   "metadata": {
    "collapsed": false
   }
  },
  {
   "cell_type": "code",
   "execution_count": null,
   "outputs": [],
   "source": [
    "print(\"Most Positive Words\")\n",
    "..."
   ],
   "metadata": {
    "collapsed": false
   }
  },
  {
   "cell_type": "markdown",
   "source": [
    "Finally, report how many of these appear in the financial sentiment dictionary used in requirement 2."
   ],
   "metadata": {
    "collapsed": false
   }
  },
  {
   "cell_type": "code",
   "execution_count": null,
   "outputs": [],
   "source": [
    "# Hint: See python's \"intersection()\" set method\n",
    "print(f\"There are {...} overlapping words for negative\")\n",
    "print(f\"There are {...} overlapping words for positive\")"
   ],
   "metadata": {
    "collapsed": false
   }
  },
  {
   "cell_type": "markdown",
   "source": [
    "### Requirement 5 (6046 only)\n",
    "\n",
    "Fit an LDA model using `sklearn` with 50 topics. Set the `random_state` to 123, and leave everything else at default settings. You can use the `dtm` you generated earlier. I recomment using `fit_transform()` so you have the topic matrix ready to analyze correlations."
   ],
   "metadata": {
    "collapsed": false
   }
  },
  {
   "cell_type": "code",
   "execution_count": null,
   "outputs": [],
   "source": [
    "from sklearn.decomposition import LatentDirichletAllocation as LDA\n",
    "lda = LDA(n_components=50,random_state=123)\n",
    "topics = ..."
   ],
   "metadata": {
    "collapsed": false
   }
  },
  {
   "cell_type": "markdown",
   "source": [
    "Next, generate correlations between `AbnReturn` and topic weights for each of the 2,000 earnings press releases (HINT: This will be very similar to the prior step, except you do not need to scale the topics matrix by total words)."
   ],
   "metadata": {
    "collapsed": false
   }
  },
  {
   "cell_type": "code",
   "execution_count": null,
   "outputs": [],
   "source": [
    "top_ret = np.hstack(...)\n",
    "corrs_top = ...\n",
    "ret_top_corrs = ... # grab the first row or first column of corrs_top"
   ],
   "metadata": {
    "collapsed": false
   }
  },
  {
   "cell_type": "markdown",
   "source": [
    "Now, identify the topic that correlates most positively and most negatively with returns. Report the 10 words most relevant to that topics. I've provided a function you can use to access those words."
   ],
   "metadata": {
    "collapsed": false
   }
  },
  {
   "cell_type": "code",
   "execution_count": null,
   "outputs": [],
   "source": [
    "def get_topic_words(topic,top_word,vocab,topn=5):\n",
    "    top_words = top_word[topic,:].argsort()[-topn:][::-1].tolist() # from left to right: access row for topic, argsort, obtain final topn words, reverse the sort order\n",
    "    return vocab[top_words]\n",
    "\n",
    "mostpos = ...\n",
    "mostneg = ...\n"
   ],
   "metadata": {
    "collapsed": false
   }
  },
  {
   "cell_type": "code",
   "execution_count": null,
   "outputs": [],
   "source": [
    "print(\"Words for most positive topic:\")\n",
    "print(f\"{'|'.join(get_topic_words(mostpos,lda.components_,vocab,topn=10))}\")"
   ],
   "metadata": {
    "collapsed": false
   }
  },
  {
   "cell_type": "code",
   "execution_count": null,
   "outputs": [],
   "source": [
    "print(\"Words for most negative topic:\")\n",
    "print(f\"{'|'.join(get_topic_words(mostneg,lda.components_,vocab,topn=10))}\")"
   ],
   "metadata": {
    "collapsed": false
   }
  },
  {
   "cell_type": "markdown",
   "source": [
    "**Final Question:** \n",
    "Do you find the topic pattern intuitive? In your opinion, does the topic-based approach appear to better identify themes that should correlate with returns?"
   ],
   "metadata": {
    "collapsed": false
   }
  },
  {
   "cell_type": "markdown",
   "source": [],
   "metadata": {
    "collapsed": false
   }
  }
 ],
 "metadata": {
  "kernelspec": {
   "display_name": "Python 3",
   "language": "python",
   "name": "python3"
  },
  "language_info": {
   "codemirror_mode": {
    "name": "ipython",
    "version": 2
   },
   "file_extension": ".py",
   "mimetype": "text/x-python",
   "name": "python",
   "nbconvert_exporter": "python",
   "pygments_lexer": "ipython2",
   "version": "2.7.6"
  }
 },
 "nbformat": 4,
 "nbformat_minor": 0
}
